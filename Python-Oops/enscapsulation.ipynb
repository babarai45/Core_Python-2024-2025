{
 "cells": [
  {
   "cell_type": "markdown",
   "metadata": {},
   "source": [
    "# Enscapulation in Python "
   ]
  },
  {
   "cell_type": "markdown",
   "metadata": {},
   "source": [
    "### What is Encapsulation?\n",
    "\n",
    "Ensapsulation is one of the four fundamental OOP concepts. The other three are inheritance, polymorphism, and abstraction.\n",
    "\n",
    "Encapsulation is the technique of making the fields in a class private and providing access to the fields via public methods. It is a protective barrier that keeps the data safe within the class and hides the data from the outside world.\n",
    "\n",
    "### python encapsulation is not strict as in other languages like Java, C++ etc.\n",
    "##### three methods of encapusolation in python\n",
    "- 1.Access modifiers(__private, _protected, public(bysdefault))\n",
    "- 2.Using Getters and Setters \n",
    "- 3.Using property() function or decorators\n"
   ]
  },
  {
   "cell_type": "markdown",
   "metadata": {},
   "source": [
    "# Access Modifiers"
   ]
  },
  {
   "cell_type": "code",
   "execution_count": 1,
   "metadata": {},
   "outputs": [
    {
     "name": "stdout",
     "output_type": "stream",
     "text": [
      "10\n"
     ]
    }
   ],
   "source": [
    "# Public class for the node\n",
    "class Node:\n",
    "    def __init__(self, data):\n",
    "        self.data = data\n",
    "        self.next = None\n",
    "\n",
    "# we can access the node class by creating an object of the class\n",
    "node = Node(10)\n",
    "print(node.data)"
   ]
  },
  {
   "cell_type": "code",
   "execution_count": 3,
   "metadata": {},
   "outputs": [
    {
     "name": "stdout",
     "output_type": "stream",
     "text": [
      "Protected member of the parent class:  20\n",
      "20\n"
     ]
    }
   ],
   "source": [
    "# make protected class \n",
    "class Node:\n",
    "    def __init__(self, data):\n",
    "        self._data = data\n",
    "        self._next = None\n",
    "        # these are only accessible within the classes (parent and child classes) and not outside the class\n",
    "        # we can access them by creating an object of the class\n",
    "class B(Node):\n",
    "    # Accessing the parent calss protected members \n",
    "    def __init__(self, data):\n",
    "        Node.__init__(self, data)\n",
    "        print(\"Protected member of the parent class: \", self._data)\n",
    "b = B(20)\n",
    "print(b._data) # we can't access the protected member outside the class\n"
   ]
  },
  {
   "cell_type": "code",
   "execution_count": 7,
   "metadata": {},
   "outputs": [
    {
     "ename": "AttributeError",
     "evalue": "'A' object has no attribute '__balance'",
     "output_type": "error",
     "traceback": [
      "\u001b[0;31m---------------------------------------------------------------------------\u001b[0m",
      "\u001b[0;31mAttributeError\u001b[0m                            Traceback (most recent call last)",
      "Cell \u001b[0;32mIn[7], line 7\u001b[0m\n\u001b[1;32m      5\u001b[0m         \u001b[38;5;28mself\u001b[39m\u001b[38;5;241m.\u001b[39m__balance \u001b[38;5;241m=\u001b[39m balance   \u001b[38;5;66;03m# private member\u001b[39;00m\n\u001b[1;32m      6\u001b[0m obj \u001b[38;5;241m=\u001b[39m A(\u001b[38;5;124m\"\u001b[39m\u001b[38;5;124mJohn\u001b[39m\u001b[38;5;124m\"\u001b[39m, \u001b[38;5;241m1000\u001b[39m)\n\u001b[0;32m----> 7\u001b[0m \u001b[38;5;28mprint\u001b[39m(\u001b[38;5;124mf\u001b[39m\u001b[38;5;124m'\u001b[39m\u001b[38;5;124mName: \u001b[39m\u001b[38;5;132;01m{\u001b[39;00mobj\u001b[38;5;241m.\u001b[39mname\u001b[38;5;132;01m}\u001b[39;00m\u001b[38;5;124m'\u001b[39m, \u001b[38;5;124mf\u001b[39m\u001b[38;5;124m'\u001b[39m\u001b[38;5;124mBalance: \u001b[39m\u001b[38;5;132;01m{\u001b[39;00mobj\u001b[38;5;241m.\u001b[39m__balance\u001b[38;5;132;01m}\u001b[39;00m\u001b[38;5;124m'\u001b[39m)\n",
      "\u001b[0;31mAttributeError\u001b[0m: 'A' object has no attribute '__balance'"
     ]
    }
   ],
   "source": [
    "# Private class \n",
    "class A:\n",
    "    def __init__(self,name,balance):\n",
    "        self.name = name            # public member\n",
    "        self.__balance = balance   # private member\n",
    "obj = A(\"John\", 1000)\n",
    "print(f'Name: {obj.name}', f'Balance: {obj.__balance}') # we can't access the private member outside the class"
   ]
  },
  {
   "cell_type": "code",
   "execution_count": 9,
   "metadata": {},
   "outputs": [
    {
     "name": "stdout",
     "output_type": "stream",
     "text": [
      "Name: John Balance: 1000\n",
      "None\n"
     ]
    }
   ],
   "source": [
    "# Private class \n",
    "class A:\n",
    "    def __init__(self,name,balance):\n",
    "        self.name = name            # public member\n",
    "        self.__balance = balance   # private member\n",
    "    def display(self):\n",
    "        print(f'Name: {self.name}', f'Balance: {self.__balance}') # here we giving self access to the private member\n",
    "obj = A(\"John\", 1000)\n",
    "print(obj.display()) # we can't access the private member outside the class"
   ]
  },
  {
   "cell_type": "code",
   "execution_count": 15,
   "metadata": {},
   "outputs": [
    {
     "name": "stdout",
     "output_type": "stream",
     "text": [
      "Name : Baba Balance: Not allowed\n"
     ]
    }
   ],
   "source": [
    "# Private class \n",
    "class A:\n",
    "    def __init__(self,name,balance):\n",
    "        self.name = name            # public member\n",
    "        self.__balance = balance   # private member\n",
    "    def get_balance(self):\n",
    "        if self.name == \"Babar\":\n",
    "            return self.__balance\n",
    "        return \"Not allowed\"\n",
    "obj = A(\"Babar\", 1000)\n",
    "print(f'Name : {obj.name}', f'Balance: {obj.get_balance()}') # we can't access the private member outside the class\n"
   ]
  },
  {
   "cell_type": "code",
   "execution_count": 16,
   "metadata": {},
   "outputs": [
    {
     "name": "stdout",
     "output_type": "stream",
     "text": [
      "Name : ali Balance: Not allowed\n"
     ]
    }
   ],
   "source": [
    "# Private class \n",
    "class A:\n",
    "    def __init__(self,name,balance):\n",
    "        self.name = name            # public member\n",
    "        self.__balance = balance   # private member\n",
    "    def get_balance(self):\n",
    "        if self.name == \"Babar\":\n",
    "            return self.__balance\n",
    "        return \"Not allowed\"\n",
    "obj = A(\"ali\", 1000)\n",
    "print(f'Name : {obj.name}', f'Balance: {obj.get_balance()}') # we can't access the private member outside the class\n"
   ]
  },
  {
   "cell_type": "code",
   "execution_count": 18,
   "metadata": {},
   "outputs": [
    {
     "name": "stdout",
     "output_type": "stream",
     "text": [
      "Name : ali Balance: Not allowed\n",
      "1000\n"
     ]
    }
   ],
   "source": [
    "# Private class \n",
    "class A:\n",
    "    def __init__(self,name,balance):\n",
    "        self.name = name            # public member\n",
    "        self.__balance = balance   # private member\n",
    "    def get_balance(self):\n",
    "        if self.name == \"Babar\":\n",
    "            return self.__balance\n",
    "        return \"Not allowed\"\n",
    "obj = A(\"ali\", 1000)\n",
    "print(f'Name : {obj.name}', f'Balance: {obj.get_balance()}') # we can't access the private member outside the class\n",
    "\n",
    "# but we can access the private member by using the name mangling \n",
    "print(obj._A__balance) # we can't access the private member outside the class"
   ]
  },
  {
   "cell_type": "code",
   "execution_count": 19,
   "metadata": {},
   "outputs": [
    {
     "name": "stdout",
     "output_type": "stream",
     "text": [
      "Name : Babar Balance: 1000\n"
     ]
    }
   ],
   "source": [
    "# now using Getter and Setter methods\n",
    "class A:\n",
    "    def __init__(self,name,balance):\n",
    "        self.name = name            # public member\n",
    "        self.__balance = balance   # private member\n",
    "    def get_balance(self):\n",
    "        if self.name == \"Babar\":\n",
    "            return self.__balance\n",
    "        return \"Not allowed\"\n",
    "    def set_balance(self, balance):\n",
    "        self.__balance = balance\n",
    "obj = A(\"Babar\", 1000)\n",
    "print(f'Name : {obj.name}', f'Balance: {obj.get_balance()}') # we can't access the private member outside the class"
   ]
  },
  {
   "cell_type": "code",
   "execution_count": 20,
   "metadata": {},
   "outputs": [
    {
     "name": "stdout",
     "output_type": "stream",
     "text": [
      "Name : Babar Balance: 1000\n"
     ]
    }
   ],
   "source": [
    "# using proerty decorator\n",
    "class A:\n",
    "    def __init__(self,name,balance):\n",
    "        self.name = name            # public member\n",
    "        self.__balance = balance   # private member\n",
    "    @property\n",
    "    def balance(self):\n",
    "        return self.__balance\n",
    "    @balance.setter\n",
    "    def balance(self, balance):\n",
    "        self.__balance = balance\n",
    "obj = A(\"Babar\", 1000)\n",
    "print(f'Name : {obj.name}', f'Balance: {obj.balance}') # we can't access the private member outside the class"
   ]
  },
  {
   "cell_type": "code",
   "execution_count": null,
   "metadata": {},
   "outputs": [],
   "source": []
  },
  {
   "cell_type": "markdown",
   "metadata": {},
   "source": [
    "**Name mangling** is a mechanism in Python used to make class attributes more secure and to avoid accidental overriding when a class is inherited. It’s a way Python internally changes the name of a variable or method to make it harder to access them from outside the class, especially for **private** members.\n",
    "\n",
    "### **How Name Mangling Works**:\n",
    "- When you define an attribute or method with **double underscores** (`__`) at the beginning of its name in a class, Python automatically modifies its name by adding the class name as a prefix. This makes it harder to access that attribute or method from outside the class, simulating private access.\n",
    "- This name mangling is done internally by Python to prevent accidental access to these variables, especially in the case of inheritance where the subclass might accidentally override the private attributes.\n",
    "\n",
    "### **Why Use Name Mangling?**\n",
    "- To create **pseudo-private** attributes in Python. Although Python doesn't enforce strict private variables like other languages (e.g., C++ or Java), name mangling provides a level of protection from unintended access or modification.\n",
    "- It helps **avoid accidental conflicts** with names in subclasses when inheritance is involved.\n",
    "\n",
    "---\n",
    "\n",
    "### **How to Use Name Mangling (Private Members)**:\n",
    "- To declare a **private** attribute or method, you start its name with **two underscores** (`__`).\n",
    "\n",
    "Example:\n",
    "\n",
    "```python\n",
    "class Test:\n",
    "    def __init__(self):\n",
    "        self.__private_variable = \"This is private\"\n",
    "\n",
    "    def __private_method(self):\n",
    "        print(\"This is a private method\")\n",
    "\n",
    "    def public_method(self):\n",
    "        print(self.__private_variable)\n",
    "        self.__private_method()\n",
    "\n",
    "# Create an object of Test class\n",
    "obj = Test()\n",
    "\n",
    "# Accessing private members directly (will fail)\n",
    "# print(obj.__private_variable)  # Raises AttributeError\n",
    "\n",
    "# Calling the public method to access private members indirectly (works)\n",
    "obj.public_method()\n",
    "\n",
    "# Accessing private members via name mangling\n",
    "print(obj._Test__private_variable)  # This works (This is private)\n",
    "```\n",
    "\n",
    "**Explanation**:\n",
    "- `__private_variable` is name-mangled to `_Test__private_variable` internally.\n",
    "- Directly accessing `__private_variable` or `__private_method` will raise an `AttributeError`.\n",
    "- However, you can still access it using the mangled name `_Test__private_variable`, but it's discouraged because it goes against the principle of encapsulation.\n",
    "\n",
    "---\n",
    "\n",
    "### **Key Points**:\n",
    "1. **Name Mangling**: Adds a class-specific prefix (e.g., `_ClassName`) to attributes or methods that start with double underscores (`__`).\n",
    "2. **Purpose**: Prevent accidental access or modification of private attributes, especially in the context of inheritance.\n",
    "3. **Access**: You can still access these attributes using their mangled name, but it’s considered bad practice.\n",
    "\n",
    "Name mangling is a feature that enhances encapsulation in Python, providing a way to protect class members while allowing flexibility when absolutely necessary."
   ]
  },
  {
   "cell_type": "markdown",
   "metadata": {},
   "source": []
  },
  {
   "cell_type": "markdown",
   "metadata": {},
   "source": []
  },
  {
   "cell_type": "markdown",
   "metadata": {},
   "source": []
  },
  {
   "cell_type": "markdown",
   "metadata": {},
   "source": [
    "You're right in observing that **name mangling** is not a fully secure way to protect class attributes in Python—it simply discourages casual access to private variables, but determined users can still access them using the mangled name. Python's philosophy leans towards **\"we are all consenting adults\"**, meaning it provides mechanisms to signal intent (like name mangling) rather than strictly enforcing access restrictions.\n",
    "\n",
    "If you need **stronger protection** for sensitive data, like API keys, passwords, or sensitive business logic, it's better to go beyond basic encapsulation and use third-party libraries or more secure practices. Here are some ways to enhance security:\n",
    "\n",
    "---\n",
    "\n",
    "### **1. Using Property Decorators with Validation or Encryption**\n",
    "\n",
    "You can use Python’s `@property` decorator to create getter and setter methods, which can validate or encrypt data before storing or accessing it.\n",
    "\n",
    "#### **Example: Using Property with Validation**\n",
    "```python\n",
    "class SecureData:\n",
    "    def __init__(self):\n",
    "        self.__password = None\n",
    "\n",
    "    @property\n",
    "    def password(self):\n",
    "        raise ValueError(\"Direct access to the password is not allowed!\")\n",
    "\n",
    "    @password.setter\n",
    "    def password(self, pwd):\n",
    "        if len(pwd) < 8:\n",
    "            raise ValueError(\"Password must be at least 8 characters long!\")\n",
    "        self.__password = pwd  # Store password securely after validation\n",
    "\n",
    "# Usage\n",
    "secure_obj = SecureData()\n",
    "secure_obj.password = \"mypassword123\"  # Sets password\n",
    "# print(secure_obj.password)  # Raises ValueError: Direct access to the password is not allowed!\n",
    "```\n",
    "\n",
    "This approach gives you control over how attributes are accessed and modified, ensuring secure data handling.\n",
    "\n",
    "---\n",
    "\n",
    "### **2. Using Third-Party Libraries for Encryption**\n",
    "\n",
    "If you're dealing with **sensitive data** like passwords or personal information, it's important to store that data securely. One way to achieve this is by using encryption via third-party libraries such as `cryptography` or `pycryptodome`.\n",
    "\n",
    "#### **Example: Encrypting and Decrypting Data with Cryptography**\n",
    "\n",
    "1. First, install the `cryptography` package:\n",
    "   ```\n",
    "   pip install cryptography\n",
    "   ```\n",
    "\n",
    "2. Example of encrypting a password before storing it:\n",
    "\n",
    "```python\n",
    "from cryptography.fernet import Fernet\n",
    "\n",
    "class SecureData:\n",
    "    def __init__(self):\n",
    "        # Generate an encryption key\n",
    "        self.__key = Fernet.generate_key()\n",
    "        self.__cipher = Fernet(self.__key)\n",
    "        self.__encrypted_password = None\n",
    "\n",
    "    def set_password(self, password):\n",
    "        # Encrypt password before storing\n",
    "        self.__encrypted_password = self.__cipher.encrypt(password.encode())\n",
    "        print(\"Password encrypted and stored securely!\")\n",
    "\n",
    "    def get_password(self):\n",
    "        # Decrypt password when accessing it\n",
    "        if self.__encrypted_password:\n",
    "            return self.__cipher.decrypt(self.__encrypted_password).decode()\n",
    "        else:\n",
    "            raise ValueError(\"No password set!\")\n",
    "\n",
    "# Usage\n",
    "secure_obj = SecureData()\n",
    "secure_obj.set_password(\"supersecretpassword\")\n",
    "print(secure_obj.get_password())  # Outputs: supersecretpassword\n",
    "```\n",
    "\n",
    "**Explanation**:\n",
    "- **Encryption**: The `Fernet` cipher is used to encrypt the password, ensuring that even if someone gains access to the object, they can’t directly read the password without decrypting it.\n",
    "- **Key Management**: The encryption key (`self.__key`) should be securely stored (not hardcoded in the class) or retrieved from a secure source like a key vault.\n",
    "\n",
    "---\n",
    "\n",
    "### **3. Using Environment Variables for Sensitive Information**\n",
    "\n",
    "It's a best practice to store sensitive information like API keys or database credentials in **environment variables** rather than hardcoding them into your Python code. This keeps your sensitive data out of source control and makes it harder for attackers to access.\n",
    "\n",
    "#### **Example: Accessing Sensitive Data via Environment Variables**\n",
    "```python\n",
    "import os\n",
    "\n",
    "class DatabaseConnection:\n",
    "    def __init__(self):\n",
    "        # Fetch credentials from environment variables\n",
    "        self.__db_user = os.getenv(\"DB_USER\")\n",
    "        self.__db_password = os.getenv(\"DB_PASSWORD\")\n",
    "\n",
    "    def connect(self):\n",
    "        if not self.__db_user or not self.__db_password:\n",
    "            raise ValueError(\"Database credentials are not set!\")\n",
    "        print(f\"Connecting to the database with user: {self.__db_user}\")\n",
    "\n",
    "# Usage (assuming environment variables are set)\n",
    "# export DB_USER=myuser\n",
    "# export DB_PASSWORD=mypassword\n",
    "db_conn = DatabaseConnection()\n",
    "db_conn.connect()\n",
    "```\n",
    "\n",
    "**Benefits**:\n",
    "- Environment variables can be managed securely on different platforms (e.g., cloud services, Docker containers).\n",
    "- Sensitive data is not hardcoded in the application, reducing the risk of exposure.\n",
    "\n",
    "---\n",
    "\n",
    "### **4. Using Secret Management Services**\n",
    "\n",
    "For highly secure systems, it's recommended to use **secret management services**. Cloud providers and third-party platforms offer services to securely manage sensitive information like API keys, passwords, and certificates.\n",
    "\n",
    "- **AWS Secrets Manager**: Securely stores and retrieves secrets (e.g., database credentials) from AWS applications.\n",
    "- **Google Cloud Secret Manager**: Centralized secret management in Google Cloud.\n",
    "- **HashiCorp Vault**: Open-source tool for managing secrets, tokens, encryption keys, and other sensitive information.\n",
    "  \n",
    "These services provide:\n",
    "- **Encryption at rest** for secrets.\n",
    "- **Access control** using role-based policies.\n",
    "- **Audit logging** to track access to secrets.\n",
    "\n",
    "---\n",
    "\n",
    "### **5. Secure APIs and Authentication**\n",
    "\n",
    "If you're dealing with web APIs or user authentication systems, ensure the following:\n",
    "- Use **OAuth2** for token-based authentication (e.g., with libraries like `oauthlib` or `authlib`).\n",
    "- Ensure that sensitive API keys or tokens are stored securely (e.g., using environment variables, secret management, or encryption).\n",
    "\n",
    "#### **Example: Secure API Access Using OAuth2**\n",
    "```python\n",
    "from requests_oauthlib import OAuth2Session\n",
    "\n",
    "class SecureAPI:\n",
    "    def __init__(self, client_id, client_secret, token_url):\n",
    "        self.oauth = OAuth2Session(client_id)\n",
    "        self.token = self.oauth.fetch_token(token_url=token_url, client_id=client_id, client_secret=client_secret)\n",
    "\n",
    "    def get_data(self, url):\n",
    "        response = self.oauth.get(url)\n",
    "        return response.json()\n",
    "\n",
    "# Usage (client_id and client_secret should be stored securely)\n",
    "client_id = \"your-client-id\"\n",
    "client_secret = \"your-client-secret\"\n",
    "token_url = \"https://example.com/token\"\n",
    "\n",
    "api = SecureAPI(client_id, client_secret, token_url)\n",
    "data = api.get_data(\"https://example.com/api/data\")\n",
    "```\n",
    "\n",
    "**Explanation**:\n",
    "- OAuth2 is used to securely authenticate and access the API, avoiding the need to expose sensitive tokens or credentials.\n",
    "\n",
    "---\n",
    "\n",
    "### **Summary: Securing Sensitive Data in Python**\n",
    "1. **Encapsulation**: Use private attributes with name mangling and control access through getter/setter methods.\n",
    "2. **Encryption**: For highly sensitive data, use libraries like `cryptography` to encrypt data before storing or transmitting it.\n",
    "3. **Environment Variables**: Store sensitive data like API keys in environment variables.\n",
    "4. **Secret Management**: Use third-party secret management services for robust security.\n",
    "5. **API Security**: Use OAuth2 for secure API access and token-based authentication.\n",
    "\n",
    "\n",
    "These methods combined will help you build secure, robust Python applications where sensitive data is well-protected."
   ]
  },
  {
   "cell_type": "markdown",
   "metadata": {},
   "source": []
  }
 ],
 "metadata": {
  "kernelspec": {
   "display_name": "base",
   "language": "python",
   "name": "python3"
  },
  "language_info": {
   "codemirror_mode": {
    "name": "ipython",
    "version": 3
   },
   "file_extension": ".py",
   "mimetype": "text/x-python",
   "name": "python",
   "nbconvert_exporter": "python",
   "pygments_lexer": "ipython3",
   "version": "3.12.4"
  }
 },
 "nbformat": 4,
 "nbformat_minor": 2
}
