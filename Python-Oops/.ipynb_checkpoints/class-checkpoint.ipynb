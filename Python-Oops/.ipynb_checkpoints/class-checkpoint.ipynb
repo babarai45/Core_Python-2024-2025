{
 "cells": [
  {
   "cell_type": "code",
   "execution_count": 1,
   "metadata": {
    "jupyter": {
     "is_executing": true
    }
   },
   "outputs": [
    {
     "name": "stdout",
     "output_type": "stream",
     "text": [
      "Hello World\n"
     ]
    }
   ],
   "source": [
    "print(\"Hello World\")"
   ]
  },
  {
   "cell_type": "code",
   "execution_count": 2,
   "metadata": {},
   "outputs": [],
   "source": [
    "#  Example of 2 products with same brands name "
   ]
  },
  {
   "cell_type": "code",
   "execution_count": 9,
   "metadata": {
    "jupyter": {
     "is_executing": true
    }
   },
   "outputs": [
    {
     "name": "stdout",
     "output_type": "stream",
     "text": [
      "Product name is Laptop and brand is Apple\n",
      "Apple\n",
      "Apple\n"
     ]
    }
   ],
   "source": [
    "class Product:   # instance class \n",
    "    brand = 'Apple'   # class attribute  (shareable with all objects )\n",
    "    def __init__(self,name):   # magic ,special,dunder or constructor, initializer \n",
    "        self.name = name       #  instance attribute (not shareable with all objects )\n",
    "    def display(self):\n",
    "        # instens method or regualer methood or normal method \n",
    "        return f\"Product name is {self.name} and brand is {Product.brand}\"\n",
    "p1 = Product(\"Laptop\")\n",
    "print(p1.display())\n",
    "print(p1.brand)\n",
    "print(Product.brand)\n",
    "\n",
    "# Notic :\n",
    "# in this example in display we call brand by Direct Product Object "
   ]
  },
  {
   "cell_type": "code",
   "execution_count": 10,
   "metadata": {},
   "outputs": [],
   "source": [
    "# access by instance object p1 "
   ]
  },
  {
   "cell_type": "code",
   "execution_count": 11,
   "metadata": {},
   "outputs": [
    {
     "name": "stdout",
     "output_type": "stream",
     "text": [
      "Product name is Laptop and brand is Apple\n",
      "Apple\n",
      "Apple\n"
     ]
    }
   ],
   "source": [
    "class Product:   # instance class \n",
    "    brand = 'Apple'   # class attribute  (shareable with all objects )\n",
    "    def __init__(self,name):   # magic ,special,dunder or constructor, initializer \n",
    "        self.name = name       #  instance attribute (not shareable with all objects )\n",
    "    def display(self):\n",
    "        return f\"Product name is {self.name} and brand is {p1.brand}\"\n",
    "p1 = Product(\"Laptop\")\n",
    "print(p1.display())\n",
    "print(p1.brand)\n",
    "print(Product.brand)\n",
    "\n",
    "# Notic :\n",
    "# in this example in display we call brand by instance object by P1 "
   ]
  },
  {
   "cell_type": "code",
   "execution_count": 12,
   "metadata": {},
   "outputs": [],
   "source": [
    "# access brand by self kewoord of magic method "
   ]
  },
  {
   "cell_type": "code",
   "execution_count": 37,
   "metadata": {},
   "outputs": [
    {
     "name": "stdout",
     "output_type": "stream",
     "text": [
      "Product name is Laptop and brand is Apple\n",
      "Apple\n",
      "Apple\n",
      "Product name is Mobile and brand is Apple\n"
     ]
    }
   ],
   "source": [
    "class Product:   # instance class \n",
    "    brand = 'Apple'   # class attribute  (shareable with all objects )\n",
    "    def __init__(self,name):   # magic, special, dunder or constructor, initializer \n",
    "        self.name = name       #  instance attribute (not shareable with all objects )\n",
    "    def display(self):\n",
    "        return f\"Product name is {self.name} and brand is {self.brand}\"\n",
    "p1 = Product(\"Laptop\")\n",
    "print(p1.display())\n",
    "print(p1.brand)\n",
    "print(Product.brand)\n",
    "p2 = Product(\"Mobile\")\n",
    "print(p2.display())\n",
    "\n",
    "\n",
    "# Notic :\n",
    "# in this example in display we call brand by self keyword from constructor or magic method "
   ]
  },
  {
   "cell_type": "code",
   "execution_count": 16,
   "metadata": {},
   "outputs": [],
   "source": [
    "# but now we are try access instance attribute with same objects "
   ]
  },
  {
   "cell_type": "code",
   "execution_count": null,
   "metadata": {},
   "outputs": [],
   "source": []
  },
  {
   "cell_type": "code",
   "execution_count": 19,
   "metadata": {},
   "outputs": [
    {
     "ename": "AttributeError",
     "evalue": "type object 'Product' has no attribute 'name'",
     "output_type": "error",
     "traceback": [
      "\u001b[0;31m---------------------------------------------------------------------------\u001b[0m",
      "\u001b[0;31mAttributeError\u001b[0m                            Traceback (most recent call last)",
      "Cell \u001b[0;32mIn[19], line 8\u001b[0m\n\u001b[1;32m      6\u001b[0m         \u001b[38;5;28;01mreturn\u001b[39;00m \u001b[38;5;124mf\u001b[39m\u001b[38;5;124m\"\u001b[39m\u001b[38;5;124mProduct name is \u001b[39m\u001b[38;5;132;01m{\u001b[39;00mProduct\u001b[38;5;241m.\u001b[39mname\u001b[38;5;132;01m}\u001b[39;00m\u001b[38;5;124m and brand is \u001b[39m\u001b[38;5;132;01m{\u001b[39;00mProduct\u001b[38;5;241m.\u001b[39mbrand\u001b[38;5;132;01m}\u001b[39;00m\u001b[38;5;124m\"\u001b[39m\n\u001b[1;32m      7\u001b[0m p1 \u001b[38;5;241m=\u001b[39m Product(\u001b[38;5;124m\"\u001b[39m\u001b[38;5;124mLaptop\u001b[39m\u001b[38;5;124m\"\u001b[39m)\n\u001b[0;32m----> 8\u001b[0m \u001b[38;5;28mprint\u001b[39m(p1\u001b[38;5;241m.\u001b[39mdisplay())\n\u001b[1;32m      9\u001b[0m \u001b[38;5;28mprint\u001b[39m(p1\u001b[38;5;241m.\u001b[39mbrand)\n\u001b[1;32m     10\u001b[0m \u001b[38;5;28mprint\u001b[39m(Product\u001b[38;5;241m.\u001b[39mbrand)\n",
      "Cell \u001b[0;32mIn[19], line 6\u001b[0m, in \u001b[0;36mProduct.display\u001b[0;34m(self)\u001b[0m\n\u001b[1;32m      5\u001b[0m \u001b[38;5;28;01mdef\u001b[39;00m \u001b[38;5;21mdisplay\u001b[39m(\u001b[38;5;28mself\u001b[39m):\n\u001b[0;32m----> 6\u001b[0m     \u001b[38;5;28;01mreturn\u001b[39;00m \u001b[38;5;124mf\u001b[39m\u001b[38;5;124m\"\u001b[39m\u001b[38;5;124mProduct name is \u001b[39m\u001b[38;5;132;01m{\u001b[39;00mProduct\u001b[38;5;241m.\u001b[39mname\u001b[38;5;132;01m}\u001b[39;00m\u001b[38;5;124m and brand is \u001b[39m\u001b[38;5;132;01m{\u001b[39;00mProduct\u001b[38;5;241m.\u001b[39mbrand\u001b[38;5;132;01m}\u001b[39;00m\u001b[38;5;124m\"\u001b[39m\n",
      "\u001b[0;31mAttributeError\u001b[0m: type object 'Product' has no attribute 'name'"
     ]
    }
   ],
   "source": [
    "class Product:   # instance class \n",
    "    brand = 'Apple'   # class attribute  (shareable with all objects )\n",
    "    def __init__(self,name):   # magic ,special,dunder or constructor, initializer \n",
    "        self.name = name       #  instance attribute (not shareable with all objects )\n",
    "    def display(self):\n",
    "        return f\"Product name is {Product.name} and brand is {Product.brand}\"\n",
    "p1 = Product(\"Laptop\")\n",
    "print(p1.display())\n",
    "print(p1.brand)\n",
    "print(Product.brand)\n",
    "\n",
    "# Notic :\n",
    "# in this example in display we call product name  by Direct Product Object \n",
    "# it show error   mean instance attribute notshareble with Product object "
   ]
  },
  {
   "cell_type": "code",
   "execution_count": 20,
   "metadata": {},
   "outputs": [
    {
     "name": "stdout",
     "output_type": "stream",
     "text": [
      "Product name is Laptop and brand is Apple\n",
      "Apple\n",
      "Apple\n"
     ]
    }
   ],
   "source": [
    "class Product:   # instance class \n",
    "    brand = 'Apple'   # class attribute  (shareable with all objects )\n",
    "    def __init__(self,name):   # magic ,special,dunder or constructor, initializer \n",
    "        self.name = name       #  instance attribute (not shareable with all objects )\n",
    "    def display(self):\n",
    "        return f\"Product name is {p1.name} and brand is {Product.brand}\"\n",
    "p1 = Product(\"Laptop\")\n",
    "print(p1.display())\n",
    "print(p1.brand)\n",
    "print(Product.brand)\n",
    "\n",
    "# Notic :\n",
    "# In this example in the display we call the product name  by p1 by Product Object \n",
    "# "
   ]
  },
  {
   "cell_type": "code",
   "execution_count": 21,
   "metadata": {},
   "outputs": [],
   "source": [
    "# calling by self"
   ]
  },
  {
   "cell_type": "code",
   "execution_count": 22,
   "metadata": {},
   "outputs": [
    {
     "name": "stdout",
     "output_type": "stream",
     "text": [
      "Product name is Laptop and brand is Apple\n",
      "Apple\n",
      "Apple\n"
     ]
    }
   ],
   "source": [
    "class Product:   # instance class \n",
    "    brand = 'Apple'   # class attribute  (shareable with all objects )\n",
    "    def __init__(self,name):   # magic ,special,dunder or constructor, initializer \n",
    "        self.name = name       #  instance attribute (not shareable with all objects )\n",
    "    def display(self):\n",
    "        return f\"Product name is {self.name} and brand is {Product.brand}\"\n",
    "p1 = Product(\"Laptop\")\n",
    "print(p1.display())\n",
    "print(p1.brand)\n",
    "print(Product.brand)\n",
    "\n",
    "# Notic :\n",
    "# In this example in the display we call the product name  by self \n",
    "# "
   ]
  },
  {
   "cell_type": "code",
   "execution_count": 23,
   "metadata": {},
   "outputs": [],
   "source": [
    "# problem "
   ]
  },
  {
   "cell_type": "code",
   "execution_count": 25,
   "metadata": {},
   "outputs": [],
   "source": [
    "# here some courses of NLP,XR,AI,DP and two person ali and babar both are 2 2 course enroll\n",
    "# ali XR Dp and Babar is NLP and Ai "
   ]
  },
  {
   "cell_type": "code",
   "execution_count": 36,
   "metadata": {},
   "outputs": [
    {
     "name": "stdout",
     "output_type": "stream",
     "text": [
      "Babar\n",
      "<__main__.Enroll object at 0x75d469a203e0>\n",
      "['AI', 'NLP', 'xR', 'DP']\n"
     ]
    }
   ],
   "source": [
    "class Enroll:\n",
    "    courses  = []\n",
    "    def __init__(self, std_name):\n",
    "        self.name = std_name\n",
    "    def add_courses(self, course_name):\n",
    "        self.courses.append(course_name)\n",
    "    def display(self):\n",
    "        return f\"Name is {self.name} and its Enrolled Courses is {self.add_courses}\"\n",
    "        \n",
    "        \n",
    "babar = Enroll(\"Babar\")\n",
    "ali = Enroll(\"Ali\")\n",
    "babar.add_courses(\"AI\")\n",
    "babar.add_courses(\"NLP\")\n",
    "ali.add_courses(\"xR\")\n",
    "ali.add_courses(\"DP\")\n",
    "\n",
    "print(babar.name)\n",
    "print(babar)\n",
    "print(Enroll.courses)"
   ]
  },
  {
   "cell_type": "code",
   "execution_count": null,
   "metadata": {},
   "outputs": [],
   "source": []
  }
 ],
 "metadata": {
  "kernelspec": {
   "display_name": "Python 3 (ipykernel)",
   "language": "python",
   "name": "python3"
  },
  "language_info": {
   "codemirror_mode": {
    "name": "ipython",
    "version": 3
   },
   "file_extension": ".py",
   "mimetype": "text/x-python",
   "name": "python",
   "nbconvert_exporter": "python",
   "pygments_lexer": "ipython3",
   "version": "3.12.4"
  }
 },
 "nbformat": 4,
 "nbformat_minor": 4
}
