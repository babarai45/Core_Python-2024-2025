{
 "cells": [
  {
   "cell_type": "code",
   "metadata": {
    "ExecuteTime": {
     "end_time": "2024-10-24T04:08:39.076426Z",
     "start_time": "2024-10-24T04:08:39.065445Z"
    }
   },
   "source": [
    "print(\"Hello World\")"
   ],
   "outputs": [
    {
     "name": "stdout",
     "output_type": "stream",
     "text": [
      "Hello World\n"
     ]
    }
   ],
   "execution_count": 1
  },
  {
   "cell_type": "code",
   "execution_count": 2,
   "metadata": {},
   "outputs": [],
   "source": [
    "#  Example of 2 products with same brands name "
   ]
  },
  {
   "cell_type": "code",
   "metadata": {
    "jupyter": {
     "is_executing": true
    }
   },
   "source": [
    "class Product:   # instance class \n",
    "    brand = 'Apple'   # class attribute  (shareable with all objects )\n",
    "    def __init__(self,name):   # magic ,special,dunder or constructor, initializer \n",
    "        self.name = name       #  instance attribute (not shareable with all objects )\n",
    "    def display(self):\n",
    "        # instens method or regualer methood or normal method \n",
    "        return f\"Product name is {self.name} and brand is {Product.brand}\"\n",
    "p1 = Product(\"Laptop\")\n",
    "print(p1.display())\n",
    "print(p1.brand)\n",
    "print(Product.brand)\n",
    "\n",
    "# Notic :\n",
    "# in this example in display we call brand by Direct Product Object "
   ],
   "outputs": [],
   "execution_count": null
  },
  {
   "cell_type": "code",
   "execution_count": 10,
   "metadata": {},
   "outputs": [],
   "source": [
    "# access by instance object p1 "
   ]
  },
  {
   "cell_type": "code",
   "execution_count": 11,
   "metadata": {},
   "outputs": [
    {
     "name": "stdout",
     "output_type": "stream",
     "text": [
      "Product name is Laptop and brand is Apple\n",
      "Apple\n",
      "Apple\n"
     ]
    }
   ],
   "source": [
    "class Product:   # instance class \n",
    "    brand = 'Apple'   # class attribute  (shareable with all objects )\n",
    "    def __init__(self,name):   # magic ,special,dunder or constructor, initializer \n",
    "        self.name = name       #  instance attribute (not shareable with all objects )\n",
    "    def display(self):\n",
    "        return f\"Product name is {self.name} and brand is {p1.brand}\"\n",
    "p1 = Product(\"Laptop\")\n",
    "print(p1.display())\n",
    "print(p1.brand)\n",
    "print(Product.brand)\n",
    "\n",
    "# Notic :\n",
    "# in this example in display we call brand by instance object by P1 "
   ]
  },
  {
   "cell_type": "code",
   "execution_count": 12,
   "metadata": {},
   "outputs": [],
   "source": [
    "# access brand by self kewoord of magic method "
   ]
  },
  {
   "cell_type": "code",
   "execution_count": 37,
   "metadata": {},
   "outputs": [
    {
     "name": "stdout",
     "output_type": "stream",
     "text": [
      "Product name is Laptop and brand is Apple\n",
      "Apple\n",
      "Apple\n",
      "Product name is Mobile and brand is Apple\n"
     ]
    }
   ],
   "source": [
    "class Product:   # instance class \n",
    "    brand = 'Apple'   # class attribute  (shareable with all objects )\n",
    "    def __init__(self,name):   # magic, special, dunder or constructor, initializer \n",
    "        self.name = name       #  instance attribute (not shareable with all objects )\n",
    "    def display(self):\n",
    "        return f\"Product name is {self.name} and brand is {self.brand}\"\n",
    "p1 = Product(\"Laptop\")\n",
    "print(p1.display())\n",
    "print(p1.brand)\n",
    "print(Product.brand)\n",
    "p2 = Product(\"Mobile\")\n",
    "print(p2.display())\n",
    "\n",
    "\n",
    "# Notic :\n",
    "# in this example in display we call brand by self keyword from constructor or magic method "
   ]
  },
  {
   "cell_type": "code",
   "execution_count": 16,
   "metadata": {},
   "outputs": [],
   "source": [
    "# but now we are try access instance attribute with same objects "
   ]
  },
  {
   "cell_type": "code",
   "execution_count": null,
   "metadata": {},
   "outputs": [],
   "source": []
  },
  {
   "cell_type": "code",
   "execution_count": 19,
   "metadata": {},
   "outputs": [
    {
     "ename": "AttributeError",
     "evalue": "type object 'Product' has no attribute 'name'",
     "output_type": "error",
     "traceback": [
      "\u001B[0;31m---------------------------------------------------------------------------\u001B[0m",
      "\u001B[0;31mAttributeError\u001B[0m                            Traceback (most recent call last)",
      "Cell \u001B[0;32mIn[19], line 8\u001B[0m\n\u001B[1;32m      6\u001B[0m         \u001B[38;5;28;01mreturn\u001B[39;00m \u001B[38;5;124mf\u001B[39m\u001B[38;5;124m\"\u001B[39m\u001B[38;5;124mProduct name is \u001B[39m\u001B[38;5;132;01m{\u001B[39;00mProduct\u001B[38;5;241m.\u001B[39mname\u001B[38;5;132;01m}\u001B[39;00m\u001B[38;5;124m and brand is \u001B[39m\u001B[38;5;132;01m{\u001B[39;00mProduct\u001B[38;5;241m.\u001B[39mbrand\u001B[38;5;132;01m}\u001B[39;00m\u001B[38;5;124m\"\u001B[39m\n\u001B[1;32m      7\u001B[0m p1 \u001B[38;5;241m=\u001B[39m Product(\u001B[38;5;124m\"\u001B[39m\u001B[38;5;124mLaptop\u001B[39m\u001B[38;5;124m\"\u001B[39m)\n\u001B[0;32m----> 8\u001B[0m \u001B[38;5;28mprint\u001B[39m(p1\u001B[38;5;241m.\u001B[39mdisplay())\n\u001B[1;32m      9\u001B[0m \u001B[38;5;28mprint\u001B[39m(p1\u001B[38;5;241m.\u001B[39mbrand)\n\u001B[1;32m     10\u001B[0m \u001B[38;5;28mprint\u001B[39m(Product\u001B[38;5;241m.\u001B[39mbrand)\n",
      "Cell \u001B[0;32mIn[19], line 6\u001B[0m, in \u001B[0;36mProduct.display\u001B[0;34m(self)\u001B[0m\n\u001B[1;32m      5\u001B[0m \u001B[38;5;28;01mdef\u001B[39;00m \u001B[38;5;21mdisplay\u001B[39m(\u001B[38;5;28mself\u001B[39m):\n\u001B[0;32m----> 6\u001B[0m     \u001B[38;5;28;01mreturn\u001B[39;00m \u001B[38;5;124mf\u001B[39m\u001B[38;5;124m\"\u001B[39m\u001B[38;5;124mProduct name is \u001B[39m\u001B[38;5;132;01m{\u001B[39;00mProduct\u001B[38;5;241m.\u001B[39mname\u001B[38;5;132;01m}\u001B[39;00m\u001B[38;5;124m and brand is \u001B[39m\u001B[38;5;132;01m{\u001B[39;00mProduct\u001B[38;5;241m.\u001B[39mbrand\u001B[38;5;132;01m}\u001B[39;00m\u001B[38;5;124m\"\u001B[39m\n",
      "\u001B[0;31mAttributeError\u001B[0m: type object 'Product' has no attribute 'name'"
     ]
    }
   ],
   "source": [
    "class Product:   # instance class \n",
    "    brand = 'Apple'   # class attribute  (shareable with all objects )\n",
    "    def __init__(self,name):   # magic ,special,dunder or constructor, initializer \n",
    "        self.name = name       #  instance attribute (not shareable with all objects )\n",
    "    def display(self):\n",
    "        return f\"Product name is {Product.name} and brand is {Product.brand}\"\n",
    "p1 = Product(\"Laptop\")\n",
    "print(p1.display())\n",
    "print(p1.brand)\n",
    "print(Product.brand)\n",
    "\n",
    "# Notic :\n",
    "# in this example in display we call product name  by Direct Product Object \n",
    "# it show error   mean instance attribute notshareble with Product object "
   ]
  },
  {
   "cell_type": "code",
   "execution_count": 20,
   "metadata": {},
   "outputs": [
    {
     "name": "stdout",
     "output_type": "stream",
     "text": [
      "Product name is Laptop and brand is Apple\n",
      "Apple\n",
      "Apple\n"
     ]
    }
   ],
   "source": [
    "class Product:   # instance class \n",
    "    brand = 'Apple'   # class attribute  (shareable with all objects )\n",
    "    def __init__(self,name):   # magic ,special,dunder or constructor, initializer \n",
    "        self.name = name       #  instance attribute (not shareable with all objects )\n",
    "    def display(self):\n",
    "        return f\"Product name is {p1.name} and brand is {Product.brand}\"\n",
    "p1 = Product(\"Laptop\")\n",
    "print(p1.display())\n",
    "print(p1.brand)\n",
    "print(Product.brand)\n",
    "\n",
    "# Notic :\n",
    "# In this example in the display we call the product name  by p1 by Product Object \n",
    "# "
   ]
  },
  {
   "cell_type": "code",
   "execution_count": 21,
   "metadata": {},
   "outputs": [],
   "source": [
    "# calling by self"
   ]
  },
  {
   "cell_type": "code",
   "execution_count": 22,
   "metadata": {},
   "outputs": [
    {
     "name": "stdout",
     "output_type": "stream",
     "text": [
      "Product name is Laptop and brand is Apple\n",
      "Apple\n",
      "Apple\n"
     ]
    }
   ],
   "source": [
    "class Product:   # instance class \n",
    "    brand = 'Apple'   # class attribute  (shareable with all objects )\n",
    "    def __init__(self,name):   # magic ,special,dunder or constructor, initializer \n",
    "        self.name = name       #  instance attribute (not shareable with all objects )\n",
    "    def display(self):\n",
    "        return f\"Product name is {self.name} and brand is {Product.brand}\"\n",
    "p1 = Product(\"Laptop\")\n",
    "print(p1.display())\n",
    "print(p1.brand)\n",
    "print(Product.brand)\n",
    "\n",
    "# Notic :\n",
    "# In this example in the display we call the product name  by self \n",
    "# "
   ]
  },
  {
   "cell_type": "code",
   "execution_count": 23,
   "metadata": {},
   "outputs": [],
   "source": [
    "# problem "
   ]
  },
  {
   "cell_type": "code",
   "execution_count": 25,
   "metadata": {},
   "outputs": [],
   "source": [
    "# here some courses of NLP,XR,AI,DP and two person ali and babar both are 2 2 course enroll\n",
    "# ali XR Dp and Babar is NLP and Ai "
   ]
  },
  {
   "cell_type": "code",
   "execution_count": 42,
   "metadata": {},
   "outputs": [
    {
     "name": "stdout",
     "output_type": "stream",
     "text": [
      "Babar\n",
      "<__main__.Enroll object at 0x75d46a9d3cb0>\n",
      "['AI', 'NLP', 'xR', 'DP']\n"
     ]
    },
    {
     "ename": "AttributeError",
     "evalue": "'Enroll' object has no attribute 'course_name'",
     "output_type": "error",
     "traceback": [
      "\u001B[0;31m---------------------------------------------------------------------------\u001B[0m",
      "\u001B[0;31mAttributeError\u001B[0m                            Traceback (most recent call last)",
      "Cell \u001B[0;32mIn[42], line 21\u001B[0m\n\u001B[1;32m     19\u001B[0m \u001B[38;5;28mprint\u001B[39m(babar)\n\u001B[1;32m     20\u001B[0m \u001B[38;5;28mprint\u001B[39m(Enroll\u001B[38;5;241m.\u001B[39mcourses)\n\u001B[0;32m---> 21\u001B[0m \u001B[38;5;28mprint\u001B[39m(babar\u001B[38;5;241m.\u001B[39mcourse_name)\n",
      "\u001B[0;31mAttributeError\u001B[0m: 'Enroll' object has no attribute 'course_name'"
     ]
    }
   ],
   "source": [
    "class Enroll:\n",
    "    courses  = []\n",
    "    def __init__(self, std_name):\n",
    "        self.name = std_name\n",
    "    def add_courses(self, *course_name):\n",
    "        self.courses.append(course_name)\n",
    "    def display(self):\n",
    "        return f\"Name is {self.name} and its Enrolled Courses is {self.add_courses}\"\n",
    "        \n",
    "        \n",
    "babar = Enroll(\"Babar\")\n",
    "ali = Enroll(\"Ali\")\n",
    "babar.add_courses(\"AI\")\n",
    "babar.add_courses(\"NLP\")\n",
    "ali.add_courses(\"xR\")\n",
    "ali.add_courses(\"DP\")\n",
    "\n",
    "print(babar.name)\n",
    "print(babar)\n",
    "print(Enroll.courses)\n",
    "print(babar.course_name)"
   ]
  },
  {
   "cell_type": "code",
   "execution_count": 3,
   "metadata": {},
   "outputs": [
    {
     "name": "stdout",
     "output_type": "stream",
     "text": [
      "Babar\n",
      "Ali\n",
      "['NLP', 'AI', 'XR', 'ML']\n"
     ]
    }
   ],
   "source": [
    "class Enroll:\n",
    "    courses  = []\n",
    "    def __init__(self, std_name):\n",
    "        self.name = std_name  \n",
    "    def add_courses(self,course_name):\n",
    "        self.course = course_name\n",
    "        self.courses.append(course_name)\n",
    "\n",
    "\n",
    "babar = Enroll(\"Babar\")\n",
    "ali = Enroll(\"Ali\")\n",
    "babar.add_courses(\"NLP\")\n",
    "babar.add_courses(\"AI\")\n",
    "ali.add_courses(\"XR\")\n",
    "ali.add_courses(\"ML\")\n",
    "print(babar.name)\n",
    "print(ali.name)\n",
    "print(babar.courses)"
   ]
  },
  {
   "cell_type": "code",
   "execution_count": 60,
   "metadata": {},
   "outputs": [
    {
     "name": "stdout",
     "output_type": "stream",
     "text": [
      "Babar\n",
      "Ali\n"
     ]
    }
   ],
   "source": [
    "print(babar.name)\n",
    "print(ali.name)\n"
   ]
  },
  {
   "cell_type": "code",
   "execution_count": 61,
   "metadata": {},
   "outputs": [
    {
     "name": "stdout",
     "output_type": "stream",
     "text": [
      "Name is Babar and enrolled courses: AI, NLP\n",
      "Name is Ali and enrolled courses: xR, DP\n"
     ]
    }
   ],
   "source": [
    "class Enroll:\n",
    "    def __init__(self, std_name):\n",
    "        self.name = std_name\n",
    "        self.courses = []  # Initialize an empty list to store enrolled courses\n",
    "\n",
    "    def add_courses(self, *course_names):  # Handle multiple course enrollments\n",
    "        \"\"\"Adds one or more courses to the student's enrollment.\n",
    "\n",
    "        Args:\n",
    "            *course_names (str): Variable number of course names.\n",
    "        \"\"\"\n",
    "        for course in course_names:\n",
    "            self.courses.append(course)\n",
    "\n",
    "    def display(self):\n",
    "        \"\"\"Returns a formatted string showing the student's name and enrolled courses.\n",
    "\n",
    "        Returns:\n",
    "            str: A formatted string with enrollment information.\n",
    "        \"\"\"\n",
    "        courses_str = \", \".join(self.courses) if self.courses else \"None\"  # Handle empty course list\n",
    "        return f\"Name is {self.name} and enrolled courses: {courses_str}\"\n",
    "\n",
    "# Create student enrollments\n",
    "babar = Enroll(\"Babar\")\n",
    "ali = Enroll(\"Ali\")\n",
    "\n",
    "# Enroll students in courses\n",
    "babar.add_courses(\"AI\", \"NLP\")\n",
    "ali.add_courses(\"xR\", \"DP\")\n",
    "\n",
    "# Print student information\n",
    "print(babar.display())\n",
    "print(ali.display())"
   ]
  },
  {
   "cell_type": "code",
   "execution_count": 2,
   "metadata": {},
   "outputs": [
    {
     "ename": "NameError",
     "evalue": "name 'add_course' is not defined",
     "output_type": "error",
     "traceback": [
      "\u001B[0;31m---------------------------------------------------------------------------\u001B[0m",
      "\u001B[0;31mNameError\u001B[0m                                 Traceback (most recent call last)",
      "Cell \u001B[0;32mIn[2], line 10\u001B[0m\n\u001B[1;32m      8\u001B[0m         \u001B[38;5;28;01mreturn\u001B[39;00m \u001B[38;5;124mf\u001B[39m\u001B[38;5;124m'\u001B[39m\u001B[38;5;124mName is \u001B[39m\u001B[38;5;132;01m{\u001B[39;00mEnroll\u001B[38;5;241m.\u001B[39mname\u001B[38;5;132;01m}\u001B[39;00m\u001B[38;5;124m and its courses is \u001B[39m\u001B[38;5;132;01m{\u001B[39;00madd_course\u001B[38;5;132;01m}\u001B[39;00m\u001B[38;5;124m'\u001B[39m\n\u001B[1;32m      9\u001B[0m babar \u001B[38;5;241m=\u001B[39m Enroll(\u001B[38;5;124m\"\u001B[39m\u001B[38;5;124mBabar\u001B[39m\u001B[38;5;124m\"\u001B[39m)\n\u001B[0;32m---> 10\u001B[0m babar\u001B[38;5;241m.\u001B[39madd_course(\u001B[38;5;124m\"\u001B[39m\u001B[38;5;124mNLP\u001B[39m\u001B[38;5;124m\"\u001B[39m)\n\u001B[1;32m     11\u001B[0m \u001B[38;5;28mprint\u001B[39m(babar\u001B[38;5;241m.\u001B[39mcourses)\n",
      "Cell \u001B[0;32mIn[2], line 7\u001B[0m, in \u001B[0;36mEnroll.add_course\u001B[0;34m(self, *courses)\u001B[0m\n\u001B[1;32m      5\u001B[0m \u001B[38;5;28;01mdef\u001B[39;00m \u001B[38;5;21madd_course\u001B[39m(\u001B[38;5;28mself\u001B[39m, \u001B[38;5;241m*\u001B[39mcourses):\n\u001B[1;32m      6\u001B[0m     \u001B[38;5;28;01mfor\u001B[39;00m course \u001B[38;5;129;01min\u001B[39;00m courses:\n\u001B[0;32m----> 7\u001B[0m         \u001B[38;5;28mself\u001B[39m\u001B[38;5;241m.\u001B[39mcourses\u001B[38;5;241m.\u001B[39mappend(add_course)\n\u001B[1;32m      8\u001B[0m     \u001B[38;5;28;01mreturn\u001B[39;00m \u001B[38;5;124mf\u001B[39m\u001B[38;5;124m'\u001B[39m\u001B[38;5;124mName is \u001B[39m\u001B[38;5;132;01m{\u001B[39;00mEnroll\u001B[38;5;241m.\u001B[39mname\u001B[38;5;132;01m}\u001B[39;00m\u001B[38;5;124m and its courses is \u001B[39m\u001B[38;5;132;01m{\u001B[39;00madd_course\u001B[38;5;132;01m}\u001B[39;00m\u001B[38;5;124m'\u001B[39m\n",
      "\u001B[0;31mNameError\u001B[0m: name 'add_course' is not defined"
     ]
    }
   ],
   "source": [
    "class Enroll:\n",
    "    courses = []\n",
    "    def __init__(self, std_name):\n",
    "        self.name = std_name\n",
    "    def add_course(self, *courses):\n",
    "        for course in courses:\n",
    "            self.courses.append(add_course)\n",
    "        return f'Name is {Enroll.name} and its courses is {add_course}'\n",
    "babar = Enroll(\"Babar\")\n",
    "babar.add_course(\"NLP\")\n",
    "print(babar.courses)"
   ]
  },
  {
   "cell_type": "code",
   "execution_count": null,
   "metadata": {},
   "outputs": [],
   "source": []
  },
  {
   "cell_type": "code",
   "execution_count": 6,
   "metadata": {},
   "outputs": [
    {
     "name": "stdout",
     "output_type": "stream",
     "text": [
      "Name is Babar and its Enrolled Courses is ['NLP', 'AI']\n",
      "Name is Ali and its Enrolled Courses is ['XR', 'ML']\n"
     ]
    }
   ],
   "source": [
    "class Enroll:\n",
    "    def __init__(self, std_name):\n",
    "        self.name = std_name  \n",
    "        self.courses = []  # Now courses is an instance attribute\n",
    "        \n",
    "    def add_courses(self, course_name):\n",
    "        self.courses.append(course_name)\n",
    "\n",
    "    def display(self):\n",
    "        return f\"Name is {self.name} and its Enrolled Courses is {self.courses}\"\n",
    "\n",
    "babar = Enroll(\"Babar\")\n",
    "ali = Enroll(\"Ali\")\n",
    "babar.add_courses(\"NLP\")\n",
    "babar.add_courses(\"AI\")\n",
    "ali.add_courses(\"XR\")\n",
    "ali.add_courses(\"ML\")\n",
    "\n",
    "print(babar.display())\n",
    "print(ali.display())"
   ]
  },
  {
   "cell_type": "markdown",
   "metadata": {},
   "source": [
    "# construction and distructor "
   ]
  },
  {
   "cell_type": "code",
   "execution_count": 17,
   "metadata": {},
   "outputs": [
    {
     "name": "stdout",
     "output_type": "stream",
     "text": [
      "creating objecs \n",
      "destroyed objects \n"
     ]
    }
   ],
   "source": [
    "# constructor create or allocate memory for all class member on run time and \n",
    "# distructot dealcate all memory on run time \n",
    "class Hello:\n",
    "    def __init__(self):\n",
    "        print(\"creating objecs \")\n",
    "    def __del__(self):\n",
    "        print(\"destroyed objects \")\n",
    "p1= Hello()\n"
   ]
  },
  {
   "cell_type": "code",
   "execution_count": null,
   "metadata": {},
   "outputs": [],
   "source": []
  },
  {
   "cell_type": "code",
   "execution_count": 19,
   "metadata": {},
   "outputs": [],
   "source": [
    "# we can also used for construtot __enter__\n",
    "class Home:\n",
    "    def _enter__(self):\n",
    "        print(\"creating objecs \")\n",
    "    def __exit__(self):\n",
    "        print(\"Destroyed objects \")\n",
    "\n",
    "h1 = Home()"
   ]
  },
  {
   "cell_type": "code",
   "execution_count": null,
   "metadata": {},
   "outputs": [],
   "source": ""
  },
  {
   "cell_type": "code",
   "execution_count": null,
   "metadata": {},
   "outputs": [],
   "source": []
  }
 ],
 "metadata": {
  "kernelspec": {
   "display_name": "Python 3 (ipykernel)",
   "language": "python",
   "name": "python3"
  },
  "language_info": {
   "codemirror_mode": {
    "name": "ipython",
    "version": 3
   },
   "file_extension": ".py",
   "mimetype": "text/x-python",
   "name": "python",
   "nbconvert_exporter": "python",
   "pygments_lexer": "ipython3",
   "version": "3.12.4"
  }
 },
 "nbformat": 4,
 "nbformat_minor": 4
}
