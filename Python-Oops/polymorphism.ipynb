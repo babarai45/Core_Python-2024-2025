{
 "cells": [
  {
   "cell_type": "markdown",
   "id": "2c67ad4aefbc1e6a",
   "metadata": {},
   "source": [
    "# Polymorphism in Python"
   ]
  },
  {
   "cell_type": "code",
   "execution_count": 1,
   "id": "1a7f026ffe57f07f",
   "metadata": {
    "ExecuteTime": {
     "end_time": "2024-10-24T09:56:19.963525Z",
     "start_time": "2024-10-24T09:56:19.956351Z"
    }
   },
   "outputs": [],
   "source": [
    "# Polymorphism is an important concept in programming. It allows objects to be treated as instances of their parent class. \n",
    "# This means that a reference to a parent class can be used to reference a child class.\n",
    "# This is useful because it allows for more flexible code."
   ]
  },
  {
   "cell_type": "markdown",
   "id": "9837d699",
   "metadata": {},
   "source": [
    "# polymorphism types :\n",
    "- 1.overloading(mwthod overloading,cunstructor overloading,operator overloading)\n",
    "- 2.overriding (method overriding,operator overriding)\n",
    "\n",
    "# 1.overloading\n",
    "- Three main points of overloading\n",
    "    - 1. it is alwasys done in within the class\n",
    "    - 2. it is done by using the same method name \n",
    "    - 3. in same fucntion we have to pass arguments in ways (\n",
    "      - Number of arguments(like 1,2,3)\n",
    "      - Type of arguments(like int,float,string)\n",
    "      - sqeuence of arguments(like 1st int,2nd float,3rd string) or (1st string,2nd int,3rd float)\n",
    "      - )\n",
    "  ## 1.1 Method Overloading is not directly supported in Python and it supports other languages like Java, C++ etc.\n",
    "  here we write code in c++ for method overloading\n",
    "  ```cpp\n",
    "//  method overloading in C++ \n",
    "#include <iostream>\n",
    "using namespace std;\n",
    "\n",
    "class Add {\n",
    "    public:\n",
    "        int sum(int a, int b) {\n",
    "            return a + b;\n",
    "        }\n",
    "        int sum(int a, int b, int c) {\n",
    "            return a + b + c;\n",
    "        }\n",
    "};\n",
    "\n",
    "int main() {\n",
    "    Add obj;\n",
    "    cout << \"Sum of two numbers: \" << obj.sum(10, 20) << endl;\n",
    "    cout << \"Sum of three numbers: \" << obj.sum(10, 20, 30) << endl;\n",
    "    return 0;\n",
    "}\n",
    "\n",
    "// Output\n",
    "\n",
    "// Sum of two numbers: 30\n",
    "// Sum of three numbers: 60\n",
    "\n",
    "\n",
    "//  now diffrent type of parameter \n",
    "#include <iostream>\n",
    "\n",
    "using namespace std;\n",
    "\n",
    "class Add {\n",
    "    public:\n",
    "        int sum(int a, int b) {\n",
    "            return a + b;\n",
    "        }\n",
    "        int sum(int a, int b, int c) {\n",
    "            return a + b + c;\n",
    "        }\n",
    "        float sum(float a, float b) {\n",
    "            return a + b;\n",
    "        }\n",
    "};\n",
    "\n",
    "int main() {\n",
    "    Add obj;\n",
    "    cout << \"Sum of two numbers: \" << obj.sum(10, 20) << endl;\n",
    "    cout << \"Sum of three numbers: \" << obj.sum(10, 20, 30) << endl;\n",
    "    cout << \"Sum of two float numbers: \" << obj.sum(10.5, 20.5) << endl;\n",
    "    return 0;\n",
    "}\n",
    "\n",
    "\n",
    "// Output\n",
    "\n",
    "// Sum of two numbers: 30\n",
    "// Sum of three numbers: 60\n",
    "\n",
    "// Sum of two float numbers: 31\n",
    "\n",
    "``` \n",
    "\n",
    "\n",
    " "
   ]
  },
  {
   "cell_type": "markdown",
   "id": "fc8c39b5",
   "metadata": {},
   "source": [
    "# but we implement method overloading in python by using the concept of default arguments and variable length arguments.\n"
   ]
  },
  {
   "cell_type": "code",
   "execution_count": 4,
   "metadata": {},
   "outputs": [
    {
     "name": "stdout",
     "output_type": "stream",
     "text": [
      "15\n",
      "55\n",
      "210\n",
      "16.5\n"
     ]
    }
   ],
   "source": [
    "# example  overloading by using the same method name but different number of arguments by using *args\n",
    "class Add:\n",
    "    def add(*data):\n",
    "        total = 0 \n",
    "        for i in data:\n",
    "            total += i\n",
    "        return total\n",
    "\n",
    "print(Add.add(1,2,3,4,5,)) # with 5 arguments\n",
    "print(Add.add(1,2,3,4,5,6,7,8,9,10)) # with 10 arguments\n",
    "print(Add.add(1,2,3,4,5,6,7,8,9,10,11,12,13,14,15,16,17,18,19,20)) # with 20 arguments\n",
    "# also float numbers can be added\n",
    "print(Add.add(1.1,2.2,3.3,4.4,5.5,)) # with 5 arguments\n"
   ]
  },
  {
   "cell_type": "code",
   "execution_count": 5,
   "id": "b76d1844",
   "metadata": {},
   "outputs": [
    {
     "name": "stdout",
     "output_type": "stream",
     "text": [
      "15\n",
      "55\n"
     ]
    }
   ],
   "source": [
    "# second example of overloading by using the same method name but different number of arguments by using **kwargs\n",
    "class Add:\n",
    "    def add(**data):\n",
    "        total = 0 \n",
    "        for i in data.values():\n",
    "            total += i\n",
    "        return total\n",
    "    \n",
    "print(Add.add(a=1,b=2,c=3,d=4,e=5)) # with 5 arguments\n",
    "print(Add.add(a=1,b=2,c=3,d=4,e=5,f=6,g=7,h=8,i=9,j=10)) # with 10 arguments\n"
   ]
  },
  {
   "cell_type": "code",
   "execution_count": 6,
   "id": "84b70551",
   "metadata": {},
   "outputs": [
    {
     "name": "stdout",
     "output_type": "stream",
     "text": [
      "30\n",
      "110\n"
     ]
    }
   ],
   "source": [
    "# example of overloading by using the same method name but different number of arguments by using *args and **kwargs for string\n",
    "class Add:\n",
    "    def add(*args,**kwargs):\n",
    "        total = 0 \n",
    "        for i in args:\n",
    "            total += i\n",
    "        for i in kwargs.values():\n",
    "            total += i\n",
    "        return total\n",
    "    \n",
    "print(Add.add(1,2,3,4,5,a=1,b=2,c=3,d=4,e=5)) # with 5 arguments\n",
    "print(Add.add(1,2,3,4,5,6,7,8,9,10,a=1,b=2,c=3,d=4,e=5,f=6,g=7,h=8,i=9,j=10)) # with 10 arguments"
   ]
  },
  {
   "cell_type": "code",
   "execution_count": null,
   "id": "0d211ef5",
   "metadata": {},
   "outputs": [],
   "source": []
  },
  {
   "cell_type": "code",
   "execution_count": null,
   "id": "11feb5b0a87108c6",
   "metadata": {},
   "outputs": [],
   "source": []
  },
  {
   "cell_type": "markdown",
   "id": "bfd80635b69b9bc8",
   "metadata": {},
   "source": [
    "# there are two types of polymorphism \n",
    "# 1. Duck Typing\n",
    "# 2. Operator Overloading\n",
    "\n",
    "# Duck Typing (Dynamic Typing)\n",
    "# In Python, we can use a method or an attribute without checking the type of the object. \n",
    "# If the object provides the method or the attribute, we can use it. \n",
    "# This is known as Duck Typing because it is based on the principle that if it looks like a duck and quacks like a duck, it must be a duck.\n",
    "```python\n",
    "class Duck:\n",
    "    def quack(self): # quack method \n",
    "        print(\"Quack, quack\")\n",
    "\n",
    "class Cat:\n",
    "    def quack(self): # quack method\n",
    "        print(\"Quack, quack\")\n",
    "\n",
    "def quack(obj):\n",
    "    obj.quack()\n",
    "\n",
    "duck = Duck()\n",
    "cat = Cat()\n",
    "\n",
    "quack(duck) # Quack, quack\n",
    "quack(cat) # Quack, quack\n",
    "```\n"
   ]
  },
  {
   "cell_type": "code",
   "execution_count": null,
   "id": "12984ef71b5544a9",
   "metadata": {},
   "outputs": [],
   "source": []
  },
  {
   "cell_type": "code",
   "execution_count": null,
   "id": "cbd75089b1b6146a",
   "metadata": {},
   "outputs": [],
   "source": []
  },
  {
   "cell_type": "code",
   "execution_count": null,
   "id": "9e2d2f2a3e00f021",
   "metadata": {},
   "outputs": [],
   "source": []
  },
  {
   "cell_type": "code",
   "execution_count": null,
   "id": "9586d1e76e360e4c",
   "metadata": {},
   "outputs": [],
   "source": []
  },
  {
   "cell_type": "code",
   "execution_count": 3,
   "id": "348460cd380ad6a5",
   "metadata": {
    "ExecuteTime": {
     "end_time": "2024-10-24T09:58:11.476409Z",
     "start_time": "2024-10-24T09:58:11.468320Z"
    }
   },
   "outputs": [
    {
     "name": "stdout",
     "output_type": "stream",
     "text": [
      "Fido says Woof!\n",
      "Whiskers says Meow!\n"
     ]
    }
   ],
   "source": [
    "# Example of polymorphism\n",
    "class Animal:\n",
    "    def __init__(self, name):\n",
    "        self.name = name\n",
    "\n",
    "    def speak(self):\n",
    "        raise NotImplementedError(\"Subclass must implement this abstract method\") # this is an abstract method because it does not have a body\n",
    "    \n",
    "class Dog(Animal):\n",
    "    def speak(self):\n",
    "        return self.name + \" says Woof!\"\n",
    "    \n",
    "class Cat(Animal):\n",
    "    def speak(self):\n",
    "        return self.name + \" says Meow!\"\n",
    "    \n",
    "fido = Dog(\"Fido\")\n",
    "whiskers = Cat(\"Whiskers\")\n",
    "print(fido.speak())\n",
    "print(whiskers.speak())"
   ]
  },
  {
   "cell_type": "code",
   "execution_count": 4,
   "id": "8664f1e0212ff6f3",
   "metadata": {
    "ExecuteTime": {
     "end_time": "2024-10-24T10:01:49.491649Z",
     "start_time": "2024-10-24T10:01:49.487258Z"
    }
   },
   "outputs": [
    {
     "name": "stdout",
     "output_type": "stream",
     "text": [
      "Dog barks\n",
      "Cat meows\n",
      "Animal makes a sound\n"
     ]
    }
   ],
   "source": [
    "# Parent class\n",
    "class Animal:\n",
    "    def speak(self):\n",
    "        return \"Animal makes a sound\"\n",
    "\n",
    "# Child class 1\n",
    "class Dog(Animal):\n",
    "    def speak(self):\n",
    "        return \"Dog barks\"\n",
    "\n",
    "# Child class 2\n",
    "class Cat(Animal):\n",
    "    def speak(self):\n",
    "        return \"Cat meows\"\n",
    "\n",
    "# Creating list of objects of different classes  objects\n",
    "animals = [Dog(), Cat(), Animal()]\n",
    "\n",
    "# Polymorphic behavior\n",
    "for animal in animals:\n",
    "    print(animal.speak())\n"
   ]
  },
  {
   "cell_type": "code",
   "execution_count": 13,
   "id": "e0b9ad40df90e40c",
   "metadata": {},
   "outputs": [
    {
     "name": "stdout",
     "output_type": "stream",
     "text": [
      "[3, 2, 10]\n"
     ]
    }
   ],
   "source": [
    "def add(x, y):\n",
    "    return x + y\n",
    "def subtract(x, y):\n",
    "    return x - y\n",
    "def multiply(x, y):\n",
    "    return x * y\n",
    "\n",
    "# list of functions called operations\n",
    "operations = [add(1,2), subtract(4,2), multiply(5,2)]\n",
    "\n",
    "print(operations[0:3]) # [3, -1, 2]\n"
   ]
  },
  {
   "cell_type": "markdown",
   "id": "a8d20f6d",
   "metadata": {},
   "source": [
    "# Constructor Overloading in Python\n",
    "#### Constructor overloading is not directly supported in Python but we can achieve it by custome logic.\n"
   ]
  },
  {
   "cell_type": "code",
   "execution_count": 18,
   "id": "3109c980",
   "metadata": {},
   "outputs": [
    {
     "name": "stdout",
     "output_type": "stream",
     "text": [
      "Name is Ali and age is 25\n",
      "Name is Ahmed, age is 20, email is ahmed@outlook.com, gpa is 3.5, grade is A\n",
      "Name is Sara, age is 22, email is sara@gmail.com, gpa is 3.8, grade is A+\n"
     ]
    }
   ],
   "source": [
    "# constructor overloading \n",
    "class Person:\n",
    "    def __init__(self, name, age):\n",
    "        self.name = name\n",
    "        self.age = age\n",
    "    def stdinfo(self):\n",
    "        return f'Name is {self.name} and age is {self.age}'\n",
    "class Student(Person):\n",
    "    def __init__(self, name, age, email, gpa, grade):  # constructor overloading\n",
    "        super().__init__(name, age)\n",
    "        self.email = email\n",
    "        self.gpa = gpa\n",
    "        self.grade = grade\n",
    "    def stdinfo(self):\n",
    "        return f'Name is {self.name}, age is {self.age}, email is {self.email}, gpa is {self.gpa}, grade is {self.grade}'\n",
    "    \n",
    "person1 = Person('Ali', 25)\n",
    "student1 = Student('Ahmed', 20, 'ahmed@outlook.com', 3.5, 'A')\n",
    "print(person1.stdinfo())\n",
    "print(student1.stdinfo())\n",
    "student2 = Student('Sara', 22, 'sara@gmail.com' , 3.8, 'A+')\n",
    "print(student2.stdinfo())\n",
    "\n",
    "\n",
    "    # constructor overloading \n",
    "class Person:\n",
    "    def __init__(self, name, age):\n",
    "        self.name = name\n",
    "        self.age = age\n",
    "    def stdinfo(self):\n",
    "        return f'Name is {self.name} and age is {self.age}'\n",
    "class Student(Person):\n",
    "    def __init__(self, name, age, email, gpa, grade):  # constructor overloading\n",
    "        super().__init__(name, age)\n",
    "        self.email = email\n",
    "        self.gpa = gpa\n",
    "        self.grade = grade\n",
    "    def stdinfo(self):\n",
    "        return f'Name is {self.name}, age is {self.age}, email is {self.email}, gpa is {self.gpa}, grade is {self.grade}'\n",
    "    \n",
    "person1 = Person('Ali', 25)\n",
    "student1 = Student('Ahmed', 20, 'ahmed@outlook.com', 3.5, 'A')\n",
    "print(person1.stdinfo())\n",
    "print(student1.stdinfo())\n",
    "student2 = Student('Sara', 22, 'sara@gmail.com' , 3.8, 'A+')\n",
    "print(student2.stdinfo())\n",
    "\n",
    "\n",
    "    "
   ]
  },
  {
   "cell_type": "code",
   "execution_count": 19,
   "id": "6f3d3a73",
   "metadata": {},
   "outputs": [
    {
     "name": "stdout",
     "output_type": "stream",
     "text": [
      "None\n",
      "Name is Ahmed, age is 20, email is ahmed@outlook.com, gpa is 3.5, grade is A\n",
      "Name is Sara, age is 22, email is sara@gmail.com, gpa is 3.8, grade is A+\n"
     ]
    }
   ],
   "source": [
    "# if we make abstraction\n",
    "# constructor overloading \n",
    "class Person:\n",
    "    def __init__(self, name, age):\n",
    "        self.name = name\n",
    "        self.age = age\n",
    "        # this is an abstract method because we created a method in parent class and its implementation is in child class \n",
    "    def stdinfo(self):\n",
    "        pass\n",
    "class Student(Person):\n",
    "    def __init__(self, name, age, email, gpa, grade):  # constructor overloading\n",
    "        super().__init__(name, age)\n",
    "        self.email = email\n",
    "        self.gpa = gpa\n",
    "        self.grade = grade\n",
    "    def stdinfo(self):\n",
    "        return f'Name is {self.name}, age is {self.age}, email is {self.email}, gpa is {self.gpa}, grade is {self.grade}'\n",
    "    \n",
    "person1 = Person('Ali', 25)\n",
    "student1 = Student('Ahmed', 20, 'ahmed@outlook.com', 3.5, 'A')\n",
    "print(person1.stdinfo())\n",
    "print(student1.stdinfo())\n",
    "student2 = Student('Sara', 22, 'sara@gmail.com' , 3.8, 'A+')\n",
    "print(student2.stdinfo())\n",
    "\n",
    "\n",
    "# it is not triditional way to make abstraction in python but it is possible\n",
    "    "
   ]
  },
  {
   "cell_type": "code",
   "execution_count": 20,
   "id": "e56653ba",
   "metadata": {},
   "outputs": [],
   "source": [
    "# in abouve we pass [stdinfo body  as pass keyword in parent class] and [stdinfo body in child class] so it is not a good way to make abstraction\n",
    "# in this senario we can impletaion of stdinfo in child class but its your choice to implement in child class or not \n",
    "# it not show errror if we do not implement in child class but it is not a good way to make abstraction\n",
    "\n",
    "\n",
    "# another way to risew an error if we do not implement the method in child class like blow"
   ]
  },
  {
   "cell_type": "code",
   "execution_count": 24,
   "id": "f3cbfb9b",
   "metadata": {},
   "outputs": [
    {
     "name": "stdout",
     "output_type": "stream",
     "text": [
      "Name is Ahmed, age is 20, email is ahmed@outlook.com, gpa is 3.5, grade is A\n",
      "Name is Sara, age is 22, email is sara@gmail.com, gpa is 3.8, grade is A+\n"
     ]
    }
   ],
   "source": [
    "# constructor overloading \n",
    "class Person:\n",
    "    def __init__(self, name, age):\n",
    "        self.name = name\n",
    "        self.age = age\n",
    "    def stdinfo(self):\n",
    "        raise NotImplementedError(\"Subclass must implement this abstract method\") # this is an abstract method because it does not have a body\n",
    "class Student(Person):\n",
    "    def __init__(self, name, age, email, gpa, grade):  # constructor overloading\n",
    "        super().__init__(name, age)\n",
    "        self.email = email\n",
    "        self.gpa = gpa\n",
    "        self.grade = grade\n",
    "    def stdinfo(self):\n",
    "        return f'Name is {self.name}, age is {self.age}, email is {self.email}, gpa is {self.gpa}, grade is {self.grade}'\n",
    "    \n",
    "# person1 = Person('Ali', 25)\n",
    "student1 = Student('Ahmed', 20, 'ahmed@outlook.com', 3.5, 'A')\n",
    "# print(person1.stdinfo())\n",
    "print(student1.stdinfo())\n",
    "student2 = Student('Sara', 22, 'sara@gmail.com' , 3.8, 'A+')\n",
    "print(student2.stdinfo())\n",
    "\n",
    "\n",
    "    "
   ]
  },
  {
   "cell_type": "markdown",
   "id": "fa5e4099",
   "metadata": {},
   "source": [
    "in simple wording\n",
    "# Abstract Class and Abstract Method \n",
    "# Abstract Class \n",
    "- An abstract class is a class that contains one or more abstract methods and cannot be instantiated(we cannot create object of abstract class)\n",
    "- we can say abstract class is imaginary class or design class or blueprint class or template class or Meta class\n",
    "- that is used to define the structure of a class and methods and after that we can inherit this class and use the methods of this class from child class and implement the methods of this class in child class "
   ]
  },
  {
   "cell_type": "markdown",
   "id": "0d28bbc3",
   "metadata": {},
   "source": [
    "### **What is an Abstract Class in Python?**\n",
    "\n",
    "An **abstract class** is a class that cannot be instantiated directly. It is a blueprint for other classes. In Python, we define abstract classes using the `ABC` (Abstract Base Class) module, which is part of the `abc` module. An abstract class typically includes one or more abstract methods that **must be implemented** by any subclass. These abstract methods act as a contract that enforces child classes to provide specific implementations.\n",
    "\n",
    "### **Why Use Abstract Classes?**\n",
    "\n",
    "1. **Enforcing Structure**: Abstract classes provide a template for other classes to follow. When designing a complex system, you may want certain classes to have the same set of methods. By using an abstract class, you can ensure that these methods will be implemented in the child classes.\n",
    "\n",
    "2. **Common Interface**: Abstract classes ensure that all subclasses provide a consistent interface (same method names and signatures). This is especially useful in large programs where objects of different classes need to interact with each other through the same methods.\n",
    "\n",
    "3. **Code Reusability**: Abstract classes can have some implemented methods (non-abstract methods), so child classes can reuse these implementations and focus only on the abstract methods that need to be implemented.\n",
    "\n",
    "4. **Prevent Direct Instantiation**: You may want to prevent creating objects of a general class that doesn't make sense by itself but is useful when inherited by specific subclasses. For example, it doesn’t make sense to instantiate a \"Shape\" directly because we don’t know its form (circle, square, etc.), but a \"Circle\" or \"Rectangle\" subclass can inherit from \"Shape\" and provide specific details.\n",
    "\n",
    "### **When to Use Abstract Classes?**\n",
    "\n",
    "1. **Designing a Framework**: When designing a system where you expect future developers to extend classes but follow certain rules, abstract classes are useful. For example, you might create an abstract class for different payment methods in an e-commerce system.\n",
    "\n",
    "2. **Defining a Template for Subclasses**: Abstract classes are helpful when you want to define a template that all subclasses must follow, ensuring that they implement certain methods. For example, in a game, you might have an abstract class `Player` with abstract methods like `move()` and `attack()`, which every specific player type (e.g., `Warrior`, `Mage`) must implement.\n",
    "\n",
    "3. **Forcing Child Classes to Implement Essential Methods**: Use abstract classes when you want to make sure that any subclass **must** implement certain key methods (like in the previous example with `move()` and `attack()`).\n",
    "\n",
    "---\n",
    "\n",
    "### **Purpose of Abstract Classes**\n",
    "\n",
    "- **Promote Consistency**: Ensures that all subclasses will have the same method signatures and are expected to provide implementations of certain methods. This is crucial for consistency when different types of objects interact in a system.\n",
    "  \n",
    "- **Increase Modularity**: Helps break down complex systems into modular parts where each subclass can provide specific implementations while sharing common behavior from the abstract class.\n",
    "  \n",
    "- **Improve Extensibility**: When new classes are added to a system, they can inherit from abstract classes, ensuring they adhere to the system's core functionality and structure.\n",
    "\n",
    "---\n",
    "\n",
    "### **Example of an Abstract Class**\n",
    "\n",
    "Consider a scenario where we have different types of shapes. We might define an abstract class `Shape`, and force every subclass (like `Circle`, `Rectangle`) to implement the `area()` and `perimeter()` methods.\n",
    "\n",
    "#### **Code Example**\n",
    "```python\n",
    "from abc import ABC, abstractmethod\n",
    "\n",
    "# Defining the abstract class\n",
    "class Shape(ABC):\n",
    "    # Abstract method (no implementation here)\n",
    "    @abstractmethod\n",
    "    def area(self):\n",
    "        pass\n",
    "\n",
    "    # Abstract method\n",
    "    @abstractmethod\n",
    "    def perimeter(self):\n",
    "        pass\n",
    "\n",
    "# Subclass inheriting from Shape\n",
    "class Circle(Shape):\n",
    "    def __init__(self, radius):\n",
    "        self.radius = radius\n",
    "\n",
    "    # Implementing the abstract method 'area'\n",
    "    def area(self):\n",
    "        return 3.14 * self.radius ** 2\n",
    "\n",
    "    # Implementing the abstract method 'perimeter'\n",
    "    def perimeter(self):\n",
    "        return 2 * 3.14 * self.radius\n",
    "\n",
    "# Subclass inheriting from Shape\n",
    "class Rectangle(Shape):\n",
    "    def __init__(self, length, width):\n",
    "        self.length = length\n",
    "        self.width = width\n",
    "\n",
    "    # Implementing the abstract method 'area'\n",
    "    def area(self):\n",
    "        return self.length * self.width\n",
    "\n",
    "    # Implementing the abstract method 'perimeter'\n",
    "    def perimeter(self):\n",
    "        return 2 * (self.length + self.width)\n",
    "\n",
    "# Example of using the subclasses\n",
    "shapes = [Circle(5), Rectangle(4, 7)]\n",
    "\n",
    "for shape in shapes:\n",
    "    print(f\"Area: {shape.area()}, Perimeter: {shape.perimeter()}\")\n",
    "```\n",
    "\n",
    "**Explanation**:\n",
    "- **Abstract Class (`Shape`)**: We define the `area()` and `perimeter()` methods as abstract using the `@abstractmethod` decorator. This forces any class that inherits from `Shape` to provide its own implementation of these methods.\n",
    "- **Subclasses (`Circle`, `Rectangle`)**: These classes must implement both the `area()` and `perimeter()` methods because they are required by the abstract class.\n",
    "- **Cannot Instantiate `Shape`**: You cannot create an object of the `Shape` class directly because it’s abstract. If you try, Python will raise an error.\n",
    "\n",
    "---\n",
    "\n",
    "### **Key Points to Remember**:\n",
    "1. **Cannot Instantiate**: You cannot create objects of an abstract class directly.\n",
    "2. **Abstract Methods**: Must be implemented by any class that inherits from the abstract class.\n",
    "3. **Why Use It**: Abstract classes enforce a structure and provide a blueprint for future classes, ensuring consistency and improving code maintainability.\n",
    "4. **When to Use**: Use abstract classes when you want to define common behavior across related classes but leave the implementation details to the subclasses.\n",
    "\n",
    "By using abstract classes, you can build a strong foundation for systems that are extensible and easy to maintain, ensuring future developers follow a clear and consistent design."
   ]
  },
  {
   "cell_type": "markdown",
   "id": "9810d31b",
   "metadata": {},
   "source": []
  }
 ],
 "metadata": {
  "kernelspec": {
   "display_name": "base",
   "language": "python",
   "name": "python3"
  },
  "language_info": {
   "codemirror_mode": {
    "name": "ipython",
    "version": 3
   },
   "file_extension": ".py",
   "mimetype": "text/x-python",
   "name": "python",
   "nbconvert_exporter": "python",
   "pygments_lexer": "ipython3",
   "version": "3.12.4"
  }
 },
 "nbformat": 4,
 "nbformat_minor": 5
}
