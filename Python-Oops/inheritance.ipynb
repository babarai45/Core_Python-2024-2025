{
 "cells": [
  {
   "metadata": {},
   "cell_type": "markdown",
   "source": "",
   "id": "57173a09baeef1fd"
  },
  {
   "metadata": {},
   "cell_type": "markdown",
   "source": [
    "# Inheritance in Python\n",
    "inheritance is  a key concept in object oriented programming. It refers to defining a new class with little or no modification to an existing class. The new class is called derived (or child) class and the one from which it inherits is called the base (or parent) class. \n",
    "# Types of Inheritance in Python\n",
    "1. Single Inheritance\n",
    "2. Multiple Inheritance\n",
    "3. Multilevel Inheritance\n",
    "4. Hierarchical Inheritance\n",
    "5. Hybrid Inheritance\n",
    "6. Multipath Inheritance\n",
    "7. Cyclic Inheritance\n",
    "8. Overriding\n",
    "9. Super() method\n",
    "10. MRO(Method Resolution Order)\n",
    "11. Diamond Problem\n",
    "12. Abstract Base Class\n"
   ],
   "id": "20af8908853d4057"
  },
  {
   "metadata": {
    "ExecuteTime": {
     "end_time": "2024-10-24T04:24:37.242378Z",
     "start_time": "2024-10-24T04:24:37.211193Z"
    }
   },
   "cell_type": "code",
   "source": [
    "# Single Inheritance\n",
    "class Parent:\n",
    "    def func1(self):\n",
    "        print(\"This is function 1 from parent class\")\n",
    "\n",
    "class Child(Parent):\n",
    "    def func2(self):\n",
    "        print(\"This is function 2 from child class\")\n",
    "\n",
    "print(\"<-----Function calling by child class object 🤙------->\")\n",
    "ob = Child() # object of child class\n",
    "ob.func1() # calling function 1 from parent class\n",
    "ob.func2() # calling function 2 from child class\n",
    "\n",
    "print(\"<-----Function calling by parent class object 👭------->\")\n",
    "print(\" ??  In this case, we can only call function 1 from parent class and we can't call function 2 from child class because parent class object can't access child class function\")\n",
    "obj=Parent()   # object of parent class\n",
    "obj.func1()   # calling function 1 from parent class\n",
    "obj.func2()   # calling function 2 from parent class"
   ],
   "id": "688bc9948f542470",
   "outputs": [
    {
     "name": "stdout",
     "output_type": "stream",
     "text": [
      "<-----Function calling by child class object 🤙------->\n",
      "This is function 1 from parent class\n",
      "This is function 2 from child class\n",
      "<-----Function calling by parent class object 👭------->\n",
      " ??  In this case, we can only call function 1 from parent class and we can't call function 2 from child class because parent class object can't access child class function\n",
      "This is function 1 from parent class\n"
     ]
    },
    {
     "ename": "AttributeError",
     "evalue": "'Parent' object has no attribute 'func2'",
     "output_type": "error",
     "traceback": [
      "\u001B[0;31m---------------------------------------------------------------------------\u001B[0m",
      "\u001B[0;31mAttributeError\u001B[0m                            Traceback (most recent call last)",
      "Cell \u001B[0;32mIn[12], line 19\u001B[0m\n\u001B[1;32m     17\u001B[0m obj\u001B[38;5;241m=\u001B[39mParent()   \u001B[38;5;66;03m# object of parent class\u001B[39;00m\n\u001B[1;32m     18\u001B[0m obj\u001B[38;5;241m.\u001B[39mfunc1()   \u001B[38;5;66;03m# calling function 1 from parent class\u001B[39;00m\n\u001B[0;32m---> 19\u001B[0m obj\u001B[38;5;241m.\u001B[39mfunc2()\n",
      "\u001B[0;31mAttributeError\u001B[0m: 'Parent' object has no attribute 'func2'"
     ]
    }
   ],
   "execution_count": 12
  },
  {
   "metadata": {},
   "cell_type": "markdown",
   "source": "# 🥰single inheritance with class variable and instance variable and constructor or regular method\n",
   "id": "62ceb43dc0d1c42d"
  },
  {
   "metadata": {
    "ExecuteTime": {
     "end_time": "2024-10-24T04:39:45.161452Z",
     "start_time": "2024-10-24T04:39:45.153200Z"
    }
   },
   "cell_type": "code",
   "source": [
    "# Single Inheritance\n",
    "class Parent:\n",
    "    class_variable1 = \"I am a class variable of parent class\"\n",
    "    def __init__(self):\n",
    "        self.instance_variable1 = \"I am a instance variable of parent class\"\n",
    "        print(\"Parent class constructor\")\n",
    "    def func1(self): # regular method\n",
    "        print(\"This is function 1 from parent class\")\n",
    "        \n",
    "class Child(Parent):\n",
    "    # access class variable of parent class in child class\n",
    "    def func2(self):\n",
    "        print(\"This is function 2 from child class\")\n",
    "        print(self.class_variable1)\n",
    "        print(self.instance_variable1)  # access instance variable of parent class in child class   \n",
    "        \n",
    "print(\"<-----Function calling by child class obj and accessing parent calls variabls and methos >\")\n",
    "ob = Child() # object of child class\n",
    "ob.func1() # calling function 1 from parent class\n",
    "print(\"Accessing class variable of parent class in child class\")\n",
    "ob.func2() # calling function 2 from child class\n",
    "# ob.func2() # calling function 2 from child class\n",
    "\n",
    "#  🥰we can access parent class instance variable and class variable in child class\n",
    "\n",
    "# ⚠ but we can't access child class instance variable and class variable in parent class\n",
    "\n",
    "\n",
    "# and also we can only "
   ],
   "id": "6293a9d73979cc7f",
   "outputs": [
    {
     "name": "stdout",
     "output_type": "stream",
     "text": [
      "<-----Function calling by child class obj and accessing parent calls variabls and methos >\n",
      "Parent class constructor\n",
      "This is function 1 from parent class\n",
      "Accessing class variable of parent class in child class\n",
      "This is function 2 from child class\n",
      "I am a class variable of parent class\n",
      "I am a instance variable of parent class\n"
     ]
    }
   ],
   "execution_count": 20
  },
  {
   "metadata": {},
   "cell_type": "markdown",
   "source": "# method overriding and extending the functionality of parent class method in child class by super() method",
   "id": "bf432f08af2516b5"
  },
  {
   "metadata": {
    "ExecuteTime": {
     "end_time": "2024-10-24T07:18:57.122018Z",
     "start_time": "2024-10-24T07:18:57.107839Z"
    }
   },
   "cell_type": "code",
   "source": [
    "# overriding the method of parent class in child class\n",
    "\n",
    "class Parent:\n",
    "    def __init__(self):  #  parent class constructor\n",
    "        print(\"Parent class constructor\") \n",
    "    def func1(self):\n",
    "        print(\"This is function 1 from parent class\")\n",
    "class Child(Parent): \n",
    "    \n",
    "    # it called polymorphism in OOP \n",
    "    def __init__(self): # child class constructor\n",
    "        print(\"Child class constructor\")\n",
    "    def func1(self):\n",
    "        print(\"This is function from child  class\")\n",
    "\n",
    "obj = Child() # object of child class\n",
    "obj.func1() #\n",
    "# so it means all time drive class method will be called and it will override the parent class method because of polymorphism in OOP becasue we give the same name of method in parent and child class and it called method overriding"
   ],
   "id": "93e1c98127f32f3c",
   "outputs": [
    {
     "name": "stdout",
     "output_type": "stream",
     "text": [
      "Child class constructor\n",
      "This is function from child  class\n"
     ]
    }
   ],
   "execution_count": 35
  },
  {
   "metadata": {},
   "cell_type": "markdown",
   "source": "# extending the functionality of parent class method in child class by super() method",
   "id": "ea5eb19a3e9bf994"
  },
  {
   "metadata": {
    "ExecuteTime": {
     "end_time": "2024-10-24T08:04:17.530028Z",
     "start_time": "2024-10-24T08:04:17.514347Z"
    }
   },
   "cell_type": "code",
   "source": [
    "class Parent:\n",
    "    def __init__(self):  #  parent class constructor\n",
    "        print(\"Parent class constructor is \") \n",
    "    def func1(self):\n",
    "        print(\"This is function 1 from parent class\")           \n",
    "class Child(Parent):\n",
    "    def __init__(self): # child class constructor\n",
    "        print(\"Child class constructor\")\n",
    "        super().__init__() # calling parent class \n",
    "        print(\"This is constructor of parent class by original functionality of parent class constructor\")\n",
    "    def func1(self):  # child class method\n",
    "        print(\"This is function from child  class\")\n",
    "        super().func1()\n",
    "        print(\"This is function from parent class by original functionality of parent class method by using super() method\")\n",
    "        \n",
    "obj = Child() # object of child class\n",
    "obj.func1() #\n",
    "        \n",
    "    "
   ],
   "id": "375d5255f97dc7b8",
   "outputs": [
    {
     "name": "stdout",
     "output_type": "stream",
     "text": [
      "Child class constructor\n",
      "Parent class constructor is \n",
      "This is constructor of parent class by original functionality of parent class constructor\n",
      "This is function from child  class\n",
      "This is function 1 from parent class\n",
      "This is function from parent class by original functionality of parent class method by using super() method\n"
     ]
    }
   ],
   "execution_count": 59
  },
  {
   "metadata": {},
   "cell_type": "markdown",
   "source": "",
   "id": "991ab55200448d7d"
  },
  {
   "metadata": {
    "ExecuteTime": {
     "end_time": "2024-10-24T08:04:38.089554Z",
     "start_time": "2024-10-24T08:04:38.078415Z"
    }
   },
   "cell_type": "code",
   "source": [
    "class A:\n",
    "    def __init__(self, a, b):\n",
    "        self.a = a\n",
    "        self.b = b\n",
    "        self.c = a + b\n",
    "    \n",
    "    def __str__(self):\n",
    "        return f\"A: a={self.a}, b={self.b}, c={self.c}\"\n",
    "\n",
    "class B(A):\n",
    "    def __init__(self, a, b):\n",
    "        self.a = a\n",
    "        self.b = b\n",
    "        self.d = a * b\n",
    "    \n",
    "    def __str__(self):\n",
    "        return f\"B: a={self.a}, b={self.b}, d={self.d}\"\n",
    "\n",
    "# Create an object of class B\n",
    "obj = B(2, 3)\n",
    "print(obj)   \n",
    "\n",
    "# here is overriding the __init__ method of parent class in child class and it is not a good practice to override the __init__ method of parent class in child class    and we use super() method to extend the functionality of parent class method in child class"
   ],
   "id": "dcfa95964d108f41",
   "outputs": [
    {
     "name": "stdout",
     "output_type": "stream",
     "text": [
      "B: a=2, b=3, d=6\n"
     ]
    }
   ],
   "execution_count": 60
  },
  {
   "metadata": {
    "ExecuteTime": {
     "end_time": "2024-10-24T08:04:51.843106Z",
     "start_time": "2024-10-24T08:04:51.828929Z"
    }
   },
   "cell_type": "code",
   "source": [
    "class A:\n",
    "    def add(self, a, b):\n",
    "        return a + b\n",
    "class B(A):\n",
    "    def add(self, a, b):\n",
    "        return a * b\n",
    "obj = B()\n",
    "print(obj.add(2, 3))\n",
    "# here is overriding the add method of parent class in child class and it is not a good practice to override the add method of parent class in child class    and we use super() method to extend the functionality of parent class method in child class"
   ],
   "id": "ee5f78fd2adccf27",
   "outputs": [
    {
     "name": "stdout",
     "output_type": "stream",
     "text": [
      "6\n"
     ]
    }
   ],
   "execution_count": 61
  },
  {
   "metadata": {},
   "cell_type": "markdown",
   "source": "# super() method",
   "id": "84c397000696c2f7"
  },
  {
   "metadata": {},
   "cell_type": "code",
   "outputs": [],
   "execution_count": null,
   "source": "",
   "id": "79a50723f88ab36f"
  },
  {
   "metadata": {
    "ExecuteTime": {
     "end_time": "2024-10-24T08:05:18.415213Z",
     "start_time": "2024-10-24T08:05:18.399484Z"
    }
   },
   "cell_type": "code",
   "source": [
    "class A:\n",
    "    def __init__(self, a, b):\n",
    "        self.a = a\n",
    "        self.b = b\n",
    "        self.c = a + b\n",
    "    \n",
    "    def __str__(self):\n",
    "        return f\"A: a={self.a}, b={self.b}, c={self.c}\"\n",
    "\n",
    "# Class B inherits from class A\n",
    "class B(A):\n",
    "    def __init__(self, a, b):\n",
    "        # Using super() to call the parent class A's constructor\n",
    "        super().__init__(a, b)\n",
    "        self.d = a * b\n",
    "    \n",
    "    def __str__(self):\n",
    "        return f\"B: a={self.a}, b={self.b}, c={self.c}, d={self.d}\"\n",
    "\n",
    "# Create an object of class B\n",
    "obj = B(2, 3)\n",
    "print(obj)\n",
    "# here is extending the functionality of parent class method in child class by using super() method \n",
    "# and it is a good practice to use super() method to extend the functionality of parent class method in child class\n",
    "# here we call  B calss constructor and it will call the A class constructor by using super() method and it will extend the functionality of parent class method in child class by using super() method original functionality of parent class method\n",
    "# output: B: a=2, b=3, it is parent class constructor c=5, and it is child class constrictor d=6"
   ],
   "id": "f7b29c46a59f3ac",
   "outputs": [
    {
     "name": "stdout",
     "output_type": "stream",
     "text": [
      "B: a=2, b=3, c=5, d=6\n"
     ]
    }
   ],
   "execution_count": 62
  },
  {
   "metadata": {
    "ExecuteTime": {
     "end_time": "2024-10-24T09:32:20.343700Z",
     "start_time": "2024-10-24T09:32:20.328254Z"
    }
   },
   "cell_type": "code",
   "source": [
    "class A:\n",
    "    def add(self, a, b):\n",
    "        return a + b\n",
    "\n",
    "class B(A):\n",
    "    def add(self, a, b):\n",
    "        # Call the parent class's add method and capture the result\n",
    "        addition_result = super().add(a, b)\n",
    "        multiplication_result = a * b\n",
    "        return f\"Addition: {addition_result}, Multiplication: {multiplication_result}\"\n",
    "\n",
    "obj = B()\n",
    "print(obj.add(2, 3))\n"
   ],
   "id": "d6500bfea8e5140c",
   "outputs": [
    {
     "name": "stdout",
     "output_type": "stream",
     "text": [
      "Addition: 5, Multiplication: 6\n"
     ]
    }
   ],
   "execution_count": 69
  },
  {
   "metadata": {},
   "cell_type": "markdown",
   "source": [
    "# Multiple Inheritance \n",
    "Multiple inheritance is a feature in which a class can inherit attributes and methods from more than one parent class."
   ],
   "id": "94d491f00454af2c"
  },
  {
   "metadata": {
    "ExecuteTime": {
     "end_time": "2024-10-24T07:03:42.619565Z",
     "start_time": "2024-10-24T07:03:42.603338Z"
    }
   },
   "cell_type": "code",
   "source": [
    "class Parent1:\n",
    "    def func1(self):\n",
    "        print(\"This is function 1 from parent1 class\")\n",
    "    \n",
    "class Parent2:\n",
    "    def func1(self):\n",
    "        print(\"This is function 2 from parent2 class\")\n",
    "    \n",
    "class Child(Parent1,Parent2):# multiple inheritance\n",
    "    def func3(self):\n",
    "        print(\"This is function 3 from child class\")\n",
    "    \n",
    "print(\"<-----Function calling by child class object ??------->\")\n",
    "ob = Child() # object of child class\n",
    "ob.func1() # calling function 1 from parent1 class\n",
    "ob.func1() # calling function 2 from parent2 class\n",
    "ob.func3() # calling function 3 from child class"
   ],
   "id": "c2909f1868c1a19f",
   "outputs": [
    {
     "name": "stdout",
     "output_type": "stream",
     "text": [
      "<-----Function calling by child class object ??------->\n",
      "This is function 1 from parent1 class\n",
      "This is function 1 from parent1 class\n",
      "This is function 3 from child class\n"
     ]
    }
   ],
   "execution_count": 23
  },
  {
   "metadata": {},
   "cell_type": "markdown",
   "source": [
    " # question: if parent1 and parent2 have same method name then which method will be called by child class object\n",
    "    # answer: the method of parent1 will be called by child class object"
   ],
   "id": "e1dba9f8a58ffb"
  },
  {
   "metadata": {},
   "cell_type": "markdown",
   "source": "",
   "id": "830ea8791c36382f"
  },
  {
   "metadata": {
    "ExecuteTime": {
     "end_time": "2024-10-24T07:04:45.884141Z",
     "start_time": "2024-10-24T07:04:45.875243Z"
    }
   },
   "cell_type": "code",
   "source": [
    "class A:\n",
    "    pass\n",
    "class B:\n",
    "    pass\n",
    "class C(A,B): # multiple inheritance\n",
    "    pass\n",
    "\n",
    "print(C.mro()) # Method Resolution Order (MRO) is the order in which Python looks for a method in a hierarchy of classes."
   ],
   "id": "678e253577012ae8",
   "outputs": [
    {
     "name": "stdout",
     "output_type": "stream",
     "text": [
      "[<class '__main__.C'>, <class '__main__.A'>, <class '__main__.B'>, <class 'object'>]\n"
     ]
    }
   ],
   "execution_count": 24
  },
  {
   "metadata": {
    "ExecuteTime": {
     "end_time": "2024-10-24T08:15:23.975597Z",
     "start_time": "2024-10-24T08:15:23.971414Z"
    }
   },
   "cell_type": "code",
   "source": [
    "class A:\n",
    "    pass\n",
    "class B:\n",
    "    pass\n",
    "class C(B,A): # multiple inheritance\n",
    "    pass\n",
    "\n",
    "print(C.mro()) # Method Resolution Order (MRO) is the order in which Python looks for a method in a hierarchy of classes.\n",
    "print(A.__mro__)\n",
    "print(B.__mro__)"
   ],
   "id": "af2aae8aebe9febb",
   "outputs": [
    {
     "name": "stdout",
     "output_type": "stream",
     "text": [
      "[<class '__main__.C'>, <class '__main__.B'>, <class '__main__.A'>, <class 'object'>]\n",
      "(<class '__main__.A'>, <class 'object'>)\n",
      "(<class '__main__.B'>, <class 'object'>)\n"
     ]
    }
   ],
   "execution_count": 66
  },
  {
   "metadata": {
    "ExecuteTime": {
     "end_time": "2024-10-24T07:07:23.439075Z",
     "start_time": "2024-10-24T07:07:23.422250Z"
    }
   },
   "cell_type": "code",
   "source": [
    "# if class A and class B have same method name then which method will be called by class C object   \n",
    "class A:\n",
    "    def func1(self):\n",
    "        print(\"This is function 1 from class A\")\n",
    "class B:\n",
    "    def func1(self):\n",
    "        print(\"This is function 1 from class B\")\n",
    "class C(A,B): # multiple inheritance\n",
    "    pass\n",
    "\n",
    "ob = C() # object of class C\n",
    "ob.func1() "
   ],
   "id": "e7b48fa60906d251",
   "outputs": [
    {
     "name": "stdout",
     "output_type": "stream",
     "text": [
      "This is function 1 from class A\n"
     ]
    }
   ],
   "execution_count": 27
  },
  {
   "metadata": {},
   "cell_type": "markdown",
   "source": [
    "# Multilevel Inheritance\n",
    "Multilevel inheritance refers to a mechanism in OO technology where one can inherit from a derived class, thereby making this derived class the base class for the new class."
   ],
   "id": "d1163292add6aa9e"
  },
  {
   "metadata": {
    "ExecuteTime": {
     "end_time": "2024-10-24T09:35:01.998739Z",
     "start_time": "2024-10-24T09:35:01.986383Z"
    }
   },
   "cell_type": "code",
   "source": [
    "class GrandParent:\n",
    "    def func1(self):\n",
    "        print(\"This is function 1 from grandparent class\")\n",
    "class Parent(GrandParent):\n",
    "    def func2(self):\n",
    "        print(\"This is function 2 from parent class\")\n",
    "class Child(Parent):\n",
    "    def func3(self):\n",
    "        print(\"This is function 3 from child class\")\n",
    "        \n",
    "obj = Child() # object of child class\n",
    "obj.func1() # calling function 1 from grandparent class/"
   ],
   "id": "fcc3346eaacddcc",
   "outputs": [
    {
     "name": "stdout",
     "output_type": "stream",
     "text": [
      "This is function 1 from grandparent class\n"
     ]
    }
   ],
   "execution_count": 71
  },
  {
   "metadata": {},
   "cell_type": "markdown",
   "source": "# Hierarchical Inheritance",
   "id": "3f43bcb7e5e6d05c"
  },
  {
   "metadata": {
    "ExecuteTime": {
     "end_time": "2024-10-24T09:36:24.199640Z",
     "start_time": "2024-10-24T09:36:24.187402Z"
    }
   },
   "cell_type": "code",
   "source": [
    "class Parent:\n",
    "    def func1(self):\n",
    "        print(\"This is function 1 from parent class\")\n",
    "class Child1(Parent):\n",
    "    def func2(self):\n",
    "        print(\"This is function 2 from child1 class\")\n",
    "class Child2(Parent):\n",
    "    def func3(self):\n",
    "        print(\"This is function 3 from child2 class\")\n",
    "        \n",
    "obj1 = Child1() # object of child1 class\n",
    "obj1.func1() # calling function 1 from parent class"
   ],
   "id": "eea9d348999ef544",
   "outputs": [
    {
     "name": "stdout",
     "output_type": "stream",
     "text": [
      "This is function 1 from parent class\n"
     ]
    }
   ],
   "execution_count": 74
  },
  {
   "metadata": {},
   "cell_type": "markdown",
   "source": "# Hybrid Inheritance",
   "id": "8818abf7d8e5eb73"
  },
  {
   "metadata": {
    "ExecuteTime": {
     "end_time": "2024-10-24T09:37:49.237501Z",
     "start_time": "2024-10-24T09:37:49.230867Z"
    }
   },
   "cell_type": "code",
   "source": [
    "class Parent1:\n",
    "    def func1(self):\n",
    "        print(\"This is function 1 from parent1 class\")\n",
    "class Parent2:\n",
    "    def func2(self):\n",
    "        print(\"This is function 2 from parent2 class\")\n",
    "class Child1(Parent1):\n",
    "    def func3(self):\n",
    "        print(\"This is function 3 from child1 class\")\n",
    "class Child2(Parent1,Parent2):\n",
    "    def func4(self):\n",
    "        print(\"This is function 4 from child2 class\")\n",
    "        \n",
    "obj = Child2() # object of child2 class\n",
    "\n",
    "obj.func1() # calling function 1 from parent1 class"
   ],
   "id": "2ec0b9c0573f5c0a",
   "outputs": [
    {
     "name": "stdout",
     "output_type": "stream",
     "text": [
      "This is function 1 from parent1 class\n"
     ]
    }
   ],
   "execution_count": 76
  },
  {
   "metadata": {},
   "cell_type": "markdown",
   "source": [
    "# Multipath Inheritance \n",
    "Multipath inheritance is a feature in which a class can inherit attributes and methods from more than one parent class. It is also known as the diamond problem."
   ],
   "id": "9ebfc554f95c2c7c"
  },
  {
   "metadata": {
    "ExecuteTime": {
     "end_time": "2024-10-24T09:49:33.937520Z",
     "start_time": "2024-10-24T09:49:33.933723Z"
    }
   },
   "cell_type": "code",
   "source": [
    "class Parent:\n",
    "    def func1(self):\n",
    "        print(\"This is function 1 from parent class\")\n",
    "class Child1(Parent):\n",
    "    def func2(self):\n",
    "        print(\"This is function 2 from child1 class\")\n",
    "class Child2(Parent):\n",
    "    def func3(self):\n",
    "        print(\"This is function 3 from child2 class\")\n",
    "class Child3(Child1,Child2):\n",
    "    def func4(self):\n",
    "        print(\"This is function 4 from child3 class\")\n"
   ],
   "id": "ed2f15c680248176",
   "outputs": [],
   "execution_count": 77
  },
  {
   "metadata": {
    "ExecuteTime": {
     "end_time": "2024-10-24T09:49:41.874360Z",
     "start_time": "2024-10-24T09:49:41.868756Z"
    }
   },
   "cell_type": "code",
   "source": [
    "obj = Child3() # object of child3 class\n",
    "obj.func1() # calling function 1 from parent class"
   ],
   "id": "34fb094165771890",
   "outputs": [
    {
     "name": "stdout",
     "output_type": "stream",
     "text": [
      "This is function 1 from parent class\n"
     ]
    }
   ],
   "execution_count": 78
  },
  {
   "metadata": {},
   "cell_type": "code",
   "outputs": [],
   "execution_count": null,
   "source": "",
   "id": "1c714833c8ec3ddb"
  },
  {
   "metadata": {},
   "cell_type": "markdown",
   "source": "# Cyclic Inheritance\n",
   "id": "ad1bf4d6e156d239"
  },
  {
   "metadata": {},
   "cell_type": "code",
   "outputs": [],
   "execution_count": null,
   "source": [
    "class A(B):\n",
    "    pass\n",
    "class B(A):\n",
    "    pass"
   ],
   "id": "205aff326b85f5d3"
  },
  {
   "metadata": {
    "ExecuteTime": {
     "end_time": "2024-10-24T09:50:41.259894Z",
     "start_time": "2024-10-24T09:50:41.253322Z"
    }
   },
   "cell_type": "code",
   "source": "",
   "id": "1b416113f26853e2",
   "outputs": [],
   "execution_count": null
  },
  {
   "metadata": {},
   "cell_type": "markdown",
   "source": "# Diamond Problem to solve and its your assingment",
   "id": "9578d73ed4e6c195"
  },
  {
   "metadata": {
    "ExecuteTime": {
     "end_time": "2024-10-24T09:50:55.670506Z",
     "start_time": "2024-10-24T09:50:55.657962Z"
    }
   },
   "cell_type": "code",
   "source": [
    "# Great! Since you've mastered inheritance in Python, I’ll give you 10 challenging problems that will test your understanding of complex inheritance concepts, along with 5 real-life project ideas to apply your knowledge.\n",
    "# \n",
    "# ### **10 Complex Challenges (Covering Advanced Inheritance Concepts)**\n",
    "# \n",
    "# 1. **Multiple Inheritance with Method Resolution Order (MRO)**:\n",
    "#    - Create a set of classes where a child class inherits from two or more parent classes with overlapping method names. Analyze how Python resolves the method calls using the C3 linearization (MRO).\n",
    "#    - **Hint**: Use the `super()` function and the `__mro__` attribute to track method resolution.\n",
    "# \n",
    "# 2. **Diamond Problem (Multiple Inheritance)**:\n",
    "#    - Implement a diamond inheritance structure where a grandchild class inherits from two classes, both of which inherit from the same base class. Ensure that methods in the grandchild class call the base class's methods in the correct order.\n",
    "#    - **Hint**: Use the `super()` method to control the calling sequence of parent classes.\n",
    "# \n",
    "# 3. **Abstract Base Classes (ABC) in a Hierarchical Inheritance Structure**:\n",
    "#    - Create an abstract base class (ABC) with one or more abstract methods, then create subclasses that implement those abstract methods. Make the design such that some subclasses also inherit from multiple abstract base classes.\n",
    "#    - **Hint**: Use Python’s `abc` module to define abstract methods.\n",
    "# \n",
    "# 4. **Override Parent Class Methods and Use `super()` Efficiently**:\n",
    "#    - Create a class hierarchy where child classes override parent class methods but also use `super()` to extend the parent class's functionality.\n",
    "#    - **Challenge**: In the middle of the hierarchy, add a class that overrides methods but alters their behavior completely before calling `super()`.\n",
    "# \n",
    "# 5. **Dynamic Method Overriding**:\n",
    "#    - Define a class where a method is dynamically overridden during runtime. Create a situation where the behavior of the method depends on external conditions, and this method is overridden in the subclass.\n",
    "#    - **Hint**: Use `setattr()` to modify class methods dynamically.\n",
    "# \n",
    "# 6. **Polymorphism with Multiple Levels of Inheritance**:\n",
    "#    - Create a scenario where you have three or more levels of inheritance, with methods being overridden at each level. Demonstrate how polymorphism works when the object of the last level is used to call methods defined at various levels.\n",
    "#    - **Hint**: Implement both method overloading and overriding.\n",
    "# \n",
    "# 7. **Mixins and Code Reusability**:\n",
    "#    - Design a system using mixins where multiple subclasses inherit from mixins that add specific functionality (e.g., logging, validation). Demonstrate how mixins can be reused across different class hierarchies.\n",
    "#    - **Hint**: Mixins should be small, focused classes that provide one feature.\n",
    "# \n",
    "# 8. **Inheritance with Class and Instance Attributes**:\n",
    "#    - Create a class hierarchy where the parent class defines class-level and instance-level attributes. In the child class, change some of these attributes and see how they interact.\n",
    "#    - **Hint**: Explore how class attributes are shared and how instance attributes override them.\n",
    "# \n",
    "# 9. **Factory Pattern Using Inheritance**:\n",
    "#    - Implement a factory pattern where a factory class dynamically creates instances of different subclasses based on user input. Each subclass should inherit from a common parent class but perform a unique task.\n",
    "#    - **Hint**: Use `__new__()` or metaclasses to control instance creation.\n",
    "# \n",
    "# 10. **Cyclic Inheritance Check**:\n",
    "#     - Write code that checks if a cyclic inheritance structure (a child class eventually inheriting from itself) is accidentally created. Raise an exception if detected.\n",
    "#     - **Hint**: Use the `inspect` module and the `__bases__` attribute of classes to track inheritance chains.\n",
    "# \n",
    "# ---\n",
    "# \n",
    "# ### **5 Real-Life Project Ideas (Apply Inheritance Concepts)**\n",
    "# \n",
    "# 1. **School Management System**:\n",
    "#    - Implement a system with classes like `Person`, `Teacher`, `Student`, and `Administrator`. Use inheritance to share common attributes and methods. Handle complex relationships, like assigning teachers to students and classrooms.\n",
    "#    - **Concepts Covered**: Multiple inheritance, method overriding, polymorphism.\n",
    "# \n",
    "# 2. **E-Commerce Platform**:\n",
    "#    - Create a class hierarchy for products (`Electronics`, `Clothing`, `Food`) that inherits from a base `Product` class. Implement a system to calculate discounts based on the product type, and use inheritance to add specific behavior for each type of product.\n",
    "#    - **Concepts Covered**: Abstract base classes, method overriding, mixins.\n",
    "# \n",
    "# 3. **Vehicle Rental Service**:\n",
    "#    - Design a system where a `Vehicle` is a parent class and `Car`, `Bike`, `Truck` are child classes. Each type of vehicle has its unique rental calculation (price per day, insurance). Create a customer interface that allows them to rent any vehicle.\n",
    "#    - **Concepts Covered**: Inheritance, polymorphism, class and instance attributes.\n",
    "# \n",
    "# 4. **Library System**:\n",
    "#    - Build a library management system where you have classes like `Book`, `Member`, and `Librarian`. Use inheritance to manage different types of books (e.g., E-books, Physical Books) and members (e.g., Students, Faculty). Add features like borrowing, returning books, and fines.\n",
    "#    - **Concepts Covered**: Multiple inheritance, factory pattern, method overriding.\n",
    "# \n",
    "# 5. **Banking System**:\n",
    "#    - Create a class hierarchy for bank accounts (`SavingsAccount`, `CheckingAccount`, `LoanAccount`) that inherits from a base `Account` class. Implement methods for deposit, withdrawal, and interest calculation, with each subclass adding its own special rules.\n",
    "#    - **Concepts Covered**: Abstract base classes, class-level attributes, method resolution order (MRO).\n",
    "# \n",
    "# ---\n",
    "# \n",
    "# These challenges and projects will push you to apply advanced concepts of inheritance in Python and develop real-world solutions. Let me know if you need help with any specific challenge or project!"
   ],
   "id": "5aeab0199caf01c7",
   "outputs": [],
   "execution_count": 79
  },
  {
   "metadata": {},
   "cell_type": "markdown",
   "source": "",
   "id": "1c372b0351bca4c9"
  }
 ],
 "metadata": {
  "kernelspec": {
   "display_name": "Python 3",
   "language": "python",
   "name": "python3"
  },
  "language_info": {
   "codemirror_mode": {
    "name": "ipython",
    "version": 2
   },
   "file_extension": ".py",
   "mimetype": "text/x-python",
   "name": "python",
   "nbconvert_exporter": "python",
   "pygments_lexer": "ipython2",
   "version": "2.7.6"
  }
 },
 "nbformat": 4,
 "nbformat_minor": 5
}
