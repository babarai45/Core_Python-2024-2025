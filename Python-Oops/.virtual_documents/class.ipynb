print("Hello World")


#  Example of 2 products with same brands name 


class Product:   # instance class 
    brand = 'Apple'   # class attribute  (shareable with all objects )
    def __init__(self,name):   # magic ,special,dunder or constructor, initializer 
        self.name = name       #  instance attribute (not shareable with all objects )
    def display(self):
        # instens method or regualer methood or normal method 
        return f"Product name is {self.name} and brand is {Product.brand}"
p1 = Product("Laptop")
print(p1.display())
print(p1.brand)
print(Product.brand)

# Notic :
# in this example in display we call brand by Direct Product Object 


# access by instance object p1 


class Product:   # instance class 
    brand = 'Apple'   # class attribute  (shareable with all objects )
    def __init__(self,name):   # magic ,special,dunder or constructor, initializer 
        self.name = name       #  instance attribute (not shareable with all objects )
    def display(self):
        return f"Product name is {self.name} and brand is {p1.brand}"
p1 = Product("Laptop")
print(p1.display())
print(p1.brand)
print(Product.brand)

# Notic :
# in this example in display we call brand by instance object by P1 


# access brand by self kewoord of magic method 


class Product:   # instance class 
    brand = 'Apple'   # class attribute  (shareable with all objects )
    def __init__(self,name):   # magic, special, dunder or constructor, initializer 
        self.name = name       #  instance attribute (not shareable with all objects )
    def display(self):
        return f"Product name is {self.name} and brand is {self.brand}"
p1 = Product("Laptop")
print(p1.display())
print(p1.brand)
print(Product.brand)
p2 = Product("Mobile")
print(p2.display())


# Notic :
# in this example in display we call brand by self keyword from constructor or magic method 


# but now we are try access instance attribute with same objects 





class Product:   # instance class 
    brand = 'Apple'   # class attribute  (shareable with all objects )
    def __init__(self,name):   # magic ,special,dunder or constructor, initializer 
        self.name = name       #  instance attribute (not shareable with all objects )
    def display(self):
        return f"Product name is {Product.name} and brand is {Product.brand}"
p1 = Product("Laptop")
print(p1.display())
print(p1.brand)
print(Product.brand)

# Notic :
# in this example in display we call product name  by Direct Product Object 
# it show error   mean instance attribute notshareble with Product object 


class Product:   # instance class 
    brand = 'Apple'   # class attribute  (shareable with all objects )
    def __init__(self,name):   # magic ,special,dunder or constructor, initializer 
        self.name = name       #  instance attribute (not shareable with all objects )
    def display(self):
        return f"Product name is {p1.name} and brand is {Product.brand}"
p1 = Product("Laptop")
print(p1.display())
print(p1.brand)
print(Product.brand)

# Notic :
# In this example in the display we call the product name  by p1 by Product Object 
# 


# calling by self


class Product:   # instance class 
    brand = 'Apple'   # class attribute  (shareable with all objects )
    def __init__(self,name):   # magic ,special,dunder or constructor, initializer 
        self.name = name       #  instance attribute (not shareable with all objects )
    def display(self):
        return f"Product name is {self.name} and brand is {Product.brand}"
p1 = Product("Laptop")
print(p1.display())
print(p1.brand)
print(Product.brand)

# Notic :
# In this example in the display we call the product name  by self 
# 


# problem 


# here some courses of NLP,XR,AI,DP and two person ali and babar both are 2 2 course enroll
# ali XR Dp and Babar is NLP and Ai 


class Enroll:
    courses  = []
    def __init__(self, std_name):
        self.name = std_name
    def add_courses(self, *course_name):
        self.courses.append(course_name)
    def display(self):
        return f"Name is {self.name} and its Enrolled Courses is {self.add_courses}"
        
        
babar = Enroll("Babar")
ali = Enroll("Ali")
babar.add_courses("AI")
babar.add_courses("NLP")
ali.add_courses("xR")
ali.add_courses("DP")

print(babar.name)
print(babar)
print(Enroll.courses)
print(babar.course_name)


class Enroll:
    courses  = []
    def __init__(self, std_name):
        self.name = std_name  
    def add_courses(self,course_name):
        self.course = course_name
        self.courses.append(course_name)


babar = Enroll("Babar")
ali = Enroll("Ali")
babar.add_courses("NLP")
babar.add_courses("AI")
ali.add_courses("XR")
ali.add_courses("ML")
print(babar.name)
print(ali.name)
print(babar.courses)


print(babar.name)
print(ali.name)



class Enroll:
    def __init__(self, std_name):
        self.name = std_name
        self.courses = []  # Initialize an empty list to store enrolled courses

    def add_courses(self, *course_names):  # Handle multiple course enrollments
        """Adds one or more courses to the student's enrollment.

        Args:
            *course_names (str): Variable number of course names.
        """
        for course in course_names:
            self.courses.append(course)

    def display(self):
        """Returns a formatted string showing the student's name and enrolled courses.

        Returns:
            str: A formatted string with enrollment information.
        """
        courses_str = ", ".join(self.courses) if self.courses else "None"  # Handle empty course list
        return f"Name is {self.name} and enrolled courses: {courses_str}"

# Create student enrollments
babar = Enroll("Babar")
ali = Enroll("Ali")

# Enroll students in courses
babar.add_courses("AI", "NLP")
ali.add_courses("xR", "DP")

# Print student information
print(babar.display())
print(ali.display())


class Enroll:
    courses = []
    def __init__(self, std_name):
        self.name = std_name
    def add_course(self, *courses):
        for course in courses:
            self.courses.append(add_course)
        return f'Name is {Enroll.name} and its courses is {add_course}'
babar = Enroll("Babar")
babar.add_course("NLP")
print(babar.courses)





class Enroll:
    def __init__(self, std_name):
        self.name = std_name  
        self.courses = []  # Now courses is an instance attribute
        
    def add_courses(self, course_name):
        self.courses.append(course_name)

    def display(self):
        return f"Name is {self.name} and its Enrolled Courses is {self.courses}"

babar = Enroll("Babar")
ali = Enroll("Ali")
babar.add_courses("NLP")
babar.add_courses("AI")
ali.add_courses("XR")
ali.add_courses("ML")

print(babar.display())
print(ali.display())





# constructor create or allocate memory for all class member on run time and 
# distructot dealcate all memory on run time 
class Hello:
    def __init__(self):
        print("creating objecs ")
    def __del__(self):
        print("destroyed objects ")
p1= Hello()






# we can also used for construtot __enter__
class Home:
    def __enter__(self):
        print("creating objecs ")
    def __exit__(self):
        print("Destroyed objects ")

h1 = Home()






