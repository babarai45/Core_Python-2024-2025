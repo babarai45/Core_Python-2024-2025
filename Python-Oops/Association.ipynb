{
 "cells": [
  {
   "cell_type": "markdown",
   "metadata": {},
   "source": [
    "# Association in Python"
   ]
  },
  {
   "cell_type": "markdown",
   "metadata": {},
   "source": [
    "## Association \n",
    "Association is a relationship where all objects have their own lifecycle and there is no owner. Let's take an example of Teacher and Student. Multiple students can associate with a single teacher and a single student can associate with multiple teachers. But there is no ownership between the objects and both have their own lifecycle. Both can create and delete independently."
   ]
  },
  {
   "cell_type": "markdown",
   "metadata": {},
   "source": [
    "# lets take an example of association in python by showing the relationship between the two classes as stroy telling.\n",
    "\n",
    "## Story telling \n",
    "like we are creating a story of a stuedent forms a relationship \n",
    "so whenever we create any project we creates lots of classes with differebt names and its differents attributes and methods but each class are connected with each other in some way so that they can perform the task together.\n",
    "so in this relationship we can say that the classes are associated with each other.\n",
    "but these association of classes are not dependent on each other.\n",
    "and its not as class inharitance where one class is dependent on other class.\n",
    "so in association we can say that the classes are associated with each other but not dependent on each other.because it is not accessing all the attributes and methods of other class it is just accessing the required attributes and methods of other class.\n",
    "\n",
    "## Example\n",
    "Let's take an example of a student and a library. A student can issue multiple books from the library. Also, a book can be issued by multiple students. But there is no ownership between the student and the library. Both can be created and deleted independently.\n",
    "\n",
    "\n",
    "# ### Association is two types:\n",
    "# 1. Aggregation (Has-A Relationship) \n",
    "- it is a optional relationship between the classes like we can say week association.\n",
    "# 2. Composition\n",
    "- it is a strong relationship between the classes like we can say strong association and its compulsory relationship between the classes.\n"
   ]
  },
  {
   "cell_type": "markdown",
   "metadata": {},
   "source": []
  },
  {
   "cell_type": "code",
   "execution_count": 5,
   "metadata": {},
   "outputs": [
    {
     "name": "stdout",
     "output_type": "stream",
     "text": [
      "Name: Ali\n",
      "Email: ali@gmail.com\n",
      "City: Karachi\n",
      "Street: Gulshan\n",
      "House: 123\n"
     ]
    }
   ],
   "source": [
    "# composition is a way to combine objects or classes together.\n",
    "\n",
    "class Address:\n",
    "    def __init__(self, city = None, street = None, house = None):\n",
    "        self.city = city\n",
    "        self.street = street\n",
    "        self.house = house\n",
    "    \n",
    "\n",
    "class student:\n",
    "    def __init__(self, name =None, email=None): # here is None is default value for name and email\n",
    "        self.name = name\n",
    "        self.email = email\n",
    "        self.address = Address()  # here we are creating object of Address class and assigning it to address variable\n",
    "        # and this is called composition because we are defining object of one class in another class as compulsoy part of it.\n",
    "\n",
    "s1 = student(\"Ali\", \"ali@gmail.com\" )\n",
    "s1.address.city = \"Karachi\"\n",
    "s1.address.street = \"Gulshan\"\n",
    "s1.address.house = \"123\"\n",
    "\n",
    "print(f'Name: {s1.name}', f'Email: {s1.email}', f'City: {s1.address.city}', f'Street: {s1.address.street}', f'House: {s1.address.house}', sep = '\\n')"
   ]
  },
  {
   "cell_type": "code",
   "execution_count": 8,
   "metadata": {},
   "outputs": [
    {
     "name": "stdout",
     "output_type": "stream",
     "text": [
      "Name: Ali\n",
      "Email: ali@gmail.com\n",
      "City: Karachi\n",
      "Street: Gulshan\n",
      "House: 123\n"
     ]
    }
   ],
   "source": [
    "# Aggregation is a way to combine objects or classes together but it is not compulsory to have one class object in another class.\n",
    "\n",
    "class Address:\n",
    "    def __init__(self, city = None, street = None, house = None):\n",
    "        self.city = city\n",
    "        self.street = street\n",
    "        self.house = house\n",
    "    \n",
    "\n",
    "class student:\n",
    "    def __init__(self, name =None, email=None): # here is None is default value for name and email\n",
    "        self.name = name\n",
    "        self.email = email\n",
    "        self.address = None  # None is default value for address variable  it Aggregation\n",
    "        # self.address = Address() for aggregation we will not define over class type attribute /object here because it is not compulsory\n",
    "\n",
    "s1 = student(\"Ali\", \"ali@gmail.com\" )\n",
    "s1.address = Address() # here we are defining object of Address class and assigning it to address variable\n",
    "# so here we can comment or uncomment this line and it will not effect the code. \n",
    "s1.address.city = \"Karachi\"\n",
    "s1.address.street = \"Gulshan\"\n",
    "s1.address.house = \"123\"\n",
    "\n",
    "print(f'Name: {s1.name}', f'Email: {s1.email}', f'City: {s1.address.city}', f'Street: {s1.address.street}', f'House: {s1.address.house}', sep = '\\n')"
   ]
  },
  {
   "cell_type": "code",
   "execution_count": null,
   "metadata": {},
   "outputs": [],
   "source": []
  },
  {
   "cell_type": "markdown",
   "metadata": {},
   "source": [
    "# user intrection "
   ]
  },
  {
   "cell_type": "code",
   "execution_count": 9,
   "metadata": {},
   "outputs": [
    {
     "name": "stdout",
     "output_type": "stream",
     "text": [
      "Name: babar\n",
      "Email: babar@gmail.come\n",
      "City: lahore\n",
      "Street: 34\n",
      "House: 45\n",
      "Name: ali\n",
      "Email: ali@gmaul.come\n",
      "City: islambade\n",
      "Street: 4567\n",
      "House: 001\n"
     ]
    }
   ],
   "source": [
    "# composition is a way to combine objects or classes together.\n",
    "\n",
    "class Address:\n",
    "    def __init__(self, city = None, street = None, house = None):\n",
    "        self.city = city\n",
    "        self.street = street\n",
    "        self.house = house\n",
    "    \n",
    "\n",
    "class student:\n",
    "    def __init__(self, name =None, email=None): # here is None is default value for name and email\n",
    "        self.name = name\n",
    "        self.email = email\n",
    "        self.address = Address()  \n",
    "\n",
    "total_students = int(input(\"Enter total number of students: \"))\n",
    "students = []\n",
    "for i in range(total_students):\n",
    "    name = input(\"Enter name of student: \")\n",
    "    email = input(\"Enter email of student: \")\n",
    "    city = input(\"Enter city of student: \")\n",
    "    street = input(\"Enter street of student: \")\n",
    "    house = input(\"Enter house of student: \")\n",
    "    s = student(name, email)\n",
    "    s.address.city = city\n",
    "    s.address.street = street\n",
    "    s.address.house = house\n",
    "    students.append(s)\n",
    "\n",
    "for s in students:\n",
    "    print(f'Name: {s.name}', f'Email: {s.email}', f'City: {s.address.city}', f'Street: {s.address.street}', f'House: {s.address.house}', sep = '\\n')\n",
    "    "
   ]
  },
  {
   "cell_type": "code",
   "execution_count": null,
   "metadata": {},
   "outputs": [],
   "source": []
  },
  {
   "cell_type": "code",
   "execution_count": null,
   "metadata": {},
   "outputs": [],
   "source": []
  }
 ],
 "metadata": {
  "kernelspec": {
   "display_name": "base",
   "language": "python",
   "name": "python3"
  },
  "language_info": {
   "codemirror_mode": {
    "name": "ipython",
    "version": 3
   },
   "file_extension": ".py",
   "mimetype": "text/x-python",
   "name": "python",
   "nbconvert_exporter": "python",
   "pygments_lexer": "ipython3",
   "version": "3.12.4"
  }
 },
 "nbformat": 4,
 "nbformat_minor": 2
}
