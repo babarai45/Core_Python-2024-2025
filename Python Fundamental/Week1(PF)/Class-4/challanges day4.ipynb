{
 "cells": [
  {
   "cell_type": "code",
   "execution_count": 1,
   "id": "8ddb776643717ab0",
   "metadata": {
    "ExecuteTime": {
     "end_time": "2024-04-06T14:39:01.913166Z",
     "start_time": "2024-04-06T14:38:52.169712Z"
    }
   },
   "outputs": [
    {
     "name": "stdout",
     "output_type": "stream",
     "text": [
      "4\n"
     ]
    }
   ],
   "source": [
    "# 1. Write a function that takes two integers and a string operator as input (e.g., \"+\", \"-\", \"*\", \"/\", \"%\", \"**\", \"//\"), and performs the specified operation on the two integers, returning the result.\n",
    "# simple Method \n",
    "num1 = int(input(\"Enter a number 1: \"))\n",
    "num2 = int(input(\"Enter a number 2: \"))\n",
    "opr = input(\"Enter a number operation (+, -, *, /, %, **, //): \")\n",
    "if opr == '+':\n",
    "    print(num1 + num2)\n",
    "elif opr == '-':\n",
    "    print(num1 - num2)\n",
    "elif opr == '*':\n",
    "    print(num1 * num2)\n",
    "elif opr == '/':\n",
    "    print(num1 / num2)\n",
    "elif opr == '%':\n",
    "    print(num1 % num2)\n",
    "elif opr == '**':\n",
    "    print(num1 ** num2)\n",
    "elif opr == '//':\n",
    "    print(num1 // num2)\n",
    "else:\n",
    "    print(\"Invalid input\")\n",
    "# first code 19 line"
   ]
  },
  {
   "cell_type": "code",
   "execution_count": 20,
   "id": "6eae3862496915f9",
   "metadata": {
    "ExecuteTime": {
     "end_time": "2024-04-04T09:28:00.352723Z",
     "start_time": "2024-04-04T09:27:56.308570Z"
    }
   },
   "outputs": [
    {
     "name": "stdout",
     "output_type": "stream",
     "text": [
      "Result: 4\n"
     ]
    }
   ],
   "source": [
    "# using loop\n",
    "num1 = int(input(\"Enter a number 1: \"))\n",
    "num2 = int(input(\"Enter a number 2: \"))\n",
    "user_input = input(\"Enter a number: \")\n",
    "opra=\"+,-,/,//,*,**,%\"\n",
    "for i in user_input:\n",
    "    if i in opra:\n",
    "        result = str(num1) + user_input + str(num2)  # Concatenate num1, operator, and num2 as strings\n",
    "        print(\"Result:\", eval(result))\n",
    "    else:\n",
    "        print(\"invalid input\")\n",
    "# second  code 10 line"
   ]
  },
  {
   "cell_type": "code",
   "execution_count": 50,
   "id": "196a1e886ee6de24",
   "metadata": {
    "ExecuteTime": {
     "end_time": "2024-04-04T10:03:40.060202Z",
     "start_time": "2024-04-04T10:03:32.600269Z"
    }
   },
   "outputs": [
    {
     "name": "stdout",
     "output_type": "stream",
     "text": [
      "your result num1 and num2 is 4\n"
     ]
    }
   ],
   "source": [
    "num1 = int(input(\"Enter a number 1: \"))\n",
    "num2 = int(input(\"Enter a number 2: \"))\n",
    "user_input = input(\"Enter a number operation (+, -, *, /, %, **, //): \")\n",
    "operators = \"+,-,/,//,*,**,%\"  # Define valid operators\n",
    "if user_input in operators:\n",
    "    print(\"your result num1 and num2 is\",eval(str(num1) + user_input + str(num2)))\n",
    "else:\n",
    "    print(\"Invalid input\")\n",
    "# 3rd code is  8"
   ]
  },
  {
   "cell_type": "code",
   "execution_count": 24,
   "id": "95323cbed6c83794",
   "metadata": {
    "ExecuteTime": {
     "end_time": "2024-04-04T09:37:16.441032Z",
     "start_time": "2024-04-04T09:37:12.111296Z"
    }
   },
   "outputs": [
    {
     "name": "stdout",
     "output_type": "stream",
     "text": [
      "Result: 4\n"
     ]
    }
   ],
   "source": [
    "num1 = int(input(\"Enter a number 1: \"))\n",
    "num2 = int(input(\"Enter a number 2: \"))\n",
    "user_input = input(\"Enter a number operation (+, -, *, /, %, **, //): \")\n",
    "operators = \"+,-,/,//,*,**,%\"  \n",
    "result = [eval(f\"{num1} {user_input} {num2}\")] if user_input in operators else []\n",
    "print(\"Result:\", result[0] if result else \"Invalid input\")\n",
    "# then 6 line"
   ]
  },
  {
   "cell_type": "code",
   "execution_count": 44,
   "id": "761f892d2414e6f3",
   "metadata": {
    "ExecuteTime": {
     "end_time": "2024-04-04T09:51:09.838715Z",
     "start_time": "2024-04-04T09:50:54.540186Z"
    }
   },
   "outputs": [
    {
     "name": "stdout",
     "output_type": "stream",
     "text": [
      "Result: 4\n"
     ]
    }
   ],
   "source": [
    "num1, num2 = input(\"Enter two numbers separated by space: \").split(',')\n",
    "user_input = input(\"Enter a number operation (+, -, *, /, %, **, //): \")\n",
    "operators = \"+,-,/,//,*,**,%\"  \n",
    "result = [eval(f\"{num1} {user_input} {num2}\")] if user_input in operators else []\n",
    "print(\"Result:\", result[0] if result else \"Invalid input\")\n",
    "# five line"
   ]
  },
  {
   "cell_type": "code",
   "execution_count": 43,
   "id": "9312eb8e62c4ac29",
   "metadata": {
    "ExecuteTime": {
     "end_time": "2024-04-04T09:50:46.177482Z",
     "start_time": "2024-04-04T09:50:38.276661Z"
    }
   },
   "outputs": [
    {
     "name": "stdout",
     "output_type": "stream",
     "text": [
      "Result: 0\n"
     ]
    }
   ],
   "source": [
    "num1,user_input,num2= input(\"Enter two numbers separated by comma: \").split(' ')\n",
    "operators = \"+,-,/,//,*,**,%\"  \n",
    "result = [eval(f\"{num1} {user_input} {num2}\")] if user_input in operators else []\n",
    "print(\"Result:\", result[0] if result else \"Invalid input\")# # operaters \n",
    "# 4 line "
   ]
  },
  {
   "cell_type": "code",
   "execution_count": 36,
   "id": "baf25fb605369452",
   "metadata": {
    "ExecuteTime": {
     "end_time": "2024-04-04T09:46:57.802415Z",
     "start_time": "2024-04-04T09:46:53.532908Z"
    }
   },
   "outputs": [
    {
     "name": "stdout",
     "output_type": "stream",
     "text": [
      "Result: 4\n"
     ]
    }
   ],
   "source": [
    "num1, num2 ,user_input= input(\"Enter two numbers separated by comma: \").split(',') \n",
    "result = [eval(f\"{num1} {user_input} {num2}\")] \n",
    "print(\"Result:\", result[0] if result else \"Invalid input\")# \n",
    "# 3line"
   ]
  },
  {
   "cell_type": "code",
   "execution_count": null,
   "id": "b0e1a1cb0b420071",
   "metadata": {},
   "outputs": [],
   "source": [
    "num1, user_input, num2 = input(\"Enter two numbers separated by comma, followed by an operator: \").split(',')\n",
    "result = eval(f\"{num1} {user_input} {num2}\") if user_input in \"+-*/%**//\" else None\n",
    "print(\"Result:\", result if result is not None else \"Invalid input\")\n",
    "# 3line "
   ]
  },
  {
   "cell_type": "code",
   "execution_count": 9,
   "id": "e8bc4eec6da05d3",
   "metadata": {
    "ExecuteTime": {
     "end_time": "2024-04-05T09:36:46.816036Z",
     "start_time": "2024-04-05T09:36:41.542152Z"
    }
   },
   "outputs": [
    {
     "name": "stdout",
     "output_type": "stream",
     "text": [
      "result 4\n"
     ]
    }
   ],
   "source": [
    "num1, num2 ,user_input= input(\"Enter two numbers separated by comma: \").split(',') \n",
    "print(\"result\",eval(f\"{num1} {user_input} {num2}\") if user_input in \"+-*/%**//\" else \"invalid input\")\n",
    "# line "
   ]
  },
  {
   "cell_type": "code",
   "execution_count": 4,
   "id": "b08d3d43267e4066",
   "metadata": {
    "ExecuteTime": {
     "end_time": "2024-04-06T14:39:35.384660Z",
     "start_time": "2024-04-06T14:39:29.200408Z"
    }
   },
   "outputs": [
    {
     "ename": "ZeroDivisionError",
     "evalue": "division by zero",
     "output_type": "error",
     "traceback": [
      "\u001B[1;31m---------------------------------------------------------------------------\u001B[0m",
      "\u001B[1;31mZeroDivisionError\u001B[0m                         Traceback (most recent call last)",
      "Cell \u001B[1;32mIn[4], line 2\u001B[0m\n\u001B[0;32m      1\u001B[0m num1,user_input,num2\u001B[38;5;241m=\u001B[39m \u001B[38;5;28minput\u001B[39m(\u001B[38;5;124m\"\u001B[39m\u001B[38;5;124mEnter two numbers without space: \u001B[39m\u001B[38;5;124m\"\u001B[39m) \u001B[38;5;66;03m# without split \u001B[39;00m\n\u001B[1;32m----> 2\u001B[0m \u001B[38;5;28mprint\u001B[39m(\u001B[38;5;124m\"\u001B[39m\u001B[38;5;124mresult\u001B[39m\u001B[38;5;124m\"\u001B[39m,\u001B[38;5;28;43meval\u001B[39;49m\u001B[43m(\u001B[49m\u001B[38;5;124;43mf\u001B[39;49m\u001B[38;5;124;43m\"\u001B[39;49m\u001B[38;5;132;43;01m{\u001B[39;49;00m\u001B[43mnum1\u001B[49m\u001B[38;5;132;43;01m}\u001B[39;49;00m\u001B[38;5;124;43m \u001B[39;49m\u001B[38;5;132;43;01m{\u001B[39;49;00m\u001B[43muser_input\u001B[49m\u001B[38;5;132;43;01m}\u001B[39;49;00m\u001B[38;5;124;43m \u001B[39;49m\u001B[38;5;132;43;01m{\u001B[39;49;00m\u001B[43mnum2\u001B[49m\u001B[38;5;132;43;01m}\u001B[39;49;00m\u001B[38;5;124;43m\"\u001B[39;49m\u001B[43m)\u001B[49m \u001B[38;5;28;01mif\u001B[39;00m user_input \u001B[38;5;129;01min\u001B[39;00m \u001B[38;5;124m\"\u001B[39m\u001B[38;5;124m+-*/\u001B[39m\u001B[38;5;124m%\u001B[39m\u001B[38;5;124m**//\u001B[39m\u001B[38;5;124m\"\u001B[39m \u001B[38;5;28;01melse\u001B[39;00m \u001B[38;5;124m\"\u001B[39m\u001B[38;5;124minvalid input\u001B[39m\u001B[38;5;124m\"\u001B[39m)\n\u001B[0;32m      3\u001B[0m \u001B[38;5;66;03m# line \u001B[39;00m\n",
      "File \u001B[1;32m<string>:1\u001B[0m\n",
      "\u001B[1;31mZeroDivisionError\u001B[0m: division by zero"
     ]
    }
   ],
   "source": [
    "num1,user_input,num2= input(\"Enter two numbers without space: \") # without split \n",
    "print(\"result\",eval(f\"{num1} {user_input} {num2}\") if user_input in \"+-*/%**//\" else \"invalid input\")\n",
    "# line "
   ]
  },
  {
   "cell_type": "code",
   "execution_count": 14,
   "id": "514d0c5abda46c1e",
   "metadata": {
    "ExecuteTime": {
     "end_time": "2024-04-05T09:50:15.879743Z",
     "start_time": "2024-04-05T09:50:01.900735Z"
    }
   },
   "outputs": [
    {
     "name": "stdout",
     "output_type": "stream",
     "text": [
      "result 4\n"
     ]
    }
   ],
   "source": [
    "while True:\n",
    "    num1,user_input,num2= input(\"Enter two numbers separated by comma: \")\n",
    "    print(\"result\",eval(f\"{num1} {user_input} {num2}\") if user_input in \"+-*/%**//\" else \"invalid input\")\n",
    "    user_input_continue = input(\"Continue? (y/n): \")\n",
    "    if user_input_continue.lower() != \"y\":\n",
    "            break\n",
    "\n"
   ]
  },
  {
   "cell_type": "code",
   "execution_count": null,
   "id": "331c9029d9515225",
   "metadata": {
    "ExecuteTime": {
     "end_time": "2024-04-05T09:53:33.184754Z",
     "start_time": "2024-04-05T09:53:33.174762Z"
    }
   },
   "outputs": [],
   "source": []
  },
  {
   "cell_type": "code",
   "execution_count": 2,
   "id": "9910e7fcb4cbcdf0",
   "metadata": {
    "ExecuteTime": {
     "end_time": "2024-04-05T09:34:44.402295Z",
     "start_time": "2024-04-05T09:34:41.157484Z"
    }
   },
   "outputs": [
    {
     "ename": "SyntaxError",
     "evalue": "invalid syntax (<string>, line 0)",
     "output_type": "error",
     "traceback": [
      "Traceback \u001B[1;36m(most recent call last)\u001B[0m:\n",
      "\u001B[0m  File \u001B[0;32mD:\\Python\\Lib\\site-packages\\IPython\\core\\interactiveshell.py:3553\u001B[0m in \u001B[0;35mrun_code\u001B[0m\n    exec(code_obj, self.user_global_ns, self.user_ns)\u001B[0m\n",
      "\u001B[1;36m  Cell \u001B[1;32mIn[2], line 3\u001B[1;36m\n\u001B[1;33m    user_input =eval(input(\"enter value \"))\u001B[1;36m\n",
      "\u001B[1;36m  File \u001B[1;32m<string>\u001B[1;36m\u001B[0m\n\u001B[1;33m    \u001B[0m\n\u001B[1;37m    ^\u001B[0m\n\u001B[1;31mSyntaxError\u001B[0m\u001B[1;31m:\u001B[0m invalid syntax\n"
     ]
    }
   ],
   "source": [
    "# eval function  used for dynamically evaluation for solve expressions \n",
    "# it defaults return integer\n",
    "user_input =eval(input(\"enter value \"))\n",
    "print(user_input)\n",
    "print(type(user_input))\n",
    "# some examples \n",
    "print(eval(\"2==2\"))\n",
    "\n",
    "# Python program to illustrate eval() function\n",
    "print(eval('10 == 10'))\n",
    "\n",
    "print(eval('2 ** 2'))\n",
    "\n",
    "print(eval(\"'Pyt' + 'hon'\"))\n",
    "\n",
    "print(eval(\"'He' * 5\"))\n",
    "\n",
    "x = 10 + 59 - 23 * 5\n",
    "print('Value of x is:', eval('x'))\n",
    "\n",
    "print('Sum of list is:', eval('sum([2, 4, 6, 8])'))"
   ]
  },
  {
   "cell_type": "code",
   "execution_count": 61,
   "id": "2ba090f5c9a6b049",
   "metadata": {
    "ExecuteTime": {
     "end_time": "2024-04-04T10:21:55.223471Z",
     "start_time": "2024-04-04T10:21:51.989375Z"
    }
   },
   "outputs": [
    {
     "name": "stdout",
     "output_type": "stream",
     "text": [
      "1 2 3 4\n",
      "('1', '2', '3')\n",
      "<class 'tuple'>\n"
     ]
    }
   ],
   "source": [
    "n,n2,n3,n4=input(\"enter values \")\n",
    "print(n,n2,n3,n4)\n",
    "a=(eval('n,n2,n3'))\n",
    "print(a)\n",
    "print((type(a)))"
   ]
  },
  {
   "cell_type": "markdown",
   "id": "6b5b17a72110a512",
   "metadata": {},
   "source": [
    "The `eval()` function in Python is a built-in function that evaluates a Python expression (a string containing valid Python code) and returns the result.\n",
    "\n",
    "### Syntax:\n",
    "```python\n",
    "eval(expression, globals=None, locals=None)\n",
    "```\n",
    "\n",
    "- `expression`: This is a string representing the Python expression to be evaluated.\n",
    "- `globals` (optional): This parameter specifies the global namespace to be used during evaluation. If not provided, `eval()` uses the global namespace of the caller.\n",
    "- `locals` (optional): This parameter specifies the local namespace to be used during evaluation. If provided, it must be a dictionary. If not provided, `eval()` uses the local namespace of the caller.\n",
    "\n",
    "### Usage:\n",
    "- `eval()` is commonly used when you have a string containing Python code that you want to execute dynamically at runtime.\n",
    "- It's useful when you need to evaluate expressions, perform arithmetic operations, execute statements, or even call functions dynamically based on user input or other runtime conditions.\n",
    "\n",
    "### Return Value:\n",
    "- `eval()` returns the result of the evaluated expression.\n",
    "- The type of the return value depends on the expression being evaluated. It could be an integer, float, string, list, tuple, dictionary, etc., depending on the expression.\n",
    "\n",
    "### Example:\n",
    "```python\n",
    "# Example 1: Evaluating a simple arithmetic expression\n",
    "result = eval(\"10 + 20\")\n",
    "print(result)  # Output: 30\n",
    "\n",
    "# Example 2: Evaluating a more complex expression with variables\n",
    "x = 5\n",
    "y = 3\n",
    "expression = \"x * y + (x + y) / 2\"\n",
    "result = eval(expression)\n",
    "print(result)  # Output: 23.0\n",
    "\n",
    "# Example 3: Using eval() with globals and locals\n",
    "globals_dict = {'x': 10, 'y': 20}\n",
    "locals_dict = {'y': 30}\n",
    "result = eval(\"x + y\", globals_dict, locals_dict)\n",
    "print(result)  # Output: 40\n",
    "\n",
    "# Example 4: Handling errors with eval() - Avoid using eval() with untrusted input\n",
    "try:\n",
    "    result = eval(\"__import__('os').system('ls')\")\n",
    "except Exception as e:\n",
    "    print(\"Error:\", e)  # Output: Error: name '__import__' is not defined\n",
    "```\n",
    "\n",
    "### Security Note:\n",
    "- While `eval()` is a powerful tool, it can also be dangerous if used with untrusted input, as it can execute arbitrary code and potentially introduce security vulnerabilities.\n",
    "- Avoid using `eval()` with untrusted input or when other safer alternatives are available.\n",
    "- more detail :\n",
    "- https://www.toppr.com/guides/python-guide/references/methods-and-functions/methods/built-in/eval/python-eval/#:~:text=What%20does%20eval()%20do,to%20the%20built%2Din%20function.\n",
    "\n",
    "The `eval()` function takes a string representing a Python expression as its input. When you call `eval()` without providing `globals` and `locals` arguments, it uses the global and local namespaces of the caller by default.\n",
    "\n",
    "- Default Input: The default input for `eval()` is a string containing a Python expression. This expression can include variables, function calls, arithmetic operations, etc. It represents the Python code that you want to evaluate dynamically.\n",
    "\n",
    "- Default Return Value: By default, `eval()` returns the result of the evaluated expression. This result can be of any data type depending on the expression being evaluated. For example, if the expression is an arithmetic operation, the result could be an integer or float. If the expression is a string operation, the result would be a string. If the expression is a function call, the result would be whatever the function returns.\n",
    "\n",
    "When you call `eval()` without providing `globals` and `locals` arguments, it uses the global and local namespaces of the caller. This means it evaluates the expression in the context where `eval()` is called. This behavior is useful for evaluating expressions using variables defined in the current scope. However, if you want to control the namespaces used during evaluation or restrict the code that `eval()` can access, you can provide `globals` and `locals` arguments explicitly."
   ]
  },
  {
   "cell_type": "code",
   "execution_count": null,
   "id": "d3f077eafece5c45",
   "metadata": {},
   "outputs": [],
   "source": []
  },
  {
   "cell_type": "markdown",
   "id": "109db52e1fa1a1f3",
   "metadata": {},
   "source": [
    "`eval()` and `exec()` are both built-in functions in Python, but they serve different purposes:\n",
    "\n",
    "1. **eval() Function**:\n",
    "   - The `eval()` function is used to evaluate expressions.\n",
    "   - It takes a string as input, interprets it as a Python expression, evaluates the expression, and returns the result.\n",
    "   - `eval()` can handle expressions that return a value. For example, arithmetic operations, function calls, variable assignments, etc.\n",
    "   - Example: `eval(\"2 + 3\")` would return `5`.\n",
    "\n",
    "2. **exec() Function**:\n",
    "   - The `exec()` function is used to execute statements or code blocks.\n",
    "   - It takes a string as input, interprets it as Python code, and executes the code.\n",
    "   - `exec()` is typically used when you want to execute multiple statements or a block of code dynamically.\n",
    "   - `exec()` does not return a value.\n",
    "   - Example: `exec(\"print('Hello, world!')\")` would print `Hello, world!`.\n",
    "\n",
    "In summary:\n",
    "- `eval()` is used to evaluate expressions and return their results.\n",
    "- `exec()` is used to execute statements or code blocks without returning any value.\n",
    "- Both functions take a string as input, but their behavior and use cases are different."
   ]
  },
  {
   "cell_type": "code",
   "execution_count": 28,
   "id": "c6442302b0c7288a",
   "metadata": {
    "ExecuteTime": {
     "end_time": "2024-04-05T10:00:18.135489Z",
     "start_time": "2024-04-05T10:00:11.543514Z"
    }
   },
   "outputs": [
    {
     "name": "stdout",
     "output_type": "stream",
     "text": [
      "['2', '3', '4', '3', '4', '5']\n",
      "<class 'list'>\n"
     ]
    }
   ],
   "source": [
    "# 2. Implement a program that prompts the user to enter a list of integers and a target sum, and then prints out all the pairs of numbers in the list that add up to the target sum, using the membership operator `in`.\n",
    "# \n",
    "user_input_list =(input(\"enter values \"))\n",
    "user_input_list=list(user_input_list)\n",
    "# enter_target_value = input(\"enter values \")\n",
    "print(user_input_list)\n",
    "print(type(user_input_list))"
   ]
  },
  {
   "cell_type": "code",
   "execution_count": 32,
   "id": "4cadc048a0d4eaa5",
   "metadata": {
    "ExecuteTime": {
     "end_time": "2024-04-05T10:18:30.557143Z",
     "start_time": "2024-04-05T10:18:27.513994Z"
    }
   },
   "outputs": [
    {
     "name": "stdout",
     "output_type": "stream",
     "text": [
      "['2', '3', '4', '5']\n",
      "2\n"
     ]
    }
   ],
   "source": [
    "tar=input(\"enter values \")\n",
    "li=input(\"enter values \")\n",
    "li=list(li)\n",
    "print(li)\n",
    "print(li[0])"
   ]
  },
  {
   "cell_type": "code",
   "execution_count": 34,
   "id": "3e0e4915d881f3ad",
   "metadata": {
    "ExecuteTime": {
     "end_time": "2024-04-05T10:28:46.477027Z",
     "start_time": "2024-04-05T10:28:41.289236Z"
    }
   },
   "outputs": [
    {
     "name": "stdout",
     "output_type": "stream",
     "text": [
      "[123456]\n"
     ]
    }
   ],
   "source": [
    "s = input()\n",
    "numbers = list(map(int, s.split()))\n",
    "print(numbers)"
   ]
  },
  {
   "cell_type": "code",
   "execution_count": 38,
   "id": "43c3c769fa8c7d62",
   "metadata": {
    "ExecuteTime": {
     "end_time": "2024-04-05T10:32:53.384552Z",
     "start_time": "2024-04-05T10:32:35.926062Z"
    }
   },
   "outputs": [
    {
     "name": "stdout",
     "output_type": "stream",
     "text": [
      "Pairs with sum 8: [(7, 1), (8, 0)]\n",
      "2 3 4 7 9 8 0 1\n"
     ]
    }
   ],
   "source": [
    "def find_pairs_with_sum(numbers, target_sum):\n",
    "    pairs = []\n",
    "    for i in range(len(numbers)):\n",
    "        for j in range(i + 1, len(numbers)):\n",
    "            if numbers[i] + numbers[j] == target_sum:\n",
    "                pairs.append((numbers[i], numbers[j]))\n",
    "    return pairs\n",
    "\n",
    "# Prompt the user to enter a list of integers\n",
    "user_input = input(\"Enter a list of integers separated by spaces: \")\n",
    "numbers = list(map(int, user_input.split()))\n",
    "\n",
    "# Prompt the user to enter the target sum\n",
    "target_sum = int(input(\"Enter the target sum: \"))\n",
    "\n",
    "# Find pairs with the target sum\n",
    "pairs = find_pairs_with_sum(numbers, target_sum)\n",
    "\n",
    "# Print the pairs\n",
    "if pairs:\n",
    "    print(\"Pairs with sum {}: {}\".format(target_sum, pairs))\n",
    "else:\n",
    "    print(\"No pairs found with sum {}.\".format(target_sum))\n",
    "print(user_input)"
   ]
  },
  {
   "cell_type": "code",
   "execution_count": 6,
   "id": "b82067b77acd66d5",
   "metadata": {
    "ExecuteTime": {
     "end_time": "2024-04-06T14:53:03.115245Z",
     "start_time": "2024-04-06T14:53:00.244731Z"
    }
   },
   "outputs": [
    {
     "name": "stdout",
     "output_type": "stream",
     "text": [
      "('6', '8', '5', '6', '7', '5', '8', '6')\n",
      "<class 'tuple'>\n"
     ]
    }
   ],
   "source": [
    "# 3. Create a function that takes a list of tuples, where each tuple represents a complex number (real, imaginary), and returns a new list with the sum, difference, product, and quotient of all the complex numbers, using operator overloading.\n",
    "user_input =tuple(input(\"enter list of tuple \"))\n",
    "print(user_input)\n",
    "print((type(user_input)))"
   ]
  },
  {
   "cell_type": "code",
   "execution_count": 24,
   "id": "initial_id",
   "metadata": {
    "ExecuteTime": {
     "end_time": "2024-04-05T09:58:31.010510Z",
     "start_time": "2024-04-05T09:58:30.988813Z"
    },
    "collapsed": true
   },
   "outputs": [],
   "source": [
    "\n",
    "\n",
    "\n",
    "\n",
    "\n",
    "\n",
    "# \n",
    "# 6. Create a program that prompts the user to enter two sets of integers, and then prints out the intersection, union, and difference of the two sets, using set operators.\n",
    "# \n",
    "# 7. Write a function that takes a dictionary and a key as input, and returns a new dictionary with all the keys that are not equal to the specified key, using the `not` operator.\n",
    "# \n",
    "# 8. Implement a program that takes a list of strings as input and returns a new list with all the strings that are not palindromes, using the membership operator `not in`.\n",
    "# \n",
    "# 9. Create a function that takes a list of tuples, where each tuple represents a point in a 2D plane (x, y), and returns a new list with all the points that are in the first quadrant (x > 0 and y > 0), using comparison operators.\n",
    "# \n",
    "# 10. Write a program that prompts the user to enter a string and a list of substrings, and then prints out all the substrings that are not present in the original string, using the `not in` operator.\n",
    "# \n",
    "# 11. Implement a function that takes a list of integers and returns a new list with all the elements that are not divisible by 2 or 3, using the logical operators `and` and `or`.\n",
    "# \n",
    "# 12. Create a program that takes a dictionary as input, where the keys are strings and the values are integers, and returns a new dictionary with all the keys that have a value greater than or equal to 10, using comparison operators.\n",
    "# \n",
    "# 13. Write a function that takes two lists of integers as input, and returns a new list with all the elements that are present in both lists, using the intersection operator `&`.\n",
    "# \n",
    "# 14. Implement a program that prompts the user to enter a list of integers, and then prints out the maximum and minimum values in the list, using the comparison operators `>` and `<`.\n",
    "# \n",
    "# 15. Create a function that takes a string as input and returns a new string with all the characters that are not alphabetic replaced by their ASCII values, using the `is` and `is not` operators.\n",
    "# \n",
    "# 16. Write a program that takes a list of tuples, where each tuple represents a point in a 3D space (x, y, z), and returns a new list with all the points that are inside a specified cube, using comparison operators and the logical `and` operator.\n",
    "# \n",
    "# 17. Implement a function that takes a list of integers and a target value as input, and returns a new list with all the pairs of numbers in the original list that add up to the target value, using the membership operator `in` and a nested loop.\n",
    "# \n",
    "# 18. Create a program that prompts the user to enter a string and a list of substrings, and then prints out all the substrings that are present in the original string, sorted in alphabetical order, using the `in` operator and the `sorted()` function.\n",
    "# \n",
    "# 19. Write a function that takes a list of tuples, where each tuple represents a complex number (real, imaginary), and returns a new list with all the complex numbers that have a magnitude greater than a specified value, using the `abs()` function and comparison operators.\n",
    "# \n",
    "# 20. Implement a program that takes a list of integers as input and returns a new list with all the elements that are not perfect squares, using the `**` operator and a loop to check for perfect squares.\n",
    "# \n",
    "# These challenges cover a wide range of operators in Python, including arithmetic operators, comparison operators, assignment operators, logical operators, bitwise operators, membership operators, identity operators, operator precedence, the ternary operator, special operators, and operator overloading. They involve working with various data structures, such as lists, tuples, sets, and dictionaries, and solving complex problems using different operator combinations and techniques."
   ]
  },
  {
   "cell_type": "code",
   "execution_count": null,
   "id": "f0d1a4a01084de02",
   "metadata": {},
   "outputs": [],
   "source": [
    "# Sure, here are 30 complex challenges and problems related to Python values, input/output functions, value types and reference types, mutable and immutable types, indexing and slicing, strings, lists, tuples, sets, frozensets, arrays, and dictionaries:\n",
    "# \n",
    "# 1. Write a function that takes a string and returns a dictionary where the keys are the characters in the string, and the values are the indices at which those characters first appear.\n",
    "# \n",
    "# 2. Implement a program that prompts the user to enter a list of integers, and then prints out the sum of all even integers in the list using slicing.\n",
    "# \n",
    "# 3. Create a function that takes a tuple of strings and returns a new tuple with all the strings sorted in reverse alphabetical order.\n",
    "# \n",
    "# 4. Write a program that takes a list of integers as input and returns a new list with all the unique elements sorted in ascending order, without using built-in functions like `sort()` or `sorted()`.\n",
    "# \n",
    "# 5. Implement a function that takes a string and a dictionary as input, and returns a new string where all occurrences of keys in the dictionary are replaced with their corresponding values.\n",
    "# \n",
    "# 6. Create a program that prompts the user to enter a sequence of integers, and then prints out the longest consecutive sequence of increasing or decreasing numbers.\n",
    "# \n",
    "# 7. Write a function that takes a list of tuples, where each tuple represents a point in a 2D plane (x, y), and returns the maximum distance between any two points in the list.\n",
    "# \n",
    "# 8. Implement a program that takes a string as input and returns a new string with all consecutive duplicate characters removed, using a set.\n",
    "# \n",
    "# 9. Create a function that takes a dictionary and a list of keys as input, and returns a new dictionary with only the specified keys and their corresponding values.\n",
    "# \n",
    "# 10. Write a program that prompts the user to enter a list of integers, and then prints out the second-largest and second-smallest numbers in the list.\n",
    "# \n",
    "# 11. Implement a function that takes a list of strings and returns a new list with all the strings that are anagrams of each other grouped together, using a dictionary to store the sorted versions of the strings as keys.\n",
    "# \n",
    "# 12. Create a program that takes a list of tuples, where each tuple represents a person's name and age, and returns the average age of all people in the list.\n",
    "# \n",
    "# 13. Write a function that takes a string and a set of characters as input, and returns a new string with all occurrences of those characters removed.\n",
    "# \n",
    "# 14. Implement a program that prompts the user to enter a sequence of integers, and then prints out the longest subsequence of alternating even and odd numbers.\n",
    "# \n",
    "# 15. Create a function that takes a list of dictionaries, where each dictionary represents a person with keys like \"name\", \"age\", and \"gender\", and returns a new dictionary with the average age for each gender.\n",
    "# \n",
    "# 16. Write a program that takes a list of tuples, where each tuple represents a word and its frequency in a text, and returns the top 10 most frequent words.\n",
    "# \n",
    "# 17. Implement a function that takes a string and returns a new string with all the words in reverse order, while preserving the order of the characters within each word.\n",
    "# \n",
    "# 18. Create a program that prompts the user to enter a list of integers, and then prints out all the unique pairs of numbers in the list that sum up to a target value.\n",
    "# \n",
    "# 19. Write a function that takes a dictionary and a list of keys as input, and returns a new dictionary with the specified keys removed.\n",
    "# \n",
    "# 20. Implement a program that takes a list of strings as input and returns a new list with all the strings that are palindromes, using slicing.\n",
    "# \n",
    "# 21. Create a function that takes a list of tuples, where each tuple represents a point in a 3D space (x, y, z), and returns the minimum distance between any two points in the list.\n",
    "# \n",
    "# 22. Write a program that prompts the user to enter a string and a list of substrings, and then prints out all the indices at which those substrings appear in the string.\n",
    "# \n",
    "# 23. Implement a function that takes a dictionary and a value as input, and returns a new dictionary with all the keys that have the specified value removed.\n",
    "# \n",
    "# 24. Create a program that takes a list of integers as input and returns a new list with all the prime numbers in the original list, without using any built-in functions for checking prime numbers.\n",
    "# \n",
    "# 25. Write a function that takes a list of dictionaries, where each dictionary represents a student with keys like \"name\", \"grade\", and \"age\", and returns a new dictionary with the average grade for each age group.\n",
    "# \n",
    "# 26. Implement a program that prompts the user to enter a list of integers, and then prints out all the unique triplets of numbers in the list that sum up to zero.\n",
    "# \n",
    "# 27. Create a function that takes a string and a list of substrings as input, and returns a new string with all occurrences of those substrings replaced by their indices in the original string.\n",
    "# \n",
    "# 28. Write a program that takes a dictionary as input, where the keys are strings and the values are lists of integers, and returns a new dictionary with the lists sorted in ascending order.\n",
    "# \n",
    "# 29. Implement a function that takes a list of tuples, where each tuple represents a word and its frequency in a text, and returns a new list with all the words that appear more than a specified number of times.\n",
    "# \n",
    "# 30. Create a program that prompts the user to enter a list of integers, and then prints out all the unique pairs of numbers in the list that are anagrams of each other (e.g., 123 and 321).\n",
    "# \n",
    "# These challenges and problems cover a wide range of concepts related to Python values, input/output functions, value types and reference types, mutable and immutable types, indexing and slicing, strings, lists, tuples, sets, frozensets, arrays, and dictionaries. They involve working with different data structures, manipulating and transforming data, and solving complex problems using various techniques and algorithms."
   ]
  },
  {
   "cell_type": "code",
   "execution_count": null,
   "id": "e1e2eaaaef6776c3",
   "metadata": {},
   "outputs": [],
   "source": []
  },
  {
   "cell_type": "code",
   "execution_count": 1,
   "id": "28d40530795e9e9b",
   "metadata": {
    "ExecuteTime": {
     "end_time": "2024-04-07T01:24:28.683329Z",
     "start_time": "2024-04-07T01:24:28.672448Z"
    }
   },
   "outputs": [],
   "source": []
  },
  {
   "cell_type": "code",
   "execution_count": null,
   "id": "4edcbb08f100dd81",
   "metadata": {},
   "outputs": [],
   "source": []
  }
 ],
 "metadata": {
  "kernelspec": {
   "display_name": "Python 3",
   "language": "python",
   "name": "python3"
  },
  "language_info": {
   "codemirror_mode": {
    "name": "ipython",
    "version": 3
   },
   "file_extension": ".py",
   "mimetype": "text/x-python",
   "name": "python",
   "nbconvert_exporter": "python",
   "pygments_lexer": "ipython3",
   "version": "3.12.1"
  }
 },
 "nbformat": 4,
 "nbformat_minor": 5
}
