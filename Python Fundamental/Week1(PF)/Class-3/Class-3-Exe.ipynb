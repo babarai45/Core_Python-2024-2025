{
 "cells": [
  {
   "cell_type": "markdown",
   "id": "0329af63-c569-4ff1-9daf-83d0e2083a0a",
   "metadata": {},
   "source": [
    "# Class-3-Exe:"
   ]
  },
  {
   "cell_type": "code",
   "execution_count": null,
   "id": "1154f5b165259515",
   "metadata": {},
   "outputs": [],
   "source": []
  },
  {
   "cell_type": "code",
   "execution_count": 1,
   "id": "e36e7eb7-eb05-4789-9926-3ed223516dbd",
   "metadata": {
    "tags": []
   },
   "outputs": [],
   "source": [
    "# print function :\n",
    "# syntax of print()\n",
    "#  print(values/objects..,sep=' ',end='\\n',file=sys.stdout,flush=True)\n",
    "# 1 we can print any type of objects and values \n",
    "# 2 we can print any values \n",
    "# 3 sep is parameter of print function  used for separating and defaults values is space \n",
    "# 4 end is also parameter of printfunction used for next line default value is nextline \\n"
   ]
  },
  {
   "cell_type": "code",
   "execution_count": 2,
   "id": "2d61bdf9-3e39-47e0-bd12-1a960a184507",
   "metadata": {
    "tags": []
   },
   "outputs": [
    {
     "name": "stdout",
     "output_type": "stream",
     "text": [
      "hy babar how are you\n",
      "hy babar,how are you\n"
     ]
    }
   ],
   "source": [
    "print(\"hy babar\",\"how are you\") \n",
    "print(\"hy babar\",\"how are you\" ,sep=',') \n"
   ]
  },
  {
   "cell_type": "code",
   "execution_count": 3,
   "id": "f77405fd-ea84-40d2-85fa-c13cbb1bde08",
   "metadata": {},
   "outputs": [
    {
     "name": "stdout",
     "output_type": "stream",
     "text": [
      "hy babar---how are you\n"
     ]
    }
   ],
   "source": [
    "print(\"hy babar\",\"how are you\" ,sep='---') \n",
    "# we can add anything here "
   ]
  },
  {
   "cell_type": "code",
   "execution_count": 4,
   "id": "5dc03361-8e81-4d3b-9d48-1b2597e245af",
   "metadata": {
    "tags": []
   },
   "outputs": [
    {
     "name": "stdout",
     "output_type": "stream",
     "text": [
      "hy babar how are you i am good \n"
     ]
    }
   ],
   "source": [
    "print(\"hy babar how are you\",end='')  # here we remove default value then it print same line \n",
    "print(\" i am good \")\n"
   ]
  },
  {
   "cell_type": "code",
   "execution_count": 5,
   "id": "1a58ad62-665a-4110-b3da-8850a62459a0",
   "metadata": {
    "tags": []
   },
   "outputs": [
    {
     "name": "stdout",
     "output_type": "stream",
     "text": [
      "hy babar how are you,i am fine \n"
     ]
    }
   ],
   "source": [
    "print(\"hy babar\",\"how are you\" ,end=',') # if we any other thing it will print at last \n",
    "print(\"i am fine \") # like this "
   ]
  },
  {
   "cell_type": "code",
   "execution_count": 1,
   "id": "d1f2f4b0-9d46-4457-902b-5050136a4dfb",
   "metadata": {
    "tags": []
   },
   "outputs": [
    {
     "name": "stdout",
     "output_type": "stream",
     "text": [
      "\n",
      "None\n",
      "<class 'NoneType'>\n",
      "140723095038704\n"
     ]
    }
   ],
   "source": [
    "# the default value of print function is None \n",
    "# let me prof :\n",
    "a=print()\n",
    "print(a)\n",
    "print(type(a))\n",
    "print(id(a))\n"
   ]
  },
  {
   "cell_type": "code",
   "execution_count": 18,
   "id": "120dbfff-e69f-4774-984e-11c146edae01",
   "metadata": {
    "tags": []
   },
   "outputs": [
    {
     "name": "stdout",
     "output_type": "stream",
     "text": [
      "my name is babar age is 20 and my subject isartificial inteligence  \n",
      "my name  is ali and age is 20 and my subjecct is islamiyat \n",
      "my name  is hamza and age is 25 and my subjecct is math \n"
     ]
    }
   ],
   "source": [
    "# print function or output formating \n",
    "age=20\n",
    "name='babar'\n",
    "subject=\"artificial intelligence\"\n",
    "#---------method 1\n",
    "print(\"my name is {} age is {} and my subject is{}  \".format(name,age,subject))\n",
    "\n",
    "# method 2\n",
    "print(\"my name  is {} and age is {} and my subject is {} \".format('ali','20','islamiyat'))\n",
    "\n",
    "\n",
    "# method 3 \n",
    "print(\"my name  is {name} and age is {age} and my subject is {sub} \".format(name='hamza',age='25',sub='math'))\n"
   ]
  },
  {
   "cell_type": "markdown",
   "id": "a8dde2f3-8b12-446c-9594-139326dddeae",
   "metadata": {
    "tags": []
   },
   "source": [
    "#----------------------------"
   ]
  },
  {
   "cell_type": "code",
   "execution_count": 31,
   "id": "a2caaf80-3dca-433d-9b24-82d5ecec1e03",
   "metadata": {
    "tags": []
   },
   "outputs": [
    {
     "name": "stdout",
     "output_type": "stream",
     "text": [
      "babarbabarbabarbabarbabar\n",
      "babar-babar-babar-babar-babar-\n",
      "babar aass muahammad \n"
     ]
    }
   ],
   "source": [
    "print(\"babar\"*5) # it will 5 time my name \n",
    "print(\"babar-\"*5,sep='')\n",
    "print(\"babar\" + \" aas muhammad \" ) # concatenation \n",
    "\n",
    "#-------------------------\n",
    "\n"
   ]
  },
  {
   "cell_type": "code",
   "execution_count": null,
   "id": "b0ed5035-e543-459d-af81-59f99f675392",
   "metadata": {},
   "outputs": [],
   "source": []
  },
  {
   "cell_type": "markdown",
   "id": "17005f4f-a21c-4b78-a3a6-8c729b76af85",
   "metadata": {},
   "source": [
    "# Input function"
   ]
  },
  {
   "cell_type": "code",
   "execution_count": 7,
   "id": "7f864307-bb40-4c92-9e2f-08f1afe3abc1",
   "metadata": {
    "tags": []
   },
   "outputs": [
    {
     "name": "stdout",
     "output_type": "stream",
     "text": [
      " babar2024\n"
     ]
    },
    {
     "name": "stdout",
     "output_type": "stream",
     "text": [
      "babar2024\n"
     ]
    }
   ],
   "source": [
    "a=input()\n",
    "print(a) # the default value of input is get input from user \n"
   ]
  },
  {
   "cell_type": "code",
   "execution_count": 8,
   "id": "ef1fd26e-5741-4e9a-baae-43d1417577e0",
   "metadata": {},
   "outputs": [
    {
     "name": "stdout",
     "output_type": "stream",
     "text": [
      "enter something  2023\n"
     ]
    },
    {
     "name": "stdout",
     "output_type": "stream",
     "text": [
      "2023 <class 'str'>\n"
     ]
    }
   ],
   "source": [
    "# input function alwayse return string \n",
    "a=input(\"enter something \")\n",
    "print(a,type(a))\n",
    "\n",
    "\n"
   ]
  },
  {
   "cell_type": "code",
   "execution_count": 10,
   "id": "ede4f050-ff74-4e0d-901e-2b8585f4d6c9",
   "metadata": {
    "tags": []
   },
   "outputs": [
    {
     "name": "stdout",
     "output_type": "stream",
     "text": [
      "Enter your age : 12\n"
     ]
    },
    {
     "name": "stdout",
     "output_type": "stream",
     "text": [
      "age is  12 and it type is  <class 'int'>\n"
     ]
    }
   ],
   "source": [
    "# if we want to return value should be int or float then we have to do typecasting like this \n",
    "age=int(input(\"Enter your age :\"))\n",
    "print(\"age is \",age,\"and it type is \",type(age))"
   ]
  },
  {
   "cell_type": "code",
   "execution_count": 11,
   "id": "eeeaed2c-44e4-4fcf-9517-14638b246579",
   "metadata": {
    "tags": []
   },
   "outputs": [
    {
     "name": "stdout",
     "output_type": "stream",
     "text": [
      "Enter your age : 19\n"
     ]
    },
    {
     "name": "stdout",
     "output_type": "stream",
     "text": [
      "age is  19.0 and it type is  <class 'float'>\n"
     ]
    }
   ],
   "source": [
    "# same here for float value return\n",
    "age=float(input(\"Enter your age :\"))\n",
    "print(\"age is \",age,\"and it type is \",type(age))"
   ]
  },
  {
   "cell_type": "code",
   "execution_count": null,
   "id": "86e2696f-f7be-4339-9815-6cf633aaba0a",
   "metadata": {
    "tags": []
   },
   "outputs": [],
   "source": []
  },
  {
   "cell_type": "code",
   "execution_count": null,
   "id": "8d06471e-9469-4377-86c5-ffc348ceb0b5",
   "metadata": {
    "tags": []
   },
   "outputs": [],
   "source": []
  },
  {
   "cell_type": "code",
   "execution_count": 31,
   "id": "8f9a01fc-f10e-4a2d-80b5-f7f3aa48e5cb",
   "metadata": {
    "tags": []
   },
   "outputs": [
    {
     "name": "stdout",
     "output_type": "stream",
     "text": [
      "Enter your age:  True\n"
     ]
    },
    {
     "name": "stdout",
     "output_type": "stream",
     "text": [
      "You entered False\n"
     ]
    }
   ],
   "source": [
    "# Take user input for age\n",
    "age_input = input(\"Enter your age: \")\n",
    "\n",
    "# Check if the input is a number\n",
    "if age_input.isdigit():\n",
    "    age = int(age_input)\n",
    "    print(\"You entered True\")\n",
    "else:\n",
    "    print(\"You entered False\")\n"
   ]
  },
  {
   "cell_type": "code",
   "execution_count": 37,
   "id": "e14e1e8c-e67a-4a8d-bac5-f656c72f43b0",
   "metadata": {
    "tags": []
   },
   "outputs": [
    {
     "name": "stdout",
     "output_type": "stream",
     "text": [
      "enter  tgerg\n"
     ]
    },
    {
     "name": "stdout",
     "output_type": "stream",
     "text": [
      "['t', 'g', 'e', 'r', 'g']\n",
      "<class 'list'>\n"
     ]
    }
   ],
   "source": [
    "# using list \n",
    "input_val=list(input(\"enter \"))\n",
    "print(input_val)\n",
    "print(type(input_val))"
   ]
  },
  {
   "cell_type": "code",
   "execution_count": 39,
   "id": "b3951d13-c6c5-4f26-8878-c6f85025a3cd",
   "metadata": {
    "tags": []
   },
   "outputs": [
    {
     "name": "stdout",
     "output_type": "stream",
     "text": [
      "enter  babar\n"
     ]
    },
    {
     "name": "stdout",
     "output_type": "stream",
     "text": [
      "('b', 'a', 'b', 'a', 'r')\n",
      "<class 'tuple'>\n"
     ]
    }
   ],
   "source": [
    "# using tuple \n",
    "input_value=tuple(input(\"enter \"))\n",
    "print(input_value)\n",
    "print(type(input_value))"
   ]
  },
  {
   "cell_type": "code",
   "execution_count": 40,
   "id": "0f2d1b7e-f5a4-411d-892d-a4ac979c27f9",
   "metadata": {
    "tags": []
   },
   "outputs": [
    {
     "name": "stdout",
     "output_type": "stream",
     "text": [
      "enter  45\n"
     ]
    },
    {
     "name": "stdout",
     "output_type": "stream",
     "text": [
      "{'5', '4'}\n",
      "<class 'set'>\n"
     ]
    }
   ],
   "source": [
    "# using set \n",
    "input_value=set(input(\"enter \"))\n",
    "print(input_value)\n",
    "print(type(input_value))"
   ]
  },
  {
   "cell_type": "code",
   "execution_count": null,
   "id": "b2a82330-a758-4c1b-b526-d4e38b436ac0",
   "metadata": {
    "tags": []
   },
   "outputs": [],
   "source": []
  },
  {
   "cell_type": "code",
   "execution_count": 46,
   "id": "beea7039-fd05-4ac8-a1ea-21c2ff7b8b84",
   "metadata": {
    "tags": []
   },
   "outputs": [
    {
     "name": "stdout",
     "output_type": "stream",
     "text": [
      "<class 'str'>\n"
     ]
    }
   ],
   "source": [
    "a=type(a)\n",
    "print(a)"
   ]
  },
  {
   "cell_type": "code",
   "execution_count": 28,
   "id": "64e05314-3ad8-45c5-9a67-d5459ff890e9",
   "metadata": {
    "tags": []
   },
   "outputs": [
    {
     "name": "stdout",
     "output_type": "stream",
     "text": [
      "<built-in function eval>\n",
      "<built-in method __new__ of type object at 0x00007FFCAEE1A310>\n"
     ]
    }
   ],
   "source": [
    "# evel\n",
    "print(eval)\n",
    "print(eval.__new__)"
   ]
  },
  {
   "cell_type": "code",
   "execution_count": 4,
   "id": "23b97c17-1624-4062-a1d9-56283e2e2a5b",
   "metadata": {},
   "outputs": [
    {
     "name": "stdout",
     "output_type": "stream",
     "text": [
      "<built-in method __new__ of type object at 0x00007FFCAEE1A4B0>\n"
     ]
    }
   ],
   "source": [
    "print(type.__new__)"
   ]
  },
  {
   "cell_type": "code",
   "execution_count": 6,
   "id": "01031009-8ac5-4ebe-8d00-f9329511781b",
   "metadata": {
    "tags": []
   },
   "outputs": [
    {
     "name": "stdout",
     "output_type": "stream",
     "text": [
      "<built-in function id>\n"
     ]
    }
   ],
   "source": [
    "print(id)"
   ]
  },
  {
   "cell_type": "code",
   "execution_count": 7,
   "id": "ebace206-836a-4fdb-90e6-5ead1d0f54ce",
   "metadata": {
    "tags": []
   },
   "outputs": [
    {
     "name": "stdout",
     "output_type": "stream",
     "text": [
      "<class 'type'>\n"
     ]
    }
   ],
   "source": [
    "print(type)"
   ]
  },
  {
   "cell_type": "code",
   "execution_count": 8,
   "id": "f8b0e4fc-b89a-4b4b-8364-d7ed9d655057",
   "metadata": {
    "tags": []
   },
   "outputs": [
    {
     "name": "stdout",
     "output_type": "stream",
     "text": [
      "<built-in method __new__ of type object at 0x00007FFCAEE1A310>\n"
     ]
    }
   ],
   "source": [
    "print(id.__new__)"
   ]
  },
  {
   "cell_type": "code",
   "execution_count": 30,
   "id": "2d5c9f3f-c44f-48cb-b2b2-8586c3cd7ac1",
   "metadata": {
    "tags": []
   },
   "outputs": [
    {
     "name": "stdout",
     "output_type": "stream",
     "text": [
      "enter 3\n"
     ]
    },
    {
     "name": "stdout",
     "output_type": "stream",
     "text": [
      "3\n"
     ]
    }
   ],
   "source": [
    "# eval function \n",
    "a=eval(input(\"enter\"))\n",
    "print(a)"
   ]
  },
  {
   "cell_type": "code",
   "execution_count": 44,
   "id": "e1e252fc-1b4a-473d-a418-2a879fd20f01",
   "metadata": {
    "tags": []
   },
   "outputs": [
    {
     "name": "stdout",
     "output_type": "stream",
     "text": [
      "True\n",
      "0\n",
      "54.8\n"
     ]
    }
   ],
   "source": [
    "print(eval('10==10'))\n",
    "print(eval('2 - 2'))\n",
    "x=2*5-(2/10)+45\n",
    "print(eval('x'))"
   ]
  },
  {
   "cell_type": "code",
   "execution_count": 33,
   "id": "57f69493-5868-4d0d-871a-6f5a6e097377",
   "metadata": {
    "tags": []
   },
   "outputs": [
    {
     "name": "stdout",
     "output_type": "stream",
     "text": [
      "True\n",
      "4\n",
      "Python\n",
      "HeHeHeHeHe\n",
      "Value of x is: -46\n",
      "Sum of list is: 20\n"
     ]
    }
   ],
   "source": [
    "\n",
    "# Python program to illustrate eval() function\n",
    "print(eval('10 == 10'))\n",
    "\n",
    "print(eval('2 ** 2'))\n",
    "\n",
    "print(eval(\"'Pyt' + 'hon'\"))\n",
    "\n",
    "print(eval(\"'He' * 5\"))\n",
    "\n",
    "x = 10 + 59 - 23 * 5\n",
    "print('Value of x is:', eval('x'))\n",
    "\n",
    "print('Sum of list is:', eval('sum([2, 4, 6, 8])'))"
   ]
  },
  {
   "cell_type": "code",
   "execution_count": 37,
   "id": "7daf7e00-ab9e-418c-865e-3c3b0ef8c448",
   "metadata": {
    "tags": []
   },
   "outputs": [
    {
     "name": "stdout",
     "output_type": "stream",
     "text": [
      "5\n",
      "<class 'int'>\n"
     ]
    }
   ],
   "source": [
    "# eval function is take only one argument and that is string only\n",
    "# al\n",
    "# lets prof and example :\n",
    "#------------------------\n",
    "# a=eval(5)\n",
    "# print(a)  # show error\n",
    "\n",
    "#-----------------------\n",
    "b=eval(\"5\")\n",
    "print(b) # correct becauese i give string\n",
    "print(type(b)) # checking type \n",
    "#--------------"
   ]
  },
  {
   "cell_type": "code",
   "execution_count": 57,
   "id": "5d9e4ba9-ecbf-417e-bc47-d250c73d9131",
   "metadata": {},
   "outputs": [
    {
     "name": "stdout",
     "output_type": "stream",
     "text": [
      "babbr\n",
      "babarali\n",
      "<class 'str'>\n"
     ]
    }
   ],
   "source": [
    "# we can pass string\n",
    "c=eval('\"babbr\"')\n",
    "print(c)\n",
    "#-------------\n",
    "\n",
    "c=eval('\"babar\" + \"ali\"') # congatination\n",
    "print(c)\n",
    "print(type(c))"
   ]
  },
  {
   "cell_type": "code",
   "execution_count": 56,
   "id": "e6d48a6c-5d5b-4b6d-abe6-ccc995b9bafe",
   "metadata": {},
   "outputs": [
    {
     "name": "stdout",
     "output_type": "stream",
     "text": [
      "264.0\n",
      "<class 'float'>\n"
     ]
    }
   ],
   "source": [
    "# pass any expression in eval function to solve them\n",
    "exp=eval(\"((3-6-9+78)*8)/2  \")\n",
    "print(exp)\n",
    "print(type(exp))"
   ]
  },
  {
   "cell_type": "code",
   "execution_count": 62,
   "id": "6b4d7cbf-f8ef-4d60-b64a-2f5cde6384ee",
   "metadata": {
    "tags": []
   },
   "outputs": [
    {
     "name": "stdout",
     "output_type": "stream",
     "text": [
      "babarbabarbabarbabarbabar\n",
      "<class 'str'>\n"
     ]
    }
   ],
   "source": [
    "a=eval(\"'babar' * 5\")\n",
    "print(a)\n",
    "print(type(a))"
   ]
  },
  {
   "cell_type": "code",
   "execution_count": 68,
   "id": "e52023eb-8a00-4732-9ccf-aaa44da4feee",
   "metadata": {
    "tags": []
   },
   "outputs": [
    {
     "name": "stdout",
     "output_type": "stream",
     "text": [
      "[1, 2]\n",
      "<class 'list'>\n"
     ]
    }
   ],
   "source": [
    "# pass in list in eval\n",
    "a=eval(\"[1,2]\")\n",
    "print(a)\n",
    "print(type(a))"
   ]
  },
  {
   "cell_type": "code",
   "execution_count": 79,
   "id": "51312c66-b59c-4598-932c-6dfdce516152",
   "metadata": {
    "tags": []
   },
   "outputs": [
    {
     "name": "stdout",
     "output_type": "stream",
     "text": [
      "enter something ('1',1)\n"
     ]
    },
    {
     "name": "stdout",
     "output_type": "stream",
     "text": [
      "('1', 1)\n",
      "<class 'tuple'>\n"
     ]
    }
   ],
   "source": [
    "# main use of eval with input function \n",
    "user=eval(input(\"enter something\"))\n",
    "print(user)\n",
    "print(type(user)) \n",
    "\n",
    "# in this program we can pass all data types using its own format but only not pass dic\n",
    "\n"
   ]
  },
  {
   "cell_type": "code",
   "execution_count": 83,
   "id": "35ac7fb1-7067-424e-b74b-410b5393d2e9",
   "metadata": {
    "tags": []
   },
   "outputs": [
    {
     "name": "stdout",
     "output_type": "stream",
     "text": [
      "15\n"
     ]
    }
   ],
   "source": [
    "# for passing dic we have to write seprate expresion of dict\n",
    "my_dict = {'x': 5, 'y': 10}\n",
    "expression = \"x + y\"\n",
    "\n",
    "result = eval(expression, my_dict)\n",
    "print(result)  # Output will be 15\n"
   ]
  },
  {
   "cell_type": "code",
   "execution_count": 88,
   "id": "85cbf3c7-d7ed-4e92-b967-72745f0571c1",
   "metadata": {
    "tags": []
   },
   "outputs": [
    {
     "name": "stdout",
     "output_type": "stream",
     "text": [
      "Hello, world!\n",
      "<class 'function'>\n"
     ]
    }
   ],
   "source": [
    "# Dynamic Code Execution: You can execute dynamically generated code.\n",
    "code = '''\n",
    "def greet():\n",
    "    print(\"Hello, world!\")\n",
    "'''\n",
    "exec(code)\n",
    "\n",
    "\n",
    "def greet():\n",
    "    pass\n",
    "\n",
    "\n",
    "greet()  # Output: Hello, world!\n",
    "print(type(greet))\n"
   ]
  },
  {
   "cell_type": "code",
   "execution_count": 91,
   "id": "970331ae-a93b-49d0-88ea-82bf24893b5e",
   "metadata": {
    "tags": []
   },
   "outputs": [
    {
     "name": "stdout",
     "output_type": "stream",
     "text": [
      "25\n",
      "<class 'int'>\n"
     ]
    }
   ],
   "source": [
    "def square(x):\n",
    "    return x * x\n",
    "\n",
    "func_name = \"square\"\n",
    "arg = 5\n",
    "result = eval(func_name + \"(\" + str(arg) + \")\")  # Output: 25\n",
    "print(result)\n",
    "print(type(result))\n"
   ]
  },
  {
   "cell_type": "markdown",
   "id": "beea778c-11a2-47ec-84bf-1ebd39003b83",
   "metadata": {},
   "source": [
    "# exec"
   ]
  },
  {
   "cell_type": "code",
   "execution_count": 96,
   "id": "19bd20ed-f3c6-4fba-b7dd-bef24b80ec5f",
   "metadata": {
    "tags": []
   },
   "outputs": [],
   "source": [
    "# # exec is function\n",
    "\n",
    "# # The `exec()` function in Python is used for dynamic execution of Python code. It takes either a string representing the code or a code object and executes it within the current Python environment. Here's a breakdown of its features and use cases:\n",
    "\n",
    "# # 1. **Dynamic Code Execution**: `exec()` allows you to execute dynamically generated Python code at runtime. This code can include assignments, function definitions, control flow statements, and any other valid Python code.\n",
    "\n",
    "#     ```python\n",
    "#     code = '''\n",
    "#     x = 5\n",
    "#     y = 10\n",
    "#     print(x + y)\n",
    "#     '''\n",
    "#     exec(code)  # Output: 15\n",
    "#     ```\n",
    "\n",
    "# 2. **String Parsing and Compilation**: You can use `exec()` to parse and execute Python code stored as strings.\n",
    "\n",
    "#     ```python\n",
    "#     code_string = 'print(\"Hello, world!\")'\n",
    "#     exec(code_string)  # Output: Hello, world!\n",
    "#     ```\n",
    "\n",
    "# 3. **Script Execution**: It can be used to execute Python scripts dynamically within your program.\n",
    "\n",
    "#     ```python\n",
    "#     script_path = 'path/to/script.py'\n",
    "#     with open(script_path, 'r') as f:\n",
    "#         script_code = f.read()\n",
    "#     exec(script_code)\n",
    "#     ```\n",
    "\n",
    "# 4. **Dynamic Function Definition**: You can define functions dynamically using `exec()`.\n",
    "\n",
    "#     ```python\n",
    "#     func_code = '''\n",
    "#     def greet(name):\n",
    "#         print(\"Hello,\", name)\n",
    "#     '''\n",
    "#     exec(func_code)\n",
    "#     greet(\"Alice\")  # Output: Hello, Alice\n",
    "#     ```\n",
    "\n",
    "# 5. **Modifying Global or Local Namespace**: You can control whether the code executed by `exec()` operates on the global or local namespace by passing appropriate dictionaries as the second and third arguments.\n",
    "\n",
    "#     ```python\n",
    "#     my_globals = {}\n",
    "#     my_locals = {}\n",
    "#     exec('x = 5', my_globals, my_locals)\n",
    "#     print(my_locals['x'])  # Output: 5\n",
    "#     ```\n",
    "\n",
    "# 6. **Code Injection and Metaprogramming**: `exec()` is often used in metaprogramming scenarios, where code is generated dynamically based on certain conditions or configurations.\n",
    "\n",
    "# # However, it's important to exercise caution when using `exec()`, as executing arbitrary code poses security risks, especially if the source of the code is untrusted. Malicious code executed with `exec()` can potentially harm your system or\n",
    "# leak sensitive information. Always validate and sanitize any input before executing it dynamically. Additionally, consider alternative approaches whenever possible, such as using safer constructs like functions, classes, or specific libraries for the task at hand."
   ]
  },
  {
   "cell_type": "code",
   "execution_count": 104,
   "id": "bbac985f-8cfa-4bce-b9e9-df6e1ddc032f",
   "metadata": {
    "tags": []
   },
   "outputs": [
    {
     "name": "stdout",
     "output_type": "stream",
     "text": [
      "119\n",
      "None\n"
     ]
    }
   ],
   "source": [
    "# it is used to dynamic execution or parse like this\n",
    "value= \"\"\" \n",
    "x=8\n",
    "y=9\n",
    "print((x+y)*7)\n",
    "\"\"\"\n",
    "a=exec(value)\n",
    "print(a)"
   ]
  },
  {
   "cell_type": "code",
   "execution_count": 105,
   "id": "61fa768a-3b7e-45cc-97ab-dbc5f2d0bcf0",
   "metadata": {
    "tags": []
   },
   "outputs": [
    {
     "name": "stdout",
     "output_type": "stream",
     "text": [
      " \n",
      "x=8\n",
      "y=9\n",
      "print((x+y)*7)\n",
      "\n"
     ]
    }
   ],
   "source": [
    "# and other hand if we print this as simpel\n",
    "# it is used to dynamic execution or parse like this\n",
    "value= \"\"\" \n",
    "x=8\n",
    "y=9\n",
    "print((x+y)*7)\n",
    "\"\"\"\n",
    "\n",
    "print(value)\n",
    "# it will print as tiz but if you wnat to proforn internly then we can use exec function \n"
   ]
  },
  {
   "cell_type": "code",
   "execution_count": 113,
   "id": "40c1c462-25da-4aec-874c-6b1a634ab158",
   "metadata": {
    "tags": []
   },
   "outputs": [
    {
     "name": "stdout",
     "output_type": "stream",
     "text": [
      "hy babar\n",
      "0 None\n",
      "hy babar\n",
      "1 None\n",
      "hy babar\n",
      "2 None\n",
      "hy babar\n",
      "3 None\n",
      "hy babar\n",
      "4 None\n",
      "None\n"
     ]
    }
   ],
   "source": [
    "# it is used to dynamic execution or parse like this\n",
    "statment=\"\"\"\n",
    "def myfunc():\n",
    "    print(\"hy babar\")\n",
    "    \n",
    "for i in range(5):\n",
    "    print(i,myfunc())\n",
    "\"\"\"\n",
    "a=exec(statment)\n",
    "print(a)"
   ]
  },
  {
   "cell_type": "code",
   "execution_count": 114,
   "id": "35da36fa-e9e2-4432-a5b6-2cd6af0c4366",
   "metadata": {
    "tags": []
   },
   "outputs": [
    {
     "ename": "SyntaxError",
     "evalue": "invalid syntax (<string>, line 1)",
     "output_type": "error",
     "traceback": [
      "Traceback \u001B[1;36m(most recent call last)\u001B[0m:\n",
      "\u001B[0m  File \u001B[0;32mD:\\Jupyter NoteBoke\\Lib\\site-packages\\IPython\\core\\interactiveshell.py:3526\u001B[0m in \u001B[0;35mrun_code\u001B[0m\n    exec(code_obj, self.user_global_ns, self.user_ns)\u001B[0m\n",
      "\u001B[1;36m  Cell \u001B[1;32mIn[114], line 4\u001B[1;36m\n\u001B[1;33m    a=exec(script_code)\u001B[1;36m\n",
      "\u001B[1;36m  File \u001B[1;32m<string>:1\u001B[1;36m\u001B[0m\n\u001B[1;33m    hello my name  is babar\u001B[0m\n\u001B[1;37m          ^\u001B[0m\n\u001B[1;31mSyntaxError\u001B[0m\u001B[1;31m:\u001B[0m invalid syntax\n"
     ]
    }
   ],
   "source": [
    "script_path = 'output.txt'\n",
    "with open(script_path, 'r') as f:\n",
    "    script_code = f.read()\n",
    "a=exec(script_code)\n",
    "print(a)"
   ]
  },
  {
   "cell_type": "markdown",
   "id": "95d25a36-d66f-421a-ae7a-6b337aaccf93",
   "metadata": {},
   "source": [
    "# ord function is used to for charter to ASSISI code "
   ]
  },
  {
   "cell_type": "code",
   "execution_count": 6,
   "id": "10778aca-fd79-456d-b758-969e976a3ad5",
   "metadata": {
    "ExecuteTime": {
     "end_time": "2024-04-01T04:49:07.720672Z",
     "start_time": "2024-04-01T04:49:07.711807Z"
    },
    "tags": []
   },
   "outputs": [
    {
     "name": "stdout",
     "output_type": "stream",
     "text": [
      "97\n",
      "a 97\n",
      "b 98\n",
      "c 99\n",
      "d 100\n",
      "e 101\n",
      "d 100\n",
      "e 101\n",
      "f 102\n",
      "k 107\n"
     ]
    }
   ],
   "source": [
    "b=ord('a')\n",
    "print(b)\n",
    "words = \"abcdedefk\"\n",
    "for i in words:\n",
    "    print(i,ord(i))"
   ]
  },
  {
   "cell_type": "code",
   "execution_count": null,
   "id": "c8990e235f3c9f01",
   "metadata": {},
   "outputs": [],
   "source": []
  },
  {
   "cell_type": "code",
   "execution_count": 4,
   "id": "fcddd8c0-89a8-44cc-9874-0545e2d97ac3",
   "metadata": {
    "ExecuteTime": {
     "end_time": "2024-04-01T04:45:57.130165Z",
     "start_time": "2024-04-01T04:45:57.124593Z"
    },
    "tags": []
   },
   "outputs": [
    {
     "name": "stdout",
     "output_type": "stream",
     "text": [
      "64 @\n",
      "65 A\n",
      "66 B\n",
      "67 C\n",
      "68 D\n",
      "69 E\n"
     ]
    }
   ],
   "source": [
    "# chr is used for number to character by ASCII\n",
    "for i in range(64 ,70):\n",
    "    print(i,chr(i))"
   ]
  },
  {
   "cell_type": "markdown",
   "id": "bf6cda2a335ef60d",
   "metadata": {},
   "source": [
    "# variable int,float,bool,complex"
   ]
  },
  {
   "cell_type": "markdown",
   "id": "ce0549e1ba4afbc4",
   "metadata": {},
   "source": []
  },
  {
   "cell_type": "code",
   "execution_count": 8,
   "id": "abc57141500533f7",
   "metadata": {
    "ExecuteTime": {
     "end_time": "2024-04-01T04:52:17.182278Z",
     "start_time": "2024-04-01T04:52:17.166237Z"
    }
   },
   "outputs": [
    {
     "name": "stdout",
     "output_type": "stream",
     "text": [
      "value of a and b is  10 -1\n",
      "type of a or b is  <class 'int'> <class 'int'>\n"
     ]
    }
   ],
   "source": [
    "a = 10  # int \n",
    "b = -1  # int\n",
    "print(\"value of a and b is \",a,b)\n",
    "print(\"type of a or b is \",type(a),type(b))"
   ]
  },
  {
   "cell_type": "code",
   "id": "9fc37c2ef387b187",
   "metadata": {
    "ExecuteTime": {
     "end_time": "2024-04-02T07:55:10.955064Z",
     "start_time": "2024-04-02T07:55:10.949019Z"
    }
   },
   "source": [
    "# # Default values \n",
    "# int()  # 0\n",
    "# float()  # 0.0\n",
    "# str()  # ''\n",
    "# bool()  # False\n",
    "# complex()  # 0j\n",
    "# list()  # []\n",
    "# tuple()  # ()\n",
    "# dict()  # {}\n",
    "# set()  # set()\n",
    "# frozenset()  # frozenset()\n",
    "# bytes()  # b''\n",
    "# bytearray()  # bytearray()\n",
    "# memoryview()  # memoryview()\n",
    "# range()  # range(0, 1)\n",
    "# None  # None\n",
    "# True  # True\n",
    "# False  # False\n",
    "# def myfunc():\n",
    "#     pass     # None\n",
    "# print(myfunc())  # None\n",
    "# print(print())  # None\n",
    "# \n",
    "# # we can also pass value in int function\n",
    "# a=int(10)\n",
    "# print(a)\n",
    "# print(type(a))\n"
   ],
   "outputs": [],
   "execution_count": 2
  },
  {
   "metadata": {
    "ExecuteTime": {
     "end_time": "2024-04-02T07:58:24.714604Z",
     "start_time": "2024-04-02T07:58:24.702122Z"
    }
   },
   "cell_type": "code",
   "source": [
    "# here prof :\n",
    "a=int() \n",
    "print(\"Default value of a is \",a)\n",
    "b=float()\n",
    "print(\"default value of  b is \",b)\n",
    "c=bool()\n",
    "print(\"default value of  c is \",c)\n",
    "d=complex()\n",
    "print(\"default value of  d is \",d)\n",
    "e=str()\n",
    "print(\"default value of  e is \",e)\n",
    "# and it is also used for typecasting\n"
   ],
   "id": "f7ef5914951152ac",
   "outputs": [
    {
     "name": "stdout",
     "output_type": "stream",
     "text": [
      "Default value of a is  0\n",
      "default value of  b is  0.0\n",
      "default value of  c is  False\n",
      "default value of  d is  0j\n",
      "default value of  e is  \n"
     ]
    }
   ],
   "execution_count": 7
  },
  {
   "cell_type": "code",
   "execution_count": 21,
   "id": "8a64cafd327247d",
   "metadata": {
    "ExecuteTime": {
     "end_time": "2024-04-01T04:59:20.020222Z",
     "start_time": "2024-04-01T04:59:20.012758Z"
    }
   },
   "outputs": [
    {
     "name": "stdout",
     "output_type": "stream",
     "text": [
      "(10, 20)\n",
      "<class 'tuple'>\n",
      "--------------------------\n",
      "2 [2, 3]\n",
      "type of b and c is  <class 'int'> <class 'list'>\n"
     ]
    }
   ],
   "source": [
    "# we can assign multiple variable to multiple values \n",
    "a = 10,20\n",
    "print(a)\n",
    "print(type(a))\n",
    "print(\"--------------------------\")\n",
    "b,*c= 2,2,3\n",
    "print(b, c)\n",
    "print(\"type of b and c is \", type(b),type(c))\n"
   ]
  },
  {
   "cell_type": "code",
   "id": "79bb080328bd999b",
   "metadata": {
    "ExecuteTime": {
     "end_time": "2024-04-02T08:13:40.306145Z",
     "start_time": "2024-04-02T08:13:40.298965Z"
    }
   },
   "source": "",
   "outputs": [],
   "execution_count": 9
  },
  {
   "metadata": {
    "ExecuteTime": {
     "end_time": "2024-04-02T08:13:41.265864Z",
     "start_time": "2024-04-02T08:13:41.262371Z"
    }
   },
   "cell_type": "code",
   "source": "",
   "id": "9df2391c44a67940",
   "outputs": [],
   "execution_count": 9
  },
  {
   "metadata": {},
   "cell_type": "code",
   "outputs": [],
   "execution_count": null,
   "source": "",
   "id": "80a38dc83e0c8374"
  }
 ],
 "metadata": {
  "kernelspec": {
   "display_name": "Python 3 (ipykernel)",
   "language": "python",
   "name": "python3"
  },
  "language_info": {
   "codemirror_mode": {
    "name": "ipython",
    "version": 3
   },
   "file_extension": ".py",
   "mimetype": "text/x-python",
   "name": "python",
   "nbconvert_exporter": "python",
   "pygments_lexer": "ipython3",
   "version": "3.11.5"
  }
 },
 "nbformat": 4,
 "nbformat_minor": 5
}
