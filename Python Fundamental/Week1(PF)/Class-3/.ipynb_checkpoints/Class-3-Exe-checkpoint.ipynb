{
 "cells": [
  {
   "cell_type": "markdown",
   "id": "0329af63-c569-4ff1-9daf-83d0e2083a0a",
   "metadata": {},
   "source": [
    "# Class-3-Exe:"
   ]
  },
  {
   "cell_type": "code",
   "execution_count": 1,
   "id": "e36e7eb7-eb05-4789-9926-3ed223516dbd",
   "metadata": {
    "tags": []
   },
   "outputs": [],
   "source": [
    "# print function :\n",
    "# syntax of print()\n",
    "#  print(values/objects..,sep=' ',end='\\n',file=sys.stdout,flush=True)\n",
    "# 1 we can print any type of objects and values \n",
    "# 2 we can print any values \n",
    "# 3 sep is parameter of print function  used for seprating and bydefault values is space \n",
    "# 4 end is also parameter of printfunction used for next line defult value is nextline \\n"
   ]
  },
  {
   "cell_type": "code",
   "execution_count": 2,
   "id": "2d61bdf9-3e39-47e0-bd12-1a960a184507",
   "metadata": {
    "tags": []
   },
   "outputs": [
    {
     "name": "stdout",
     "output_type": "stream",
     "text": [
      "hy babar how are you\n",
      "hy babar,how are you\n"
     ]
    }
   ],
   "source": [
    "print(\"hy babar\",\"how are you\") \n",
    "print(\"hy babar\",\"how are you\" ,sep=',') \n"
   ]
  },
  {
   "cell_type": "code",
   "execution_count": 3,
   "id": "f77405fd-ea84-40d2-85fa-c13cbb1bde08",
   "metadata": {},
   "outputs": [
    {
     "name": "stdout",
     "output_type": "stream",
     "text": [
      "hy babar---how are you\n"
     ]
    }
   ],
   "source": [
    "print(\"hy babar\",\"how are you\" ,sep='---') \n",
    "# we can add any thing here "
   ]
  },
  {
   "cell_type": "code",
   "execution_count": 4,
   "id": "5dc03361-8e81-4d3b-9d48-1b2597e245af",
   "metadata": {
    "tags": []
   },
   "outputs": [
    {
     "name": "stdout",
     "output_type": "stream",
     "text": [
      "hy babar how are you i am good \n"
     ]
    }
   ],
   "source": [
    "print(\"hy babar how are you\",end='')  # here we remove deafult value then it print same line \n",
    "print(\" i am good \")\n"
   ]
  },
  {
   "cell_type": "code",
   "execution_count": 5,
   "id": "1a58ad62-665a-4110-b3da-8850a62459a0",
   "metadata": {
    "tags": []
   },
   "outputs": [
    {
     "name": "stdout",
     "output_type": "stream",
     "text": [
      "hy babar how are you,i am fine \n"
     ]
    }
   ],
   "source": [
    "print(\"hy babar\",\"how are you\" ,end=',') # if we any other thing it will print at last \n",
    "print(\"i am fine \") # like this "
   ]
  },
  {
   "cell_type": "code",
   "execution_count": 6,
   "id": "d1f2f4b0-9d46-4457-902b-5050136a4dfb",
   "metadata": {
    "tags": []
   },
   "outputs": [
    {
     "name": "stdout",
     "output_type": "stream",
     "text": [
      "\n",
      "None\n",
      "<class 'NoneType'>\n",
      "140723072428784\n"
     ]
    }
   ],
   "source": [
    "# the default value of print function is None \n",
    "# let me prof :\n",
    "a=print()\n",
    "print(a)\n",
    "print(type(a))\n",
    "print(id(a))\n"
   ]
  },
  {
   "cell_type": "markdown",
   "id": "17005f4f-a21c-4b78-a3a6-8c729b76af85",
   "metadata": {},
   "source": [
    "# Input function"
   ]
  },
  {
   "cell_type": "code",
   "execution_count": 7,
   "id": "7f864307-bb40-4c92-9e2f-08f1afe3abc1",
   "metadata": {
    "tags": []
   },
   "outputs": [
    {
     "name": "stdin",
     "output_type": "stream",
     "text": [
      " babar2024\n"
     ]
    },
    {
     "name": "stdout",
     "output_type": "stream",
     "text": [
      "babar2024\n"
     ]
    }
   ],
   "source": [
    "a=input()\n",
    "print(a) # the default value of input is get input from user \n"
   ]
  },
  {
   "cell_type": "code",
   "execution_count": 8,
   "id": "ef1fd26e-5741-4e9a-baae-43d1417577e0",
   "metadata": {},
   "outputs": [
    {
     "name": "stdin",
     "output_type": "stream",
     "text": [
      "enter something  2023\n"
     ]
    },
    {
     "name": "stdout",
     "output_type": "stream",
     "text": [
      "2023 <class 'str'>\n"
     ]
    }
   ],
   "source": [
    "# input function alwayse return string \n",
    "a=input(\"enter something \")\n",
    "print(a,type(a))\n",
    "\n",
    "\n"
   ]
  },
  {
   "cell_type": "code",
   "execution_count": 10,
   "id": "ede4f050-ff74-4e0d-901e-2b8585f4d6c9",
   "metadata": {
    "tags": []
   },
   "outputs": [
    {
     "name": "stdin",
     "output_type": "stream",
     "text": [
      "Enter your age : 12\n"
     ]
    },
    {
     "name": "stdout",
     "output_type": "stream",
     "text": [
      "age is  12 and it type is  <class 'int'>\n"
     ]
    }
   ],
   "source": [
    "# if we want to return value should be int or float then we have to do typecasting like this \n",
    "age=int(input(\"Enter your age :\"))\n",
    "print(\"age is \",age,\"and it type is \",type(age))"
   ]
  },
  {
   "cell_type": "code",
   "execution_count": 11,
   "id": "eeeaed2c-44e4-4fcf-9517-14638b246579",
   "metadata": {
    "tags": []
   },
   "outputs": [
    {
     "name": "stdin",
     "output_type": "stream",
     "text": [
      "Enter your age : 19\n"
     ]
    },
    {
     "name": "stdout",
     "output_type": "stream",
     "text": [
      "age is  19.0 and it type is  <class 'float'>\n"
     ]
    }
   ],
   "source": [
    "# same here for float value return\n",
    "age=float(input(\"Enter your age :\"))\n",
    "print(\"age is \",age,\"and it type is \",type(age))"
   ]
  },
  {
   "cell_type": "code",
   "execution_count": null,
   "id": "86e2696f-f7be-4339-9815-6cf633aaba0a",
   "metadata": {
    "tags": []
   },
   "outputs": [],
   "source": []
  },
  {
   "cell_type": "code",
   "execution_count": null,
   "id": "8d06471e-9469-4377-86c5-ffc348ceb0b5",
   "metadata": {
    "tags": []
   },
   "outputs": [],
   "source": []
  },
  {
   "cell_type": "code",
   "execution_count": 31,
   "id": "8f9a01fc-f10e-4a2d-80b5-f7f3aa48e5cb",
   "metadata": {
    "tags": []
   },
   "outputs": [
    {
     "name": "stdin",
     "output_type": "stream",
     "text": [
      "Enter your age:  True\n"
     ]
    },
    {
     "name": "stdout",
     "output_type": "stream",
     "text": [
      "You entered False\n"
     ]
    }
   ],
   "source": [
    "# Take user input for age\n",
    "age_input = input(\"Enter your age: \")\n",
    "\n",
    "# Check if the input is a number\n",
    "if age_input.isdigit():\n",
    "    age = int(age_input)\n",
    "    print(\"You entered True\")\n",
    "else:\n",
    "    print(\"You entered False\")\n"
   ]
  },
  {
   "cell_type": "code",
   "execution_count": 37,
   "id": "e14e1e8c-e67a-4a8d-bac5-f656c72f43b0",
   "metadata": {
    "tags": []
   },
   "outputs": [
    {
     "name": "stdin",
     "output_type": "stream",
     "text": [
      "enter  tgerg\n"
     ]
    },
    {
     "name": "stdout",
     "output_type": "stream",
     "text": [
      "['t', 'g', 'e', 'r', 'g']\n",
      "<class 'list'>\n"
     ]
    }
   ],
   "source": [
    "# using list \n",
    "input_val=list(input(\"enter \"))\n",
    "print(input_val)\n",
    "print(type(input_val))"
   ]
  },
  {
   "cell_type": "code",
   "execution_count": 39,
   "id": "b3951d13-c6c5-4f26-8878-c6f85025a3cd",
   "metadata": {
    "tags": []
   },
   "outputs": [
    {
     "name": "stdin",
     "output_type": "stream",
     "text": [
      "enter  babar\n"
     ]
    },
    {
     "name": "stdout",
     "output_type": "stream",
     "text": [
      "('b', 'a', 'b', 'a', 'r')\n",
      "<class 'tuple'>\n"
     ]
    }
   ],
   "source": [
    "# using tuple \n",
    "input_value=tuple(input(\"enter \"))\n",
    "print(input_value)\n",
    "print(type(input_value))"
   ]
  },
  {
   "cell_type": "code",
   "execution_count": 40,
   "id": "0f2d1b7e-f5a4-411d-892d-a4ac979c27f9",
   "metadata": {
    "tags": []
   },
   "outputs": [
    {
     "name": "stdin",
     "output_type": "stream",
     "text": [
      "enter  45\n"
     ]
    },
    {
     "name": "stdout",
     "output_type": "stream",
     "text": [
      "{'5', '4'}\n",
      "<class 'set'>\n"
     ]
    }
   ],
   "source": [
    "# using set \n",
    "input_value=set(input(\"enter \"))\n",
    "print(input_value)\n",
    "print(type(input_value))"
   ]
  },
  {
   "cell_type": "code",
   "execution_count": null,
   "id": "b2a82330-a758-4c1b-b526-d4e38b436ac0",
   "metadata": {
    "tags": []
   },
   "outputs": [],
   "source": []
  },
  {
   "cell_type": "code",
   "execution_count": 46,
   "id": "beea7039-fd05-4ac8-a1ea-21c2ff7b8b84",
   "metadata": {
    "tags": []
   },
   "outputs": [
    {
     "name": "stdout",
     "output_type": "stream",
     "text": [
      "<class 'str'>\n"
     ]
    }
   ],
   "source": [
    "a=type(a)\n",
    "print(a)"
   ]
  },
  {
   "cell_type": "code",
   "execution_count": 28,
   "id": "64e05314-3ad8-45c5-9a67-d5459ff890e9",
   "metadata": {
    "tags": []
   },
   "outputs": [
    {
     "name": "stdout",
     "output_type": "stream",
     "text": [
      "<built-in function eval>\n",
      "<built-in method __new__ of type object at 0x00007FFCAEE1A310>\n"
     ]
    }
   ],
   "source": [
    "# evel\n",
    "print(eval)\n",
    "print(eval.__new__)"
   ]
  },
  {
   "cell_type": "code",
   "execution_count": 4,
   "id": "23b97c17-1624-4062-a1d9-56283e2e2a5b",
   "metadata": {},
   "outputs": [
    {
     "name": "stdout",
     "output_type": "stream",
     "text": [
      "<built-in method __new__ of type object at 0x00007FFCAEE1A4B0>\n"
     ]
    }
   ],
   "source": [
    "print(type.__new__)"
   ]
  },
  {
   "cell_type": "code",
   "execution_count": 6,
   "id": "01031009-8ac5-4ebe-8d00-f9329511781b",
   "metadata": {
    "tags": []
   },
   "outputs": [
    {
     "name": "stdout",
     "output_type": "stream",
     "text": [
      "<built-in function id>\n"
     ]
    }
   ],
   "source": [
    "print(id)"
   ]
  },
  {
   "cell_type": "code",
   "execution_count": 7,
   "id": "ebace206-836a-4fdb-90e6-5ead1d0f54ce",
   "metadata": {
    "tags": []
   },
   "outputs": [
    {
     "name": "stdout",
     "output_type": "stream",
     "text": [
      "<class 'type'>\n"
     ]
    }
   ],
   "source": [
    "print(type)"
   ]
  },
  {
   "cell_type": "code",
   "execution_count": 8,
   "id": "f8b0e4fc-b89a-4b4b-8364-d7ed9d655057",
   "metadata": {
    "tags": []
   },
   "outputs": [
    {
     "name": "stdout",
     "output_type": "stream",
     "text": [
      "<built-in method __new__ of type object at 0x00007FFCAEE1A310>\n"
     ]
    }
   ],
   "source": [
    "print(id.__new__)"
   ]
  },
  {
   "cell_type": "code",
   "execution_count": 30,
   "id": "2d5c9f3f-c44f-48cb-b2b2-8586c3cd7ac1",
   "metadata": {
    "tags": []
   },
   "outputs": [
    {
     "name": "stdin",
     "output_type": "stream",
     "text": [
      "enter 3\n"
     ]
    },
    {
     "name": "stdout",
     "output_type": "stream",
     "text": [
      "3\n"
     ]
    }
   ],
   "source": [
    "# eval function \n",
    "a=eval(input(\"enter\"))\n",
    "print(a)"
   ]
  },
  {
   "cell_type": "code",
   "execution_count": 44,
   "id": "e1e252fc-1b4a-473d-a418-2a879fd20f01",
   "metadata": {
    "tags": []
   },
   "outputs": [
    {
     "name": "stdout",
     "output_type": "stream",
     "text": [
      "True\n",
      "0\n",
      "54.8\n"
     ]
    }
   ],
   "source": [
    "print(eval('10==10'))\n",
    "print(eval('2 - 2'))\n",
    "x=2*5-(2/10)+45\n",
    "print(eval('x'))"
   ]
  },
  {
   "cell_type": "code",
   "execution_count": 33,
   "id": "57f69493-5868-4d0d-871a-6f5a6e097377",
   "metadata": {
    "tags": []
   },
   "outputs": [
    {
     "name": "stdout",
     "output_type": "stream",
     "text": [
      "True\n",
      "4\n",
      "Python\n",
      "HeHeHeHeHe\n",
      "Value of x is: -46\n",
      "Sum of list is: 20\n"
     ]
    }
   ],
   "source": [
    "\n",
    "# Python program to illustrate eval() function\n",
    "print(eval('10 == 10'))\n",
    "\n",
    "print(eval('2 ** 2'))\n",
    "\n",
    "print(eval(\"'Pyt' + 'hon'\"))\n",
    "\n",
    "print(eval(\"'He' * 5\"))\n",
    "\n",
    "x = 10 + 59 - 23 * 5\n",
    "print('Value of x is:', eval('x'))\n",
    "\n",
    "print('Sum of list is:', eval('sum([2, 4, 6, 8])'))"
   ]
  },
  {
   "cell_type": "code",
   "execution_count": 52,
   "id": "7daf7e00-ab9e-418c-865e-3c3b0ef8c448",
   "metadata": {
    "tags": []
   },
   "outputs": [
    {
     "name": "stdout",
     "output_type": "stream",
     "text": [
      "15\n"
     ]
    }
   ],
   "source": [
    "l=[1,34,45]\n",
    "print(eval('sum([1,3,5,6])'))\n"
   ]
  },
  {
   "cell_type": "code",
   "execution_count": null,
   "id": "5d9e4ba9-ecbf-417e-bc47-d250c73d9131",
   "metadata": {},
   "outputs": [],
   "source": []
  },
  {
   "cell_type": "code",
   "execution_count": null,
   "id": "e6d48a6c-5d5b-4b6d-abe6-ccc995b9bafe",
   "metadata": {},
   "outputs": [],
   "source": []
  }
 ],
 "metadata": {
  "kernelspec": {
   "display_name": "Python 3 (ipykernel)",
   "language": "python",
   "name": "python3"
  },
  "language_info": {
   "codemirror_mode": {
    "name": "ipython",
    "version": 3
   },
   "file_extension": ".py",
   "mimetype": "text/x-python",
   "name": "python",
   "nbconvert_exporter": "python",
   "pygments_lexer": "ipython3",
   "version": "3.11.5"
  }
 },
 "nbformat": 4,
 "nbformat_minor": 5
}
