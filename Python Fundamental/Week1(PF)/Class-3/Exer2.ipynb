{
 "cells": [
  {
   "metadata": {},
   "cell_type": "markdown",
   "source": [
    "# Exercise Questions!\n",
    "\n",
    "\n",
    "\n",
    "\n",
    "1. Create a program that prompts the user to enter a number and then prints out the sum of all the digits in that number using a loop and without converting the number to a string.\n",
    "\n",
    "2. Implement a function that takes a list of strings as input and returns a new list with all the strings that have an even length and are palindromes.\n",
    "\n",
    "3. Write a program that takes a list of numbers as input and prints out the second-largest number in the list without using any built-in functions or sorting algorithms.\n",
    "\n",
    "4. Create a program that prompts the user to enter a sentence and then prints out the sentence with all the words that are anagrams of each other grouped together.\n",
    "\n",
    "5. Implement a function that takes a string as input and returns a new string with all the characters in reverse order and all the vowels capitalized without using any built-in functions.\n",
    "\n",
    "6. Write a program that takes a list of numbers as input and prints out the sum of all the prime numbers in the list using a loop and without using any built-in functions.\n",
    "\n",
    "7. Create a program that prompts the user to enter a number and then prints out the binary representation of that number using a loop and without using any built-in functions.\n",
    "\n",
    "8. Implement a function that takes a list of strings as input and returns a new list with all the strings that are anagrams of each other grouped together and sorted in alphabetical order.\n",
    "\n",
    "9. Write a program that takes a string as input and prints out the string with all the consecutive duplicate characters removed using a loop and without using any built-in functions.\n",
    "\n",
    "10. Create a program that prompts the user to enter a sentence and then prints out the sentence with all the words that are palindromes capitalized and all the words that are not palindromes in reverse order.\n",
    "\n",
    "11. Implement a function that takes a list of numbers as input and returns a new list with all the numbers that are perfect cubes using a loop and without using any built-in functions.\n",
    "\n",
    "12. Write a program that takes a string as input and prints out the string with all the characters in reverse order and all the consonants capitalized using a loop and without using any built-in functions.\n",
    "\n",
    "13. Create a program that prompts the user to enter a number and then prints out the sum of all the numbers in the Fibonacci sequence up to that number using a loop and without using any built-in functions.\n",
    "\n",
    "14. Implement a function that takes a string as input and returns a new string with all the characters in alternating cases and all the vowels removed using a loop and without using any built-in functions.\n",
    "\n",
    "15. Write a program that takes a list of strings as input and prints out the longest string in the list without using any built-in functions.\n",
    "\n",
    "These problems cover various concepts related to Python syntax and variables, such as loops, string manipulation, list operations, conditional statements, and more. They involve using loops, conditional statements, and other Python syntax constructs to solve complex problems without relying on built-in functions or external libraries."
   ],
   "id": "b32dbcba8eff84b1"
  },
  {
   "metadata": {
    "ExecuteTime": {
     "end_time": "2024-03-31T14:39:33.347080Z",
     "start_time": "2024-03-31T14:39:26.034518Z"
    }
   },
   "cell_type": "code",
   "source": [
    "#Q:1 Write a program that takes two numbers as input and swaps their values using a temporary variable.\n",
    "# using tem variable \n",
    "a = int(input(\"Enter a number: \"))  \n",
    "b = int(input(\"Enter another number: \"))\n",
    "print(\"Before Swapping  a, b is \", a, b)\n",
    "temp = a\n",
    "a = b\n",
    "b = temp\n",
    "print(\"After Swapping  a, b is \", a, b)"
   ],
   "id": "c195f6d3d85dccf3",
   "outputs": [
    {
     "name": "stdout",
     "output_type": "stream",
     "text": [
      "Before Swapping  a, b is  12 34\n",
      "After Swapping  a, b is  34 12\n"
     ]
    }
   ],
   "execution_count": 2
  },
  {
   "metadata": {
    "ExecuteTime": {
     "end_time": "2024-03-31T14:41:56.512660Z",
     "start_time": "2024-03-31T14:41:56.505525Z"
    }
   },
   "cell_type": "code",
   "source": [
    "# using without tem variable !\n",
    "print(\"After Swapping  b, a is \", b, a)\n",
    "a, b = b, a\n",
    "print(\"After Swapping  b, a is \", b, a)"
   ],
   "id": "9e3ff101c33e68b5",
   "outputs": [
    {
     "name": "stdout",
     "output_type": "stream",
     "text": [
      "After Swapping  b, a is  12 34\n",
      "After Swapping  b, a is  34 12\n"
     ]
    }
   ],
   "execution_count": 3
  },
  {
   "metadata": {
    "ExecuteTime": {
     "end_time": "2024-04-01T03:33:36.372992Z",
     "start_time": "2024-04-01T03:31:18.253613Z"
    }
   },
   "cell_type": "code",
   "source": [
    "#Q:2 Implement a function that takes a string as input and returns a new string with all the vowels replaced by their corresponding ASCII values.\n",
    "user_input = input(\"Enter a String : \")\n",
    "vowels = ['a', 'e', 'i','o','u','A','E','I','O','U']\n",
    "result = ''\n",
    "for i in user_input:\n",
    "    if  i in vowels :\n",
    "        result += str(ord(i))\n",
    "    else:\n",
    "        result += i\n",
    "print(result)\n",
    "\n"
   ],
   "id": "25d568af59ca4cd0",
   "outputs": [
    {
     "name": "stdout",
     "output_type": "stream",
     "text": [
      "b97b97r\n"
     ]
    }
   ],
   "execution_count": 14
  },
  {
   "metadata": {
    "ExecuteTime": {
     "end_time": "2024-04-01T04:15:54.624925Z",
     "start_time": "2024-04-01T04:15:54.611234Z"
    }
   },
   "cell_type": "code",
   "source": "",
   "id": "92bf55d84d4193e6",
   "outputs": [],
   "execution_count": 31
  },
  {
   "metadata": {
    "ExecuteTime": {
     "end_time": "2024-04-01T04:15:44.185664Z",
     "start_time": "2024-04-01T04:15:36.772178Z"
    }
   },
   "cell_type": "code",
   "source": [
    "user_input = input(\"Enter a Sentence : \")\n",
    "words = user_input.split()\n",
    "result = ''\n",
    "for word in words:\n",
    "    if len(word) % 2 == 0:\n",
    "        result += word.upper()\n",
    "    else:\n",
    "        result += word\n",
    "    result += \" \"  # Add space after each word\n",
    "result = result.strip()  # Remove leading and trailing whitespace\n",
    "print(result)\n"
   ],
   "id": "21cc5777b034ebab",
   "outputs": [
    {
     "name": "stdout",
     "output_type": "stream",
     "text": [
      "hello world IS BABA\n"
     ]
    }
   ],
   "execution_count": 31
  },
  {
   "metadata": {
    "ExecuteTime": {
     "end_time": "2024-04-01T04:35:08.347352Z",
     "start_time": "2024-04-01T04:35:08.335806Z"
    }
   },
   "cell_type": "code",
   "source": "",
   "id": "9fb1f5437ef80eb2",
   "outputs": [],
   "execution_count": 40
  },
  {
   "metadata": {
    "ExecuteTime": {
     "end_time": "2024-04-01T04:34:29.178527Z",
     "start_time": "2024-04-01T04:34:19.667848Z"
    }
   },
   "cell_type": "code",
   "source": [
    "user_input = input(\"Enter Numbers separated by space: \")\n",
    "li = user_input.split()  # Split the input string into individual numbers as strings\n",
    "new_list = []\n",
    "for num_str in li:\n",
    "    num = int(num_str)  # Convert each number from string to integer\n",
    "    if num % 3 == 0 and num % 5 == 0:\n",
    "        new_list.append(num)\n",
    "print(\"Numbers divisible by both 3 and 5:\", new_list)\n"
   ],
   "id": "28c724a21ff86072",
   "outputs": [
    {
     "name": "stdout",
     "output_type": "stream",
     "text": [
      "Numbers divisible by both 3 and 5: [15]\n"
     ]
    }
   ],
   "execution_count": 40
  },
  {
   "metadata": {
    "ExecuteTime": {
     "end_time": "2024-04-01T14:33:12.341507Z",
     "start_time": "2024-04-01T14:33:10.109425Z"
    }
   },
   "cell_type": "code",
   "source": [
    "#Q:5. Write a program that takes a string as input and prints out the string with all the characters in reverse order using a loop and without using any built-in functions.\n",
    "# Method :1 printing horizontal\n",
    "user_input = input(\"Enter a String : \")\n",
    "for char in user_input[::-1]:\n",
    "    print(char)\n",
    "# Method :2 printing in vertical or sequence \n",
    "revers = ''\n",
    "for char in user_input[::-1]:\n",
    "    revers += char\n",
    "print(revers)\n",
    "\n",
    "for i in range(len(user_input)-1,-1,-1):\n",
    "    print(i)"
   ],
   "id": "64faa19445a1fccb",
   "outputs": [
    {
     "name": "stdout",
     "output_type": "stream",
     "text": [
      "r\n",
      "a\n",
      "b\n",
      "a\n",
      "b\n",
      "rabab\n",
      "\u0004\n",
      "\u0003\n",
      "\u0002\n",
      "\u0001\n",
      "\u0000\n"
     ]
    }
   ],
   "execution_count": 15
  },
  {
   "metadata": {
    "ExecuteTime": {
     "end_time": "2024-04-01T14:27:29.869802Z",
     "start_time": "2024-04-01T14:27:26.033111Z"
    }
   },
   "cell_type": "code",
   "source": [
    "# here is other Method  to solve this problem\n",
    "# using slicing \n",
    "user_input = input(\"Enter a String : \")\n",
    "print(user_input[::-1]) \n",
    "# By converting sting to list and then builtin revers method of list\n",
    "new_str = list(user_input)\n",
    "new_str.reverse()\n",
    "print(new_str)\n"
   ],
   "id": "73efe4390958cc33",
   "outputs": [
    {
     "name": "stdout",
     "output_type": "stream",
     "text": [
      "riamu\n",
      "['u', 'm', 'a', 'i', 'r']\n"
     ]
    }
   ],
   "execution_count": 12
  },
  {
   "metadata": {
    "ExecuteTime": {
     "end_time": "2024-04-01T14:35:04.106483Z",
     "start_time": "2024-04-01T14:35:04.097969Z"
    }
   },
   "cell_type": "code",
   "source": [
    "# Function to reverse a string\n",
    "def reverse(string):\n",
    "\tstring = [string[i] for i in range(len(string)-1, -1, -1)]\n",
    "\treturn \"\".join(string)\n",
    "\n",
    "s = \"Geeksforgeeks\"\n",
    "\n",
    "print(\"The original string is : \", s)\n",
    "\n",
    "print(\"The reversed string(using reversed) is : \", reverse(s))\n"
   ],
   "id": "3318a34a59e38a3a",
   "outputs": [
    {
     "name": "stdout",
     "output_type": "stream",
     "text": [
      "The original string is :  Geeksforgeeks\n",
      "The reversed string(using reversed) is :  skeegrofskeeG\n"
     ]
    }
   ],
   "execution_count": 16
  },
  {
   "metadata": {
    "ExecuteTime": {
     "end_time": "2024-04-01T14:36:23.519241Z",
     "start_time": "2024-04-01T14:36:23.494503Z"
    }
   },
   "cell_type": "code",
   "source": [
    "# using list comprehensive\n",
    "for i in range(5):\n",
    "    print(i)\n",
    "\n",
    "li = [ x  for i in range(3) ]"
   ],
   "id": "511062592ec2129",
   "outputs": [
    {
     "name": "stdout",
     "output_type": "stream",
     "text": [
      "0\n",
      "1\n",
      "2\n",
      "3\n",
      "4\n"
     ]
    }
   ],
   "execution_count": 17
  },
  {
   "metadata": {},
   "cell_type": "code",
   "outputs": [],
   "execution_count": null,
   "source": "",
   "id": "77fadef94d069e33"
  }
 ],
 "metadata": {
  "kernelspec": {
   "display_name": "Python 3",
   "language": "python",
   "name": "python3"
  },
  "language_info": {
   "codemirror_mode": {
    "name": "ipython",
    "version": 2
   },
   "file_extension": ".py",
   "mimetype": "text/x-python",
   "name": "python",
   "nbconvert_exporter": "python",
   "pygments_lexer": "ipython2",
   "version": "2.7.6"
  }
 },
 "nbformat": 4,
 "nbformat_minor": 5
}
