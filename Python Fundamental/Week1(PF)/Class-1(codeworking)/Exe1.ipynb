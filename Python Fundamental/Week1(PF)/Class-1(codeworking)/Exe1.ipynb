{
 "cells": [
  {
   "cell_type": "markdown",
   "id": "initial_id",
   "metadata": {
    "collapsed": true
   },
   "source": [
    "# Machnical Representation of code in Python\n",
    "\n",
    "## Introduction\n",
    "- In this notebook, I will be discussing the mechanical representation of code in Python.\n",
    "- I will be discussing the following topics:\n",
    "    - How Python code is represented in memory.\n",
    "    - How Python code is executed.\n",
    "    - How Python code is compiled.\n",
    "    - How Python code is interpreted.\n",
    "    - How Python code is executed in the Python Virtual Machine (PVM).\n",
    "    - How Python code is executed in the CPython interpreter.\n",
    "    - How Python code is executed in the PyPy interpreter.\n",
    "    - How Python code is executed in the Jython interpreter.\n",
    "    - How Python code is executed in the IronPython interpreter.\n",
    "    - How Python code is executed in the MicroPython interpreter.\n",
    "    - How Python code is executed in the CircuitPython interpreter.\n",
    "    - How Python code is executed in the Brython interpreter.\n",
    "    - How Python code is executed in the Skulpt interpreter.\n",
    "    - How Python code is executed in the Pyodide interpreter.\n",
    "    - How Python code is executed in the Transcrypt interpreter."
   ]
  },
  {
   "cell_type": "markdown",
   "id": "e0a7ab04",
   "metadata": {},
   "source": [
    "At its core, computers are all about binary code. Your processor doesn’t speak Python;\n",
    "all it sees is the presence or absence of electrical current on circuits going through it.\n",
    "Same goes for what’s in your computer memory"
   ]
  },
  {
   "cell_type": "code",
   "execution_count": 3,
   "id": "d4b5b916",
   "metadata": {},
   "outputs": [],
   "source": [
    "from ctypes import string_at\n",
    "# from ctypes  is a foreign function interface (FFI) for Python. \n",
    "# It provides C compatible data types, and allows calling functions in DLLs or shared libraries. \n",
    "# It can be used to wrap these libraries in pure Python.\n",
    "from sys import getsizeof\n",
    "from binascii import hexlify\n"
   ]
  },
  {
   "cell_type": "code",
   "execution_count": 13,
   "id": "061ede6b",
   "metadata": {},
   "outputs": [
    {
     "name": "stdout",
     "output_type": "stream",
     "text": [
      "5259604\n",
      "b'PAT'\n",
      "b'0200000000000000a0f4930000000000080000000000000054415000'\n"
     ]
    }
   ],
   "source": [
    "a = 0b01010000_01000001_01010100\n",
    "print(a)\n",
    "\n",
    "b = a.to_bytes(3, 'big')\n",
    "print(b)\n",
    "\n",
    "print(hexlify(string_at(id(a), getsizeof(a))))"
   ]
  },
  {
   "cell_type": "code",
   "execution_count": 19,
   "id": "132be092",
   "metadata": {},
   "outputs": [
    {
     "name": "stdout",
     "output_type": "stream",
     "text": [
      "Babar\n",
      "b'4261626172'\n",
      "b'ffffffff0000000080409300000000000500000000000000de0e9b25cd53285a6661737300696e73426162617200'\n"
     ]
    },
    {
     "data": {
      "text/plain": [
       "5259604"
      ]
     },
     "execution_count": 19,
     "metadata": {},
     "output_type": "execute_result"
    }
   ],
   "source": [
    "# another example\n",
    "name = 'Babar'\n",
    "print(name)\n",
    "# it shows of binary value of the string\n",
    "print(hexlify(name.encode('ascii')))\n",
    "# it will give (0,1) format of the string\n",
    "print(hexlify(string_at(id(name), getsizeof(name))))\n",
    "#\n"
   ]
  },
  {
   "cell_type": "code",
   "execution_count": 20,
   "id": "3fb06c2c",
   "metadata": {},
   "outputs": [
    {
     "data": {
      "text/plain": [
       "b'PAT'"
      ]
     },
     "execution_count": 20,
     "metadata": {},
     "output_type": "execute_result"
    }
   ],
   "source": [
    "b"
   ]
  },
  {
   "cell_type": "code",
   "execution_count": null,
   "id": "1a6a78ed",
   "metadata": {},
   "outputs": [],
   "source": []
  },
  {
   "cell_type": "code",
   "execution_count": null,
   "id": "a11bd32a",
   "metadata": {},
   "outputs": [],
   "source": []
  }
 ],
 "metadata": {
  "kernelspec": {
   "display_name": "base",
   "language": "python",
   "name": "python3"
  },
  "language_info": {
   "codemirror_mode": {
    "name": "ipython",
    "version": 3
   },
   "file_extension": ".py",
   "mimetype": "text/x-python",
   "name": "python",
   "nbconvert_exporter": "python",
   "pygments_lexer": "ipython3",
   "version": "3.12.4"
  }
 },
 "nbformat": 4,
 "nbformat_minor": 5
}
