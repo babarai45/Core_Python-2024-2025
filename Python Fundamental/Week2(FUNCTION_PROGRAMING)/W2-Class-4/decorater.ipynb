{
 "cells": [
  {
   "cell_type": "markdown",
   "metadata": {},
   "source": [
    "# Python Decorators\n",
    "- Decorators are a design pattern in Python that allows a user to add new functionality to an existing object without modifying its structure.\n",
    "- Decorators are very powerful and useful tool in Python since it allows programmers to modify the behavior of function or class. Decorators allow us to wrap another function in order to extend the behavior of the wrapped function, without permanently modifying it.\n",
    "- In Decorators, functions are taken as the argument into another function and then called inside the wrapper function.\n",
    "- Decorators can be thought of as functions which modify the functionality of another function. They help to make our code shorter and more \"Pythonic\".\n",
    "- Decorators are usually called before the definition of a function you want to decorate.\n",
    "- Decorators are used to modify the behavior of function or class. Decorators allow us to wrap another function in order to extend the behavior of the wrapped function, without permanently modifying it.\n"
   ]
  },
  {
   "cell_type": "markdown",
   "metadata": {},
   "source": [
    "### Advantages of Decorators\n",
    "- Decorators allow you to inject or modify code in functions or classes without changing the code of the function or class itself.\n",
    "- Decorators allow you to reuse the same code in multiple functions or classes.\n",
    "- Decorators allow you to keep your code DRY (Don't Repeat Yourself). \n",
    "- Decorators allow you to keep your code clean and readable.\n",
    "- Decorators allow you to add new functionalities to the existing functions or classes."
   ]
  },
  {
   "cell_type": "markdown",
   "metadata": {},
   "source": [
    "### Types of Decorators\n",
    "- Function Decorators\n",
    "- Class Decorators\n",
    "- Method Decorators\n",
    "- Property Decorators\n",
    "- Static Method Decorators\n",
    "- Class Method Decorators\n",
    "- Decorators with Arguments\n",
    "- Chaining Decorators\n",
    "- Nested Decorators\n",
    "- Decorators with Classes\n",
    "- Decorators with Generators\n",
    "- Decorators with Context Managers\n",
    "- Decorators with Decorators\n",
    "- Decorators with Decorators with Arguments\n",
    "- Decorators with Decorators with Classes\n",
    "- Decorators with Decorators with Generators"
   ]
  },
  {
   "cell_type": "markdown",
   "metadata": {},
   "source": [
    "# Start with baiscs of function \n",
    "- A function is a block of code that only runs when it is called. You can pass data, known as parameters, into a function. A function can return data as a result."
   ]
  },
  {
   "cell_type": "markdown",
   "metadata": {},
   "source": [
    "# prerequisites to understand Decorators\n",
    "- Understanding of functions\n",
    "- Understanding of closures\n",
    "- Understanding of decorators"
   ]
  },
  {
   "cell_type": "code",
   "execution_count": 3,
   "metadata": {},
   "outputs": [
    {
     "name": "stdout",
     "output_type": "stream",
     "text": [
      "Hello, Babar!\n",
      "<class 'function'>\n"
     ]
    }
   ],
   "source": [
    "# simple function\n",
    "def greet(name):\n",
    "    print(f\"Hello, {name}!\")\n",
    "greet(\"Babar\")\n",
    "print(type(greet))"
   ]
  },
  {
   "cell_type": "code",
   "execution_count": 6,
   "metadata": {},
   "outputs": [
    {
     "data": {
      "text/plain": [
       "'Hello, Babar!'"
      ]
     },
     "execution_count": 6,
     "metadata": {},
     "output_type": "execute_result"
    }
   ],
   "source": [
    "# simple function\n",
    "def greet(name):\n",
    "    return f\"Hello, {name}!\"\n",
    "greet(\"Babar\")\n",
    "# print(type(greet))"
   ]
  },
  {
   "cell_type": "markdown",
   "metadata": {},
   "source": [
    "# so it mean function is object or data type in python"
   ]
  },
  {
   "cell_type": "code",
   "execution_count": 9,
   "metadata": {},
   "outputs": [
    {
     "data": {
      "text/plain": [
       "'Hello, Babar!'"
      ]
     },
     "execution_count": 9,
     "metadata": {},
     "output_type": "execute_result"
    }
   ],
   "source": [
    "# can we assign a function to a variable?\n",
    "# yes\n",
    "greet_someone = greet\n",
    "greet_someone(\"Babar\")"
   ]
  },
  {
   "cell_type": "code",
   "execution_count": 18,
   "metadata": {},
   "outputs": [
    {
     "ename": "TypeError",
     "evalue": "unhashable type: 'list'",
     "output_type": "error",
     "traceback": [
      "\u001b[0;31m---------------------------------------------------------------------------\u001b[0m",
      "\u001b[0;31mTypeError\u001b[0m                                 Traceback (most recent call last)",
      "Cell \u001b[0;32mIn[18], line 4\u001b[0m\n\u001b[1;32m      2\u001b[0m l[\u001b[38;5;241m0\u001b[39m]\n\u001b[1;32m      3\u001b[0m \u001b[38;5;28mtype\u001b[39m(l)\n\u001b[0;32m----> 4\u001b[0m {l}\n",
      "\u001b[0;31mTypeError\u001b[0m: unhashable type: 'list'"
     ]
    }
   ],
   "source": [
    "l=[1,2,3,4,5]\n",
    "l[0]\n",
    "type(l)\n",
    "{l}"
   ]
  },
  {
   "cell_type": "code",
   "execution_count": 15,
   "metadata": {},
   "outputs": [
    {
     "name": "stdout",
     "output_type": "stream",
     "text": [
      "140660138046496\n",
      "140660138046496\n",
      "<class 'function'>\n",
      "<class 'function'>\n",
      "<class 'set'>\n",
      "<class 'set'>\n"
     ]
    },
    {
     "data": {
      "text/plain": [
       "{<function __main__.greet(name)>}"
      ]
     },
     "execution_count": 15,
     "metadata": {},
     "output_type": "execute_result"
    }
   ],
   "source": [
    "# ok if functions are variables so it is mutable or immutable?\n",
    "# mutable \n",
    "# how to check if a function is mutable or immutable?\n",
    "# id() function will return the memory address of the object if the memory address is same then it is mutable otherwise it is immutable\n",
    "print(id(greet))\n",
    "print(id(greet_someone))\n",
    "# and 2nd way to check is by using type() function\n",
    "print(type(greet))\n",
    "print(type(greet_someone))\n",
    "# we can also check the type of the function by using set {} if it is mutable then it will return set otherwise it will return frozenset\n",
    "print(type({greet}))\n",
    "print(type({greet_someone})) \n",
    "{greet} == {greet_someone}\n",
    "{greet}\n"
   ]
  },
  {
   "cell_type": "markdown",
   "metadata": {},
   "source": [
    "# decorater by sir rizwan"
   ]
  },
  {
   "cell_type": "code",
   "execution_count": 31,
   "metadata": {},
   "outputs": [],
   "source": [
    "# simpe function\n",
    "def simple_function():\n",
    "    print(\"Hello, World!\")\n",
    "    "
   ]
  },
  {
   "cell_type": "code",
   "execution_count": 32,
   "metadata": {},
   "outputs": [],
   "source": [
    "# variable = simple_function  # now variable is return none type if check variable type beacause functuon did not return any thing  and become as function caller\n",
    "# if variable = simple_function() then it will return the value of the function"
   ]
  },
  {
   "cell_type": "code",
   "execution_count": 33,
   "metadata": {},
   "outputs": [],
   "source": [
    "# type(variable)"
   ]
  },
  {
   "cell_type": "code",
   "execution_count": 34,
   "metadata": {},
   "outputs": [],
   "source": [
    "# variable()"
   ]
  },
  {
   "cell_type": "code",
   "execution_count": 37,
   "metadata": {},
   "outputs": [
    {
     "name": "stdout",
     "output_type": "stream",
     "text": [
      "Hello, World!\n"
     ]
    },
    {
     "data": {
      "text/plain": [
       "NoneType"
      ]
     },
     "execution_count": 37,
     "metadata": {},
     "output_type": "execute_result"
    }
   ],
   "source": [
    "variable = simple_function()\n",
    "type(variable)"
   ]
  },
  {
   "cell_type": "code",
   "execution_count": 11,
   "metadata": {},
   "outputs": [],
   "source": [
    "# same but here with return\n",
    "def simple_function():\n",
    "    return 'hello world '"
   ]
  },
  {
   "cell_type": "code",
   "execution_count": 14,
   "metadata": {},
   "outputs": [],
   "source": [
    "new_var = simple_function"
   ]
  },
  {
   "cell_type": "code",
   "execution_count": 15,
   "metadata": {},
   "outputs": [
    {
     "data": {
      "text/plain": [
       "str"
      ]
     },
     "execution_count": 15,
     "metadata": {},
     "output_type": "execute_result"
    }
   ],
   "source": [
    "type(new_var)    # here is it store refrece because function return string"
   ]
  },
  {
   "cell_type": "code",
   "execution_count": 16,
   "metadata": {},
   "outputs": [
    {
     "data": {
      "text/plain": [
       "str"
      ]
     },
     "execution_count": 16,
     "metadata": {},
     "output_type": "execute_result"
    }
   ],
   "source": [
    "new_var = simple_function()  # now it return str because fuction is called \n",
    "type(new_var)"
   ]
  },
  {
   "cell_type": "code",
   "execution_count": 39,
   "metadata": {},
   "outputs": [],
   "source": [
    "def outer_func():\n",
    "    print(\"i am outer func as start \")\n",
    "    def iner_func():\n",
    "        print(\"i am inere funct \")\n",
    "    print(\"i am outer func as end  \")\n",
    "    return iner_func"
   ]
  },
  {
   "cell_type": "code",
   "execution_count": 40,
   "metadata": {},
   "outputs": [],
   "source": [
    "# if call outer it run and disply body\n",
    "# outer_func()"
   ]
  },
  {
   "cell_type": "code",
   "execution_count": 42,
   "metadata": {},
   "outputs": [
    {
     "data": {
      "text/plain": [
       "function"
      ]
     },
     "execution_count": 42,
     "metadata": {},
     "output_type": "execute_result"
    }
   ],
   "source": [
    "# if store outerfunc in varibale \n",
    "out_var = outer_func\n",
    "type(out_var)"
   ]
  },
  {
   "cell_type": "code",
   "execution_count": 43,
   "metadata": {},
   "outputs": [
    {
     "name": "stdout",
     "output_type": "stream",
     "text": [
      "i am outer func as start \n",
      "i am outer func as end  \n"
     ]
    },
    {
     "data": {
      "text/plain": [
       "<function __main__.outer_func.<locals>.iner_func()>"
      ]
     },
     "execution_count": 43,
     "metadata": {},
     "output_type": "execute_result"
    }
   ],
   "source": [
    "out_var()"
   ]
  },
  {
   "cell_type": "code",
   "execution_count": 44,
   "metadata": {},
   "outputs": [
    {
     "name": "stdout",
     "output_type": "stream",
     "text": [
      "i am outer func as start \n",
      "i am outer func as end  \n"
     ]
    },
    {
     "data": {
      "text/plain": [
       "function"
      ]
     },
     "execution_count": 44,
     "metadata": {},
     "output_type": "execute_result"
    }
   ],
   "source": [
    "out_var = outer_func()\n",
    "type(out_var)"
   ]
  },
  {
   "cell_type": "code",
   "execution_count": 45,
   "metadata": {},
   "outputs": [
    {
     "name": "stdout",
     "output_type": "stream",
     "text": [
      "i am inere funct \n"
     ]
    }
   ],
   "source": [
    "out_var()"
   ]
  },
  {
   "cell_type": "code",
   "execution_count": 85,
   "metadata": {},
   "outputs": [],
   "source": [
    "def my_decorator(new_fun):\n",
    "    # print(\"please add new functionality\")\n",
    "    def wrapper():\n",
    "        print(\"ok i here is this new functionality\")\n",
    "        new_fun()\n",
    "    # print(\"Thanks  adding  new functionality\")\n",
    "    return wrapper\n"
   ]
  },
  {
   "cell_type": "code",
   "execution_count": 81,
   "metadata": {},
   "outputs": [],
   "source": [
    "@my_decorator\n",
    "def my_main_func():\n",
    "    print(\" it my main fiction for extended functionlity \")\n",
    "    "
   ]
  },
  {
   "cell_type": "code",
   "execution_count": 82,
   "metadata": {},
   "outputs": [],
   "source": [
    "# dec_variable = my_decorator(my_main_func)  # this is not good aproach"
   ]
  },
  {
   "cell_type": "code",
   "execution_count": 83,
   "metadata": {},
   "outputs": [],
   "source": [
    "# dec_variable()  # this is not good aproach"
   ]
  },
  {
   "cell_type": "code",
   "execution_count": 84,
   "metadata": {},
   "outputs": [
    {
     "name": "stdout",
     "output_type": "stream",
     "text": [
      "ok i here is this new functionality\n",
      " it my main fiction for extended functionlity \n"
     ]
    }
   ],
   "source": [
    "# we only run over main fuction and withsanme time dectorater will call automaically \n",
    "my_main_func()"
   ]
  },
  {
   "cell_type": "code",
   "execution_count": 88,
   "metadata": {},
   "outputs": [],
   "source": [
    "@my_decorator\n",
    "def my_second():\n",
    "\n",
    "    return \"sencod functionality\"\n"
   ]
  },
  {
   "cell_type": "code",
   "execution_count": 96,
   "metadata": {},
   "outputs": [
    {
     "name": "stdout",
     "output_type": "stream",
     "text": [
      "ok i here is this new functionality\n"
     ]
    }
   ],
   "source": [
    "my_second()"
   ]
  },
  {
   "cell_type": "code",
   "execution_count": null,
   "metadata": {},
   "outputs": [],
   "source": []
  },
  {
   "cell_type": "code",
   "execution_count": 2,
   "metadata": {},
   "outputs": [
    {
     "name": "stdout",
     "output_type": "stream",
     "text": [
      "Fail\n",
      "pass\n",
      "pass\n"
     ]
    }
   ],
   "source": [
    "def resuslt(marks):\n",
    "    for m in marks:\n",
    "        if m >= 33:\n",
    "            print(\"pass\")\n",
    "        else:\n",
    "            print(\"Fail\")\n",
    "    # else:\n",
    "    #     print(\"PASS\")\n",
    "resuslt([20,40,33.55])\n",
    "    \n"
   ]
  },
  {
   "cell_type": "code",
   "execution_count": null,
   "metadata": {},
   "outputs": [],
   "source": []
  },
  {
   "cell_type": "code",
   "execution_count": null,
   "metadata": {},
   "outputs": [],
   "source": []
  },
  {
   "cell_type": "code",
   "execution_count": null,
   "metadata": {},
   "outputs": [],
   "source": []
  },
  {
   "cell_type": "code",
   "execution_count": null,
   "metadata": {},
   "outputs": [],
   "source": []
  },
  {
   "cell_type": "code",
   "execution_count": 53,
   "metadata": {},
   "outputs": [
    {
     "name": "stdout",
     "output_type": "stream",
     "text": [
      "you entered numbere is  [89, 90, 86]\n",
      "congragulation your are position holdere\n",
      "pass\n",
      "pass\n",
      "pass\n",
      "pass all subjects\n"
     ]
    }
   ],
   "source": [
    "\n",
    "# HERE IS LOGIC FOR CHECK FINAL RESULT FOR PASS AND FAIL \n",
    "# BUT SOME STUNDENT THAT MASRKS ABOVE 85 THEN IT SHOW ALSO POSITION HOLDER FOR THAT WE MAKE DECORATER \n",
    "# Actully it is alo a function it run always whenever i run my main function  but it show ruseult when the \n",
    "# student all marks is above 85 and show its possiotion   means it change behave or functionality without modification of main function and aslo \n",
    "# we can run and stop accordin to need my requierment whenever we need like comment #@check_position \n",
    "# simple scrath logic \n",
    "\n",
    "def check_position(test_postion):\n",
    "    def wrapper(marks):\n",
    "        flag = True\n",
    "        for m in marks:\n",
    "            if m < 85:\n",
    "                flag = False\n",
    "                break \n",
    "        if flag :\n",
    "            print(\"congragulation your are position holdere\")\n",
    "            test_postion(marks)\n",
    "        else :\n",
    "             test_postion(marks)\n",
    "    return wrapper\n",
    "@check_position\n",
    "def check_result(marks):\n",
    "    flag = True\n",
    "    for m in marks:\n",
    "        if m >= 33:\n",
    "            print(\"pass\")\n",
    "        else:\n",
    "            print(\"fail\")\n",
    "            flag = False\n",
    "    if flag :\n",
    "        print(\"pass all subjects\")\n",
    "    else:\n",
    "        print(\"fail in some subjects and also pass in some subjects \")\n",
    "enter_marks = list(map(eval, input(\"Enter YOUR Marks: \").split(',')))\n",
    "print(\"you entered numbere is \",enter_marks)\n",
    "check_result(enter_marks)"
   ]
  },
  {
   "cell_type": "code",
   "execution_count": null,
   "metadata": {},
   "outputs": [],
   "source": []
  },
  {
   "cell_type": "code",
   "execution_count": 42,
   "metadata": {},
   "outputs": [
    {
     "name": "stdout",
     "output_type": "stream",
     "text": [
      "You entered marks: [89, 90, 89]\n",
      "Congratulations, you are a position holder!\n",
      "pass\n",
      "pass\n",
      "pass\n",
      "Passed all subjects!\n"
     ]
    }
   ],
   "source": [
    "# Decorator to check if the student is a position holder (all marks above 85)\n",
    "def check_position(test_position):\n",
    "    def wrapper(marks):\n",
    "        flag = True  # We assume all marks are above 85\n",
    "        for m in marks:\n",
    "            if m < 85:\n",
    "                flag = False  # If any mark is below 85, they are not a position holder\n",
    "                break         # No need to check further once we know they are not a position holder\n",
    "        \n",
    "        if flag:\n",
    "            print(\"Congratulations, you are a position holder!\")\n",
    "            test_position(marks)  # Calls the main function\n",
    "        else:\n",
    "            test_position(marks)  # If not a position holder, just call the main function as usual\n",
    "    return wrapper\n",
    "\n",
    "# Main function to check pass or fail for each subject\n",
    "@check_position\n",
    "def check_result(marks):\n",
    "    flag = True  # Assume the student passes all subjects\n",
    "    \n",
    "    for m in marks:\n",
    "        if m >= 33:\n",
    "            print(\"pass\")\n",
    "        else:\n",
    "            print(\"fail\")\n",
    "            flag = False  # If any mark is below 33, the student failed that subject\n",
    "            \n",
    "    if flag:\n",
    "        print(\"Passed all subjects!\")\n",
    "    else:\n",
    "        print(\"Failed in some subjects but passed in others.\")\n",
    "\n",
    "# Get user input\n",
    "enter_marks = list(map(eval, input(\"Enter your marks (comma separated): \").split(',')))\n",
    "print(\"You entered marks:\", enter_marks)\n",
    "\n",
    "# Run the decorated function\n",
    "check_result(enter_marks)\n"
   ]
  },
  {
   "cell_type": "code",
   "execution_count": null,
   "metadata": {},
   "outputs": [],
   "source": []
  },
  {
   "cell_type": "code",
   "execution_count": 7,
   "metadata": {},
   "outputs": [
    {
     "name": "stdout",
     "output_type": "stream",
     "text": [
      "23  x  0  =  0\n",
      "23  x  1  =  23\n",
      "23  x  2  =  46\n",
      "23  x  3  =  69\n",
      "23  x  4  =  92\n",
      "23  x  5  =  115\n",
      "23  x  6  =  138\n",
      "23  x  7  =  161\n",
      "23  x  8  =  184\n",
      "23  x  9  =  207\n",
      "23  x  10  =  230\n"
     ]
    }
   ],
   "source": [
    "num= int(input(\"Enter number \"))\n",
    "for i in range(11):\n",
    "    print(num,\" x \",i,\" = \" ,i*num)\n"
   ]
  },
  {
   "cell_type": "code",
   "execution_count": null,
   "metadata": {},
   "outputs": [],
   "source": []
  }
 ],
 "metadata": {
  "kernelspec": {
   "display_name": "base",
   "language": "python",
   "name": "python3"
  },
  "language_info": {
   "codemirror_mode": {
    "name": "ipython",
    "version": 3
   },
   "file_extension": ".py",
   "mimetype": "text/x-python",
   "name": "python",
   "nbconvert_exporter": "python",
   "pygments_lexer": "ipython3",
   "version": "3.12.4"
  }
 },
 "nbformat": 4,
 "nbformat_minor": 2
}
