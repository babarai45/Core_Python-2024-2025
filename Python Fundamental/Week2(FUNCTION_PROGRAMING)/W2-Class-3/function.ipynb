{
 "cells": [
  {
   "cell_type": "markdown",
   "metadata": {},
   "source": [
    "# Functions in python\n",
    "- A function is a block of code which only runs when it is called.\n",
    "- You can pass data, known as parameters, into a function.\n",
    "- A function can return data as a result.\n",
    "- In python, we define a function using the `def` keyword.\n",
    "- function reduces the need for duplicate code.\n",
    "- function makes the code more readable and easier to understand and maintain.\n",
    "- function can be reused in other programs.\n",
    "- it allows us to divide a complex problem into simpler parts.\n",
    "- it allows us to test parts of the code in isolation( unit testing).\n",
    "- it allows us to use the same code in different parts of the program.\n",
    "- function stores the code in one place and can be used multiple times and structured format.\n",
    "- function can be used to create a library of code that can be used in different programs.\n",
    "  \n",
    "# Syntax\n",
    "```python\n",
    "def function_name(parameters):   # function defination or creation \n",
    "    \"\"\"docstring\"\"\"              # Function body    \n",
    "    statement(s)                 # compound statments\n",
    "    return expression            # return value to callere \n",
    "function_name()                  # function calling or invoke or execution \n",
    "```"
   ]
  },
  {
   "cell_type": "markdown",
   "metadata": {},
   "source": []
  },
  {
   "cell_type": "code",
   "execution_count": 3,
   "metadata": {},
   "outputs": [
    {
     "data": {
      "text/plain": [
       "'function body'"
      ]
     },
     "execution_count": 3,
     "metadata": {},
     "output_type": "execute_result"
    }
   ],
   "source": [
    "# simple function definatio and executon \n",
    "def myfunc():\n",
    "    body= 'function body'\n",
    "    return body\n",
    "myfunc()"
   ]
  },
  {
   "cell_type": "code",
   "execution_count": 26,
   "metadata": {},
   "outputs": [
    {
     "data": {
      "text/plain": [
       "True"
      ]
     },
     "execution_count": 26,
     "metadata": {},
     "output_type": "execute_result"
    }
   ],
   "source": [
    "def func_compound():\n",
    "    body = 'simple body of function + and compound statement'  # body of function\n",
    "    # expression_compound0_statement \n",
    "    for i in body:                # expression_compound0_statement\n",
    "        if i == 'o':              # expression_compound1_statement\n",
    "            return True           # expression_compound1_statement\n",
    "    return False                    # expression_compound0_statement\n",
    "func_compound()                   # function call or execution or invocation"
   ]
  },
  {
   "cell_type": "markdown",
   "metadata": {},
   "source": [
    "# There are 2 Main types of functions in python\n",
    "1. Built-in functions\n",
    "2. User-defined functions\n",
    "\n",
    "### 1. Built-in functions Further divided into 3 types\n",
    "- 1.1. Math functions( math, random, statistics, etc)\n",
    "- 1.2. Type conversion functions( int, float, str, etc)\n",
    "- 1.3. Input/Output functions( print, input, etc)\n",
    "\n",
    "### 2. User-defined functions Further divided into 2 types\n",
    "- 1.1 Traditional functions\n",
    "- 1.2 PURE functions\n",
    "\n"
   ]
  },
  {
   "cell_type": "markdown",
   "metadata": {},
   "source": [
    "### Traditional functions\n",
    "- Traditional functions are those functions that have access to global variables and can change the value of the arguments and return a value as a result of the function\n"
   ]
  },
  {
   "cell_type": "code",
   "execution_count": 32,
   "metadata": {},
   "outputs": [
    {
     "name": "stdout",
     "output_type": "stream",
     "text": [
      "30\n",
      "30\n",
      "30\n"
     ]
    }
   ],
   "source": [
    "# Example of Traditional function according above definitio\n",
    "# golbal variable\n",
    "a = 10\n",
    "b = 20\n",
    "def add():\n",
    "    c = a + b\n",
    "    return c\n",
    "print(add())\n",
    "# how it access the global variable ?\n",
    "# 1. it will first check in local scope if not found then it will check in global scope\n",
    "# 2. if not found in global scope then it will check in built-in scope\n",
    "# 3. if not found in built-in scope then it will throw an error\n",
    "\n",
    "# Example of Traditional function according above definitio with parameter\n",
    "def add(a,b):\n",
    "    c = a + b\n",
    "    return c\n",
    "print(add(10,20))\n",
    "\n",
    "# Example of Traditional function according above definitio with parameter and default value\n",
    "def add(a=10,b=20):\n",
    "    c = a + b\n",
    "    return c\n",
    "print(add())\n"
   ]
  },
  {
   "cell_type": "markdown",
   "metadata": {},
   "source": [
    "### Pure functions\n",
    "- Pure functions are those functions that do not have access to global variables and do not change the value of the arguments and return a value as a result of the function\n",
    "- Pure functions are also called stateless functions because they do not change the state of the program\n",
    "- Pure functions are also called deterministic functions because they always return the same output for the same inp### Traditional functions\n",
    "- Traditional functions are those functions that have access to global variables and can change the value of the arguments and return a value as a result of the function\n",
    "ut\n",
    "- Pure functions are also called idempotent functions because they always return the same output for the same input\n",
    "- Pure functions are also called referentially transparent functions because they always return the same output for the same input\n",
    "- Pure functions are also called testable functions because they always return the same output for the same input\n",
    "- "
   ]
  },
  {
   "cell_type": "code",
   "execution_count": 37,
   "metadata": {},
   "outputs": [
    {
     "name": "stdout",
     "output_type": "stream",
     "text": [
      "30\n",
      "30\n",
      "30\n"
     ]
    }
   ],
   "source": [
    "# Example of Pure function according above definitio\n",
    "# test case 1 : global variable\n",
    "a=10\n",
    "b=20\n",
    "def add():\n",
    "    c = a + b\n",
    "    return c\n",
    "print(add())\n",
    "# so what is difference between traditional function and pure function ?\n",
    "# 1. pure function does not depend on global variable or any other variable it only depend on parameter\n",
    "# 2. pure function always return same value for same parameter value\n",
    "# 3. pure function does not have any side effect on other variable\n",
    "\n",
    "# Example of Pure function according above definitio with parameter\n",
    "def add(a,b):\n",
    "    c = a + b\n",
    "    return c\n",
    "print(add(10,20))\n",
    "\n",
    "\n",
    "# Example of Pure function according above definitio with parameter and default value\n",
    "def add(a=10,b=20):\n",
    "    c = a + b\n",
    "    return c\n",
    "print(add())\n"
   ]
  },
  {
   "cell_type": "markdown",
   "metadata": {},
   "source": [
    "# There are 4 types of functions in python\n",
    "1. No Input No Output (not argument not return value)\n",
    "2. No Input Has Output (not argument but return value)\n",
    "3. Has Input No Output (argument but not return value)\n",
    "4. Has Input Has Output (argument and return value)\n"
   ]
  },
  {
   "cell_type": "markdown",
   "metadata": {},
   "source": [
    "In Python, functions can be categorized based on whether they take arguments (inputs) and whether they return a value (outputs). Here are examples of the four types of functions:\n",
    "\n",
    "---\n",
    "\n",
    "### 1. **No Input No Output (No Arguments, No Return Value)**\n",
    "\n",
    "A function that doesn't take any input and doesn't return a value. It simply performs an action.\n",
    "\n",
    "```python\n",
    "def greet():\n",
    "    print(\"Hello, welcome to Python!\")\n",
    "    \n",
    "# Calling the function\n",
    "greet()\n",
    "```\n",
    "\n",
    "- **Explanation**: This function doesn't require any input parameters and doesn't return any value. It just prints a message.\n",
    "\n",
    "---\n",
    "\n",
    "### 2. **No Input Has Output (No Arguments, Returns a Value)**\n",
    "\n",
    "A function that doesn't take any input but returns a value.\n",
    "\n",
    "```python\n",
    "def get_current_year():\n",
    "    from datetime import datetime\n",
    "    return datetime.now().year\n",
    "\n",
    "# Calling the function and storing the returned value\n",
    "year = get_current_year()\n",
    "print(\"The current year is:\", year)\n",
    "```\n",
    "\n",
    "- **Explanation**: This function doesn't take any parameters, but it returns the current year as output.\n",
    "\n",
    "---\n",
    "\n",
    "### 3. **Has Input No Output (Takes Arguments, No Return Value)**\n",
    "\n",
    "A function that takes input parameters but does not return any value.\n",
    "\n",
    "```python\n",
    "def display_user_info(name, age):\n",
    "    print(f\"User Name: {name}, Age: {age}\")\n",
    "\n",
    "# Calling the function with arguments\n",
    "display_user_info(\"Alice\", 25)\n",
    "\n",
    "# in which we print the user information but we don't return anything like we didn't share the user information with anyone\n",
    "```\n",
    "\n",
    "- **Explanation**: This function accepts input (name and age) but doesn't return a value. It simply prints the user's information.\n",
    "\n",
    "---\n",
    "\n",
    "### 4. **Has Input Has Output (Takes Arguments, Returns a Value)**\n",
    "\n",
    "A function that takes input parameters and also returns a value.\n",
    "\n",
    "```python\n",
    "def add_numbers(a, b):\n",
    "    return a + b\n",
    "\n",
    "# Calling the function with arguments and storing the returned value\n",
    "result = add_numbers(10, 5)\n",
    "print(\"The sum is:\", result)\n",
    "```\n",
    "\n",
    "- **Explanation**: This function accepts two numbers as input, adds them, and returns the result.\n",
    "\n",
    "---\n",
    "\n",
    "### Differences:\n",
    "\n",
    "| **Type**                          | **Has Input (Arguments)** | **Has Output (Return Value)** | **Example Usage**               |\n",
    "|------------------------------------|---------------------------|-------------------------------|----------------------------------|\n",
    "| **No Input, No Output**            | No                        | No                            | Simple tasks (e.g., printing)   |\n",
    "| **No Input, Has Output**           | No                        | Yes                           | Calculating data without input  |\n",
    "| **Has Input, No Output**           | Yes                       | No                            | Actions that rely on input but don't return anything |\n",
    "| **Has Input, Has Output**          | Yes                       | Yes                           | Data processing and calculations that require input and return results |\n",
    "\n",
    "The primary difference between these types is whether the function takes input (arguments) and whether it returns a value (output). The function design depends on the specific requirements of the task."
   ]
  },
  {
   "cell_type": "markdown",
   "metadata": {},
   "source": [
    "# Parameter in Python Functions\n",
    "- Parameters are the variables that are defined in the function definition as placeholders for the actual values that will be passed to the function when it is called and it receives the value of the arguments that are passed to the function when it is called\n",
    "- Parameters are also called formal parameters or formal arguments\n",
    "\n",
    "# Arguments in Python Functions \n",
    "- Arguments are the actual values that are passed to the function when it is called and it is the value that is passed to the function when it is called\n",
    "- Arguments are also called actual parameters or actual arguments\n",
    "- Arguments are the values that are passed to the function when it is called\n",
    "\n",
    "# Types of Parameters in Python Functions\n",
    "1. Positional Parameters\n",
    "2. Default Parameters\n",
    "3. Variable-length Parameters\n",
    "4. Keyword Parameters\n",
    "5. Arbitrary Parameters\n",
    "6. Arbitrary Keyword Parameters\n",
    "7. Required Parameters\n",
    "8. Optional Parameters\n",
    "9. Named Parameters\n",
    "10. Unnamed Parameters\n",
    "11. Formal Parameters\n",
    "12. Actual Parameters\n",
    "13. Named Arguments\n",
    "14. Unnamed Arguments\n",
    "15. Keyword Arguments\n",
    "16. Positional Arguments\n",
    "17. Required Arguments\n",
    "18. Optional Arguments\n",
    "19. Default Arguments\n",
    "20. Variable-length Arguments\n",
    "21. Arbitrary Arguments\n",
    "22. Arbitrary Keyword Arguments\n",
    "23. Formal Arguments\n",
    "24. Actual Arguments\n",
    "\n"
   ]
  },
  {
   "cell_type": "code",
   "execution_count": 46,
   "metadata": {},
   "outputs": [
    {
     "name": "stdout",
     "output_type": "stream",
     "text": [
      "30\n"
     ]
    }
   ],
   "source": [
    "# Positional Parameter\n",
    "def add(a,b):  # a and b are positional parameter\n",
    "    c = a + b\n",
    "    return c\n",
    "print(add(10,20))  # 10 and 20 are positional argument"
   ]
  },
  {
   "cell_type": "code",
   "execution_count": 47,
   "metadata": {},
   "outputs": [
    {
     "name": "stdout",
     "output_type": "stream",
     "text": [
      "30\n"
     ]
    }
   ],
   "source": [
    "# Keyword Parameter\n",
    "def add(a,b):  # a and b are positional parameter or formal parameter or formal argument\n",
    "    c = a + b\n",
    "    return c\n",
    "print(add(b=10,a=20))  # 10 and 20 are keyword argument or named argument or keyword parameter"
   ]
  },
  {
   "cell_type": "code",
   "execution_count": 48,
   "metadata": {},
   "outputs": [
    {
     "name": "stdout",
     "output_type": "stream",
     "text": [
      "30\n"
     ]
    }
   ],
   "source": [
    "# Default Parameter \n",
    "def add(a=10,b=20):  # a and b are default parameter\n",
    "    c = a + b\n",
    "    return c\n",
    "print(add())  # 10 and 20 are default argument"
   ]
  },
  {
   "cell_type": "code",
   "execution_count": 73,
   "metadata": {},
   "outputs": [
    {
     "name": "stdout",
     "output_type": "stream",
     "text": [
      "150\n",
      "10\n",
      "(20, 30, 40, 50)\n",
      "<class 'tuple'>\n"
     ]
    }
   ],
   "source": [
    "# Variable Length Argument  or *args  it backed by tuple\n",
    "def add(*a):  # *a is variable length argument\n",
    "    c = 0\n",
    "    for i in a:\n",
    "        c = c + i\n",
    "    return c\n",
    "print(add(10,20,30,40,50))  # 10,20,30,40,50 are variable length argument\n",
    "\n",
    "# another example of variable length argument\n",
    "def add(a,*b):  # *b is variable length argument\n",
    "    print(a)\n",
    "    print(b)\n",
    "    print(type(b))\n",
    "add(10,20,30,40,50)  # 10,20,30,40,50 are variable length\n",
    "\n"
   ]
  },
  {
   "cell_type": "code",
   "execution_count": 71,
   "metadata": {},
   "outputs": [
    {
     "name": "stdout",
     "output_type": "stream",
     "text": [
      "150\n",
      "10\n",
      "20\n",
      "{'name': 'sachin', 'age': 23, 'city': 'jaipur', 'country': 'india'}\n",
      "<class 'dict'>\n"
     ]
    }
   ],
   "source": [
    "# Variable Length Keyword Argument  or *kwargs  it backed by dictionary \n",
    "def add(**a):  # **a is variable length keyword argument\n",
    "    c = 0\n",
    "    for i in a.values():\n",
    "        c = c + i\n",
    "    return c\n",
    "print(add(a=10,b=20,c=30,d=40,e=50))  # a=10,b=20,c=30,d=40,e=50 are variable length keyword argument\n",
    "\n",
    "# here is a is variable length keyword argument means it can take any number of keyword argument\n",
    "# and it will store in a dictionary format like {'a':10,'b':20,'c':30,'d':40,'e':50} but we defined **a and it will store in a and\n",
    "# remaining b,c,d,e will be stored in a dictionary format like {'b':20,'c':30,'d':40,'e':50}\n",
    "# like if we print a then it will print {'a':10} and if we print b then it will print {'b':20,'c':30,'d':40,'e':50}\n",
    "print(a)\n",
    "print(b)\n",
    "\n",
    "# here is anohter example of variable length keyword argument\n",
    "def info(**data):\n",
    "    print(data)\n",
    "    print(type(data))\n",
    "info(name='sachin',age=23,city='jaipur',country='india')\n"
   ]
  },
  {
   "cell_type": "code",
   "execution_count": 66,
   "metadata": {},
   "outputs": [
    {
     "name": "stdout",
     "output_type": "stream",
     "text": [
      "150\n"
     ]
    }
   ],
   "source": [
    "# Arbitrary Argument\n",
    "def add(a,b,*c):  # *c is arbitrary argument\n",
    "    d = 0\n",
    "    for i in c:\n",
    "        d = d + i\n",
    "    return a + b + d\n",
    "print(add(10,20,30,40,50))  # 10,20,30,40,50 are arbitrary"
   ]
  },
  {
   "cell_type": "code",
   "execution_count": 67,
   "metadata": {},
   "outputs": [
    {
     "name": "stdout",
     "output_type": "stream",
     "text": [
      "150\n"
     ]
    }
   ],
   "source": [
    "# Arbitrary Keyword Argument\n",
    "def add(a,b,**c):  # **c is arbitrary keyword argument\n",
    "    d = 0\n",
    "    for i in c.values():\n",
    "        d = d + i\n",
    "    return a + b + d\n",
    "print(add(10,20,c=30,d=40,e=50))  # 10,20,c=30,d=40,e=50 are arbitrary keyword"
   ]
  },
  {
   "cell_type": "code",
   "execution_count": 68,
   "metadata": {},
   "outputs": [
    {
     "name": "stdout",
     "output_type": "stream",
     "text": [
      "30\n"
     ]
    }
   ],
   "source": [
    "# positinal only argument\n",
    "def add(a,b,/):  # / means positional only argument a,b are positional only argument and c is keyword argument\n",
    "    # when we use / then it will not allow to use keyword argument before (a=10,b=20) it will throw an error it acept only(10,20)\n",
    "    return a + b \n",
    "print(add(10,20,))  # 10,20 are positional argument and c=30 is keyword argument"
   ]
  },
  {
   "cell_type": "code",
   "execution_count": 69,
   "metadata": {},
   "outputs": [
    {
     "name": "stdout",
     "output_type": "stream",
     "text": [
      "30\n"
     ]
    }
   ],
   "source": [
    "# keyword only argument\n",
    "def add(*,a,b):  # a and b are keyword only argument \n",
    "    # when we use * then it will not allow to use positional argument after (10,20) it will throw an error it acept only(a=10,b=20)\n",
    "    return a + b\n",
    "print(add(a=10,b=20))  # a=10,b=20 are keyword argument"
   ]
  },
  {
   "cell_type": "code",
   "execution_count": null,
   "metadata": {},
   "outputs": [],
   "source": []
  },
  {
   "cell_type": "code",
   "execution_count": null,
   "metadata": {},
   "outputs": [],
   "source": []
  },
  {
   "cell_type": "code",
   "execution_count": null,
   "metadata": {},
   "outputs": [],
   "source": []
  },
  {
   "cell_type": "code",
   "execution_count": null,
   "metadata": {},
   "outputs": [],
   "source": []
  },
  {
   "cell_type": "code",
   "execution_count": null,
   "metadata": {},
   "outputs": [],
   "source": []
  },
  {
   "cell_type": "code",
   "execution_count": null,
   "metadata": {},
   "outputs": [],
   "source": []
  }
 ],
 "metadata": {
  "kernelspec": {
   "display_name": "base",
   "language": "python",
   "name": "python3"
  },
  "language_info": {
   "codemirror_mode": {
    "name": "ipython",
    "version": 3
   },
   "file_extension": ".py",
   "mimetype": "text/x-python",
   "name": "python",
   "nbconvert_exporter": "python",
   "pygments_lexer": "ipython3",
   "version": "3.12.4"
  }
 },
 "nbformat": 4,
 "nbformat_minor": 2
}
