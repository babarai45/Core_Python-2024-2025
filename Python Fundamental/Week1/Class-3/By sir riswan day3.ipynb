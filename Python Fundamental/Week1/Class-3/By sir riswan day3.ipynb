{
 "cells": [
  {
   "metadata": {},
   "cell_type": "markdown",
   "source": [
    "# Python Variables \n",
    "-   python variable is name to store values \n",
    "-   variable and values can be changed \n",
    "-   value can be any size and any datatype\n",
    "## Why Ask Python is Dynamically Language:\n",
    "-    pyhon is dynamically language because when we assign a value to a variable then we did not assign any data type like(int,float etc.\n",
    "- when python code is run it automatically assign datatype according to value\n",
    "- ``` python\n",
    "  a=5     # python  here is not assign data type\n",
    "  int a=5;  # c++ or static language \n",
    "  ```\n",
    "### Most common 5 types :\n",
    "-   int  or integer (negative or positive values)  \n",
    "-   float or decimal (negative or positive values in points)\n",
    "-   bool or boolean  (0,1 or True or False)\n",
    "-   string or text (\"hello world \")\n",
    "-    complex (1+2j)\n",
    "###### These Above data types also called primitive data types because it stores singles values \n",
    "\n",
    "### Further  divide into five types \n",
    "1.  Numerica datatype(int,float,complex)\n",
    "2.  boolean (bool,true or false)\n",
    "3.  set(set or frozenset)\n",
    "4.  Mapping or dict(dictionary)\n",
    "5. Sequence (list,tuple,range,sting)\n",
    "6. optional None,Bytes,Collection data types \n",
    "\n",
    "#### These data types further divide into 2 :\n",
    "##### - MUTABLE(change able)\n",
    "##### - IMMUTABLE (not change able )\n",
    "   "
   ],
   "id": "db66c5e5ddf06a8b"
  },
  {
   "metadata": {
    "ExecuteTime": {
     "end_time": "2024-04-02T14:23:13.540295Z",
     "start_time": "2024-04-02T14:23:13.527111Z"
    }
   },
   "cell_type": "code",
   "source": [
    "# Data type int or integer \n",
    "a=5  # int\n",
    "b=-6 # int\n",
    "# to check data types  we use Builtin function type()\n",
    "print(\"a and its type is \",type(a))\n",
    "print(\"b and its type is \",type(b))\n",
    "# we can assign multiple values of single variable like this \n",
    "a =2,4 # and it returns tuple \n",
    "print(\"values of a is and its type is \",a,type(a))\n",
    "# we can declare multi variable with different values in one line \n",
    "a =2;b=3;c=4;d=5;e=6;f=7;\n",
    "print(a,b,c,d,e,f)\n",
    "# we can declare multi variable with same value in one line \n",
    "a=b=c=d=e=10\n",
    "print(a,b,c,d,e)\n",
    "# simple swapping\n",
    "a=10\n",
    "b=20\n",
    "print(\"Before swapping value of a and b\",a,b,)\n",
    "a,b=b,a\n",
    "print(\"After swapping value of a and b\",a,b)\n",
    "# simple addition\n",
    "a=10\n",
    "b=20\n",
    "c=a+b\n",
    "print(\"addition of a and b is\",c)"
   ],
   "id": "6317a9d41dd86066",
   "outputs": [
    {
     "name": "stdout",
     "output_type": "stream",
     "text": [
      "a and its type is  <class 'int'>\n",
      "b and its type is  <class 'int'>\n",
      "values of a is and its type is  (2, 4) <class 'tuple'>\n",
      "2 3 4 5 6 7\n",
      "10 10 10 10 10\n",
      "Before swapping value of a and b 10 20\n",
      "After swapping value of a and b 20 10\n",
      "addition of a and b is 30\n"
     ]
    }
   ],
   "execution_count": 5
  },
  {
   "metadata": {
    "ExecuteTime": {
     "end_time": "2024-04-03T03:50:55.094152Z",
     "start_time": "2024-04-03T03:50:40.407949Z"
    }
   },
   "cell_type": "code",
   "source": [
    "# Write a function that takes two integers and returns their sum as a complex number.\n",
    "a=20\n",
    "b=10\n",
    "c=a+b\n",
    "print(\"Ans-1: sum as complex numbers \",complex(c))\n",
    "\n",
    "# Implement a program that prompts the user to enter a sequence of numbers (integers and floats) and calculates the sum of all even numbers and the product of all odd numbers.\n",
    "print(\"method 1--------------------\")\n",
    "user_input = input(\"Enter a sequence of numbers integer or float: \")\n",
    "print(user_input)\n",
    "new_user_input = user_input.split()\n",
    "sum_of_all_even_numbers=0\n",
    "Product_of_all_odd_numbers=1 # here 1 is added because  we act as multiplication  \n",
    "for i in new_user_input:\n",
    "    num=float(i)\n",
    "    if num%2==0:\n",
    "        sum_of_all_even_numbers += num\n",
    "    else:\n",
    "        Product_of_all_odd_numbers *= num\n",
    "print(\"sum of even\",sum_of_all_even_numbers)\n",
    "print(\"product od off\",Product_of_all_odd_numbers)\n",
    "\n",
    "# but minimum line of code by list comprehensive\n",
    "print(\"method 2------------------\")\n",
    "sum_of_all_even_numbers=0\n",
    "Product_of_all_odd_numbers=1\n",
    "numbers = [float(x) for x in user_input.split()]  # Convert input string into a list of floats\n",
    "for n in numbers:\n",
    "    if n%2==0:\n",
    "        sum_of_all_even_numbers += n\n",
    "    else:\n",
    "        Product_of_all_odd_numbers *= n\n",
    "print(\"product od off\",Product_of_all_odd_numbers)\n",
    "print(\"sum of even\",sum_of_all_even_numbers)\n",
    "        \n",
    "        \n",
    "\n",
    "\n",
    "# Create a program that prompts the user to enter a string and converts it to a float if possible, or prints an error message if the string cannot be converted.\n",
    "# Write a function that takes two integers and returns their product, but returns the keyword None if either input is negative.\n",
    "# Implement a program that takes a list of complex numbers and returns a new list with only the imaginary parts of those complex numbers.\n",
    "# Create a function that takes a boolean expression as a string (e.g., \"True and False or not (True)\") and evaluates it, returning the result as a boolean.\n",
    "# Write a program that prompts the user to enter a sequence of integers and floats, and prints the sum of all numbers that are greater than 10 and the product of all numbers that are less than or equal to 10.\n",
    "# Implement a function that takes two integers and returns their quotient as a float, but returns the keyword ZeroDivisionError if the divisor is zero.\n",
    "# Create a program that takes a list of strings and converts all strings that can be converted to integers or floats, leaving the rest as strings.\n",
    "# Write a function that takes a boolean value and two integers, and returns the sum of the integers if the boolean is True, or their difference if the boolean is False.\n",
    "# Implement a program that prompts the user to enter a complex number and converts it to its polar form (magnitude and angle).\n",
    "# Create a function that takes a list of integers and returns a new list with all even integers converted to complex numbers with a real part equal to the original number and an imaginary part of 0.\n",
    "# Write a program that takes a string of arithmetic expressions (e.g., \"2 + 3 * 4 - 5\") and evaluates it, printing the result.\n",
    "# Implement a function that takes two integers and returns their bitwise AND, OR, and XOR operations as a tuple.\n",
    "# Create a program that prompts the user to enter a sequence of integers and floats, and prints the sum of all numbers that are divisible by 3 and the product of all numbers that are not divisible by 3.\n",
    "# Write a function that takes a boolean value and two complex numbers, and returns their sum if the boolean is True, or their difference if the boolean is False.\n",
    "# Implement a program that takes a list of integers and a target integer, and returns a boolean indicating whether any three numbers in the list add up to the target."
   ],
   "id": "11bff60ac8f0958f",
   "outputs": [
    {
     "name": "stdout",
     "output_type": "stream",
     "text": [
      "Ans-1: sum as complex numbers  (30+0j)\n",
      "method 1--------------------\n",
      "23 4 5\n",
      "sum of even 4.0\n",
      "product od off 115.0\n",
      "method 2------------------\n",
      "product od off 115.0\n",
      "sum of even 4.0\n",
      "false\n"
     ]
    }
   ],
   "execution_count": 17
  },
  {
   "metadata": {
    "ExecuteTime": {
     "end_time": "2024-04-03T04:31:20.680520Z",
     "start_time": "2024-04-03T04:31:08.802412Z"
    }
   },
   "cell_type": "code",
   "source": [
    "# Create a function that takes a boolean value and a string as input, and returns the string if the boolean is True, or the length of the string if the boolean is False.\n",
    "\n",
    "user_input_bool =input(\"Boolean value:\").lower()\n",
    "user_input_string =input(\"String value\")\n",
    "if user_input_bool == 'true':\n",
    "    print(user_input_string)\n",
    "else:\n",
    "    print(len(user_input_string))"
   ],
   "id": "991b7ece77b05ad6",
   "outputs": [
    {
     "name": "stdout",
     "output_type": "stream",
     "text": [
      "5\n"
     ]
    }
   ],
   "execution_count": 38
  },
  {
   "metadata": {
    "ExecuteTime": {
     "end_time": "2024-04-03T05:06:17.414191Z",
     "start_time": "2024-04-03T05:06:11.610245Z"
    }
   },
   "cell_type": "code",
   "source": [
    "# Write a program that takes a list of integers and a target integer as input, and returns a boolean indicating whether any two numbers in the list add up to the target.\n",
    "input_list = list(input(\"enter list of integer\"))\n",
    "target= int(input(\"enter target value  \"))\n",
    "for i in input_list:\n",
    " \n",
    "\n",
    "\n"
   ],
   "id": "b31e8630bc16922e",
   "outputs": [
    {
     "name": "stdout",
     "output_type": "stream",
     "text": [
      "1\n",
      "2\n",
      "3\n",
      "4\n",
      "5\n"
     ]
    }
   ],
   "execution_count": 41
  },
  {
   "metadata": {
    "ExecuteTime": {
     "end_time": "2024-04-06T10:52:04.969028Z",
     "start_time": "2024-04-06T10:52:01.989591Z"
    }
   },
   "cell_type": "code",
   "source": [
    "# Implement a function that takes a complex number and returns its absolute value as a float.\n",
    "user_complex=complex(input(\"enter complex number\"))\n",
    "fl=user_complex.real\n",
    "print(user_complex)\n",
    "print(fl)\n",
    "print(type(user_complex))"
   ],
   "id": "35194666c3908571",
   "outputs": [
    {
     "name": "stdout",
     "output_type": "stream",
     "text": [
      "(56+0j)\n",
      "56.0\n",
      "<class 'complex'>\n"
     ]
    }
   ],
   "execution_count": 12
  },
  {
   "metadata": {
    "ExecuteTime": {
     "end_time": "2024-04-06T10:47:40.927787Z",
     "start_time": "2024-04-06T10:47:40.921113Z"
    }
   },
   "cell_type": "code",
   "source": "",
   "id": "c14abfd6cfcdf709",
   "outputs": [],
   "execution_count": 7
  },
  {
   "metadata": {},
   "cell_type": "code",
   "outputs": [],
   "execution_count": null,
   "source": "",
   "id": "8898a72eb8e1a23f"
  }
 ],
 "metadata": {
  "kernelspec": {
   "display_name": "Python 3",
   "language": "python",
   "name": "python3"
  },
  "language_info": {
   "codemirror_mode": {
    "name": "ipython",
    "version": 2
   },
   "file_extension": ".py",
   "mimetype": "text/x-python",
   "name": "python",
   "nbconvert_exporter": "python",
   "pygments_lexer": "ipython2",
   "version": "2.7.6"
  }
 },
 "nbformat": 4,
 "nbformat_minor": 5
}
